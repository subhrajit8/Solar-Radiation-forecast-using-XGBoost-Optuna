{
 "cells": [
  {
   "cell_type": "code",
   "execution_count": 1,
   "id": "21a6785d",
   "metadata": {},
   "outputs": [],
   "source": [
    "import pandas as pd\n",
    "import numpy as np\n",
    "from datetime import datetime,timedelta\n",
    "import seaborn as sns\n",
    "import matplotlib.pyplot as plt\n",
    "%matplotlib inline"
   ]
  },
  {
   "cell_type": "code",
   "execution_count": 2,
   "id": "672be70b",
   "metadata": {},
   "outputs": [
    {
     "data": {
      "text/html": [
       "<div>\n",
       "<style scoped>\n",
       "    .dataframe tbody tr th:only-of-type {\n",
       "        vertical-align: middle;\n",
       "    }\n",
       "\n",
       "    .dataframe tbody tr th {\n",
       "        vertical-align: top;\n",
       "    }\n",
       "\n",
       "    .dataframe thead th {\n",
       "        text-align: right;\n",
       "    }\n",
       "</style>\n",
       "<table border=\"1\" class=\"dataframe\">\n",
       "  <thead>\n",
       "    <tr style=\"text-align: right;\">\n",
       "      <th></th>\n",
       "      <th>UNIXTime</th>\n",
       "      <th>Data</th>\n",
       "      <th>Time</th>\n",
       "      <th>Radiation</th>\n",
       "      <th>Temperature</th>\n",
       "      <th>Pressure</th>\n",
       "      <th>Humidity</th>\n",
       "      <th>WindDirection(Degrees)</th>\n",
       "      <th>Speed</th>\n",
       "      <th>TimeSunRise</th>\n",
       "      <th>TimeSunSet</th>\n",
       "    </tr>\n",
       "  </thead>\n",
       "  <tbody>\n",
       "    <tr>\n",
       "      <th>0</th>\n",
       "      <td>1475229326</td>\n",
       "      <td>9/29/2016 12:00:00 AM</td>\n",
       "      <td>23:55:26</td>\n",
       "      <td>1.21</td>\n",
       "      <td>48</td>\n",
       "      <td>30.46</td>\n",
       "      <td>59</td>\n",
       "      <td>177.39</td>\n",
       "      <td>5.62</td>\n",
       "      <td>06:13:00</td>\n",
       "      <td>18:13:00</td>\n",
       "    </tr>\n",
       "    <tr>\n",
       "      <th>1</th>\n",
       "      <td>1475229023</td>\n",
       "      <td>9/29/2016 12:00:00 AM</td>\n",
       "      <td>23:50:23</td>\n",
       "      <td>1.21</td>\n",
       "      <td>48</td>\n",
       "      <td>30.46</td>\n",
       "      <td>58</td>\n",
       "      <td>176.78</td>\n",
       "      <td>3.37</td>\n",
       "      <td>06:13:00</td>\n",
       "      <td>18:13:00</td>\n",
       "    </tr>\n",
       "    <tr>\n",
       "      <th>2</th>\n",
       "      <td>1475228726</td>\n",
       "      <td>9/29/2016 12:00:00 AM</td>\n",
       "      <td>23:45:26</td>\n",
       "      <td>1.23</td>\n",
       "      <td>48</td>\n",
       "      <td>30.46</td>\n",
       "      <td>57</td>\n",
       "      <td>158.75</td>\n",
       "      <td>3.37</td>\n",
       "      <td>06:13:00</td>\n",
       "      <td>18:13:00</td>\n",
       "    </tr>\n",
       "    <tr>\n",
       "      <th>3</th>\n",
       "      <td>1475228421</td>\n",
       "      <td>9/29/2016 12:00:00 AM</td>\n",
       "      <td>23:40:21</td>\n",
       "      <td>1.21</td>\n",
       "      <td>48</td>\n",
       "      <td>30.46</td>\n",
       "      <td>60</td>\n",
       "      <td>137.71</td>\n",
       "      <td>3.37</td>\n",
       "      <td>06:13:00</td>\n",
       "      <td>18:13:00</td>\n",
       "    </tr>\n",
       "    <tr>\n",
       "      <th>4</th>\n",
       "      <td>1475228124</td>\n",
       "      <td>9/29/2016 12:00:00 AM</td>\n",
       "      <td>23:35:24</td>\n",
       "      <td>1.17</td>\n",
       "      <td>48</td>\n",
       "      <td>30.46</td>\n",
       "      <td>62</td>\n",
       "      <td>104.95</td>\n",
       "      <td>5.62</td>\n",
       "      <td>06:13:00</td>\n",
       "      <td>18:13:00</td>\n",
       "    </tr>\n",
       "    <tr>\n",
       "      <th>...</th>\n",
       "      <td>...</td>\n",
       "      <td>...</td>\n",
       "      <td>...</td>\n",
       "      <td>...</td>\n",
       "      <td>...</td>\n",
       "      <td>...</td>\n",
       "      <td>...</td>\n",
       "      <td>...</td>\n",
       "      <td>...</td>\n",
       "      <td>...</td>\n",
       "      <td>...</td>\n",
       "    </tr>\n",
       "    <tr>\n",
       "      <th>32681</th>\n",
       "      <td>1480587604</td>\n",
       "      <td>12/1/2016 12:00:00 AM</td>\n",
       "      <td>00:20:04</td>\n",
       "      <td>1.22</td>\n",
       "      <td>44</td>\n",
       "      <td>30.43</td>\n",
       "      <td>102</td>\n",
       "      <td>145.42</td>\n",
       "      <td>6.75</td>\n",
       "      <td>06:41:00</td>\n",
       "      <td>17:42:00</td>\n",
       "    </tr>\n",
       "    <tr>\n",
       "      <th>32682</th>\n",
       "      <td>1480587301</td>\n",
       "      <td>12/1/2016 12:00:00 AM</td>\n",
       "      <td>00:15:01</td>\n",
       "      <td>1.17</td>\n",
       "      <td>44</td>\n",
       "      <td>30.42</td>\n",
       "      <td>102</td>\n",
       "      <td>117.78</td>\n",
       "      <td>6.75</td>\n",
       "      <td>06:41:00</td>\n",
       "      <td>17:42:00</td>\n",
       "    </tr>\n",
       "    <tr>\n",
       "      <th>32683</th>\n",
       "      <td>1480587001</td>\n",
       "      <td>12/1/2016 12:00:00 AM</td>\n",
       "      <td>00:10:01</td>\n",
       "      <td>1.20</td>\n",
       "      <td>44</td>\n",
       "      <td>30.42</td>\n",
       "      <td>102</td>\n",
       "      <td>145.19</td>\n",
       "      <td>9.00</td>\n",
       "      <td>06:41:00</td>\n",
       "      <td>17:42:00</td>\n",
       "    </tr>\n",
       "    <tr>\n",
       "      <th>32684</th>\n",
       "      <td>1480586702</td>\n",
       "      <td>12/1/2016 12:00:00 AM</td>\n",
       "      <td>00:05:02</td>\n",
       "      <td>1.23</td>\n",
       "      <td>44</td>\n",
       "      <td>30.42</td>\n",
       "      <td>101</td>\n",
       "      <td>164.19</td>\n",
       "      <td>7.87</td>\n",
       "      <td>06:41:00</td>\n",
       "      <td>17:42:00</td>\n",
       "    </tr>\n",
       "    <tr>\n",
       "      <th>32685</th>\n",
       "      <td>1480586402</td>\n",
       "      <td>12/1/2016 12:00:00 AM</td>\n",
       "      <td>00:00:02</td>\n",
       "      <td>1.20</td>\n",
       "      <td>44</td>\n",
       "      <td>30.43</td>\n",
       "      <td>101</td>\n",
       "      <td>83.59</td>\n",
       "      <td>3.37</td>\n",
       "      <td>06:41:00</td>\n",
       "      <td>17:42:00</td>\n",
       "    </tr>\n",
       "  </tbody>\n",
       "</table>\n",
       "<p>32686 rows × 11 columns</p>\n",
       "</div>"
      ],
      "text/plain": [
       "         UNIXTime                   Data      Time  Radiation  Temperature  \\\n",
       "0      1475229326  9/29/2016 12:00:00 AM  23:55:26       1.21           48   \n",
       "1      1475229023  9/29/2016 12:00:00 AM  23:50:23       1.21           48   \n",
       "2      1475228726  9/29/2016 12:00:00 AM  23:45:26       1.23           48   \n",
       "3      1475228421  9/29/2016 12:00:00 AM  23:40:21       1.21           48   \n",
       "4      1475228124  9/29/2016 12:00:00 AM  23:35:24       1.17           48   \n",
       "...           ...                    ...       ...        ...          ...   \n",
       "32681  1480587604  12/1/2016 12:00:00 AM  00:20:04       1.22           44   \n",
       "32682  1480587301  12/1/2016 12:00:00 AM  00:15:01       1.17           44   \n",
       "32683  1480587001  12/1/2016 12:00:00 AM  00:10:01       1.20           44   \n",
       "32684  1480586702  12/1/2016 12:00:00 AM  00:05:02       1.23           44   \n",
       "32685  1480586402  12/1/2016 12:00:00 AM  00:00:02       1.20           44   \n",
       "\n",
       "       Pressure  Humidity  WindDirection(Degrees)  Speed TimeSunRise  \\\n",
       "0         30.46        59                  177.39   5.62    06:13:00   \n",
       "1         30.46        58                  176.78   3.37    06:13:00   \n",
       "2         30.46        57                  158.75   3.37    06:13:00   \n",
       "3         30.46        60                  137.71   3.37    06:13:00   \n",
       "4         30.46        62                  104.95   5.62    06:13:00   \n",
       "...         ...       ...                     ...    ...         ...   \n",
       "32681     30.43       102                  145.42   6.75    06:41:00   \n",
       "32682     30.42       102                  117.78   6.75    06:41:00   \n",
       "32683     30.42       102                  145.19   9.00    06:41:00   \n",
       "32684     30.42       101                  164.19   7.87    06:41:00   \n",
       "32685     30.43       101                   83.59   3.37    06:41:00   \n",
       "\n",
       "      TimeSunSet  \n",
       "0       18:13:00  \n",
       "1       18:13:00  \n",
       "2       18:13:00  \n",
       "3       18:13:00  \n",
       "4       18:13:00  \n",
       "...          ...  \n",
       "32681   17:42:00  \n",
       "32682   17:42:00  \n",
       "32683   17:42:00  \n",
       "32684   17:42:00  \n",
       "32685   17:42:00  \n",
       "\n",
       "[32686 rows x 11 columns]"
      ]
     },
     "execution_count": 2,
     "metadata": {},
     "output_type": "execute_result"
    }
   ],
   "source": [
    "data = pd.read_csv('SolarPrediction.csv')\n",
    "data"
   ]
  },
  {
   "cell_type": "code",
   "execution_count": 3,
   "id": "4538badb",
   "metadata": {},
   "outputs": [
    {
     "data": {
      "text/html": [
       "<div>\n",
       "<style scoped>\n",
       "    .dataframe tbody tr th:only-of-type {\n",
       "        vertical-align: middle;\n",
       "    }\n",
       "\n",
       "    .dataframe tbody tr th {\n",
       "        vertical-align: top;\n",
       "    }\n",
       "\n",
       "    .dataframe thead th {\n",
       "        text-align: right;\n",
       "    }\n",
       "</style>\n",
       "<table border=\"1\" class=\"dataframe\">\n",
       "  <thead>\n",
       "    <tr style=\"text-align: right;\">\n",
       "      <th></th>\n",
       "      <th>UNIXTime</th>\n",
       "      <th>Date</th>\n",
       "      <th>Time</th>\n",
       "      <th>Radiation</th>\n",
       "      <th>Temperature</th>\n",
       "      <th>Pressure</th>\n",
       "      <th>Humidity</th>\n",
       "      <th>WindDirection(Degrees)</th>\n",
       "      <th>Speed</th>\n",
       "      <th>TimeSunRise</th>\n",
       "      <th>TimeSunSet</th>\n",
       "    </tr>\n",
       "  </thead>\n",
       "  <tbody>\n",
       "    <tr>\n",
       "      <th>0</th>\n",
       "      <td>1475229326</td>\n",
       "      <td>9/29/2016 12:00:00 AM</td>\n",
       "      <td>23:55:26</td>\n",
       "      <td>1.21</td>\n",
       "      <td>48</td>\n",
       "      <td>30.46</td>\n",
       "      <td>59</td>\n",
       "      <td>177.39</td>\n",
       "      <td>5.62</td>\n",
       "      <td>06:13:00</td>\n",
       "      <td>18:13:00</td>\n",
       "    </tr>\n",
       "    <tr>\n",
       "      <th>1</th>\n",
       "      <td>1475229023</td>\n",
       "      <td>9/29/2016 12:00:00 AM</td>\n",
       "      <td>23:50:23</td>\n",
       "      <td>1.21</td>\n",
       "      <td>48</td>\n",
       "      <td>30.46</td>\n",
       "      <td>58</td>\n",
       "      <td>176.78</td>\n",
       "      <td>3.37</td>\n",
       "      <td>06:13:00</td>\n",
       "      <td>18:13:00</td>\n",
       "    </tr>\n",
       "    <tr>\n",
       "      <th>2</th>\n",
       "      <td>1475228726</td>\n",
       "      <td>9/29/2016 12:00:00 AM</td>\n",
       "      <td>23:45:26</td>\n",
       "      <td>1.23</td>\n",
       "      <td>48</td>\n",
       "      <td>30.46</td>\n",
       "      <td>57</td>\n",
       "      <td>158.75</td>\n",
       "      <td>3.37</td>\n",
       "      <td>06:13:00</td>\n",
       "      <td>18:13:00</td>\n",
       "    </tr>\n",
       "    <tr>\n",
       "      <th>3</th>\n",
       "      <td>1475228421</td>\n",
       "      <td>9/29/2016 12:00:00 AM</td>\n",
       "      <td>23:40:21</td>\n",
       "      <td>1.21</td>\n",
       "      <td>48</td>\n",
       "      <td>30.46</td>\n",
       "      <td>60</td>\n",
       "      <td>137.71</td>\n",
       "      <td>3.37</td>\n",
       "      <td>06:13:00</td>\n",
       "      <td>18:13:00</td>\n",
       "    </tr>\n",
       "    <tr>\n",
       "      <th>4</th>\n",
       "      <td>1475228124</td>\n",
       "      <td>9/29/2016 12:00:00 AM</td>\n",
       "      <td>23:35:24</td>\n",
       "      <td>1.17</td>\n",
       "      <td>48</td>\n",
       "      <td>30.46</td>\n",
       "      <td>62</td>\n",
       "      <td>104.95</td>\n",
       "      <td>5.62</td>\n",
       "      <td>06:13:00</td>\n",
       "      <td>18:13:00</td>\n",
       "    </tr>\n",
       "    <tr>\n",
       "      <th>...</th>\n",
       "      <td>...</td>\n",
       "      <td>...</td>\n",
       "      <td>...</td>\n",
       "      <td>...</td>\n",
       "      <td>...</td>\n",
       "      <td>...</td>\n",
       "      <td>...</td>\n",
       "      <td>...</td>\n",
       "      <td>...</td>\n",
       "      <td>...</td>\n",
       "      <td>...</td>\n",
       "    </tr>\n",
       "    <tr>\n",
       "      <th>32681</th>\n",
       "      <td>1480587604</td>\n",
       "      <td>12/1/2016 12:00:00 AM</td>\n",
       "      <td>00:20:04</td>\n",
       "      <td>1.22</td>\n",
       "      <td>44</td>\n",
       "      <td>30.43</td>\n",
       "      <td>102</td>\n",
       "      <td>145.42</td>\n",
       "      <td>6.75</td>\n",
       "      <td>06:41:00</td>\n",
       "      <td>17:42:00</td>\n",
       "    </tr>\n",
       "    <tr>\n",
       "      <th>32682</th>\n",
       "      <td>1480587301</td>\n",
       "      <td>12/1/2016 12:00:00 AM</td>\n",
       "      <td>00:15:01</td>\n",
       "      <td>1.17</td>\n",
       "      <td>44</td>\n",
       "      <td>30.42</td>\n",
       "      <td>102</td>\n",
       "      <td>117.78</td>\n",
       "      <td>6.75</td>\n",
       "      <td>06:41:00</td>\n",
       "      <td>17:42:00</td>\n",
       "    </tr>\n",
       "    <tr>\n",
       "      <th>32683</th>\n",
       "      <td>1480587001</td>\n",
       "      <td>12/1/2016 12:00:00 AM</td>\n",
       "      <td>00:10:01</td>\n",
       "      <td>1.20</td>\n",
       "      <td>44</td>\n",
       "      <td>30.42</td>\n",
       "      <td>102</td>\n",
       "      <td>145.19</td>\n",
       "      <td>9.00</td>\n",
       "      <td>06:41:00</td>\n",
       "      <td>17:42:00</td>\n",
       "    </tr>\n",
       "    <tr>\n",
       "      <th>32684</th>\n",
       "      <td>1480586702</td>\n",
       "      <td>12/1/2016 12:00:00 AM</td>\n",
       "      <td>00:05:02</td>\n",
       "      <td>1.23</td>\n",
       "      <td>44</td>\n",
       "      <td>30.42</td>\n",
       "      <td>101</td>\n",
       "      <td>164.19</td>\n",
       "      <td>7.87</td>\n",
       "      <td>06:41:00</td>\n",
       "      <td>17:42:00</td>\n",
       "    </tr>\n",
       "    <tr>\n",
       "      <th>32685</th>\n",
       "      <td>1480586402</td>\n",
       "      <td>12/1/2016 12:00:00 AM</td>\n",
       "      <td>00:00:02</td>\n",
       "      <td>1.20</td>\n",
       "      <td>44</td>\n",
       "      <td>30.43</td>\n",
       "      <td>101</td>\n",
       "      <td>83.59</td>\n",
       "      <td>3.37</td>\n",
       "      <td>06:41:00</td>\n",
       "      <td>17:42:00</td>\n",
       "    </tr>\n",
       "  </tbody>\n",
       "</table>\n",
       "<p>32686 rows × 11 columns</p>\n",
       "</div>"
      ],
      "text/plain": [
       "         UNIXTime                   Date      Time  Radiation  Temperature  \\\n",
       "0      1475229326  9/29/2016 12:00:00 AM  23:55:26       1.21           48   \n",
       "1      1475229023  9/29/2016 12:00:00 AM  23:50:23       1.21           48   \n",
       "2      1475228726  9/29/2016 12:00:00 AM  23:45:26       1.23           48   \n",
       "3      1475228421  9/29/2016 12:00:00 AM  23:40:21       1.21           48   \n",
       "4      1475228124  9/29/2016 12:00:00 AM  23:35:24       1.17           48   \n",
       "...           ...                    ...       ...        ...          ...   \n",
       "32681  1480587604  12/1/2016 12:00:00 AM  00:20:04       1.22           44   \n",
       "32682  1480587301  12/1/2016 12:00:00 AM  00:15:01       1.17           44   \n",
       "32683  1480587001  12/1/2016 12:00:00 AM  00:10:01       1.20           44   \n",
       "32684  1480586702  12/1/2016 12:00:00 AM  00:05:02       1.23           44   \n",
       "32685  1480586402  12/1/2016 12:00:00 AM  00:00:02       1.20           44   \n",
       "\n",
       "       Pressure  Humidity  WindDirection(Degrees)  Speed TimeSunRise  \\\n",
       "0         30.46        59                  177.39   5.62    06:13:00   \n",
       "1         30.46        58                  176.78   3.37    06:13:00   \n",
       "2         30.46        57                  158.75   3.37    06:13:00   \n",
       "3         30.46        60                  137.71   3.37    06:13:00   \n",
       "4         30.46        62                  104.95   5.62    06:13:00   \n",
       "...         ...       ...                     ...    ...         ...   \n",
       "32681     30.43       102                  145.42   6.75    06:41:00   \n",
       "32682     30.42       102                  117.78   6.75    06:41:00   \n",
       "32683     30.42       102                  145.19   9.00    06:41:00   \n",
       "32684     30.42       101                  164.19   7.87    06:41:00   \n",
       "32685     30.43       101                   83.59   3.37    06:41:00   \n",
       "\n",
       "      TimeSunSet  \n",
       "0       18:13:00  \n",
       "1       18:13:00  \n",
       "2       18:13:00  \n",
       "3       18:13:00  \n",
       "4       18:13:00  \n",
       "...          ...  \n",
       "32681   17:42:00  \n",
       "32682   17:42:00  \n",
       "32683   17:42:00  \n",
       "32684   17:42:00  \n",
       "32685   17:42:00  \n",
       "\n",
       "[32686 rows x 11 columns]"
      ]
     },
     "execution_count": 3,
     "metadata": {},
     "output_type": "execute_result"
    }
   ],
   "source": [
    "data=data.rename({'Data':'Date'}, axis=1)\n",
    "data"
   ]
  },
  {
   "cell_type": "markdown",
   "id": "2cc95c18",
   "metadata": {},
   "source": [
    "# Data Exploration and Data Visualization"
   ]
  },
  {
   "cell_type": "code",
   "execution_count": 4,
   "id": "f598ff8d",
   "metadata": {},
   "outputs": [
    {
     "name": "stdout",
     "output_type": "stream",
     "text": [
      "<class 'pandas.core.frame.DataFrame'>\n",
      "RangeIndex: 32686 entries, 0 to 32685\n",
      "Data columns (total 11 columns):\n",
      " #   Column                  Non-Null Count  Dtype  \n",
      "---  ------                  --------------  -----  \n",
      " 0   UNIXTime                32686 non-null  int64  \n",
      " 1   Date                    32686 non-null  object \n",
      " 2   Time                    32686 non-null  object \n",
      " 3   Radiation               32686 non-null  float64\n",
      " 4   Temperature             32686 non-null  int64  \n",
      " 5   Pressure                32686 non-null  float64\n",
      " 6   Humidity                32686 non-null  int64  \n",
      " 7   WindDirection(Degrees)  32686 non-null  float64\n",
      " 8   Speed                   32686 non-null  float64\n",
      " 9   TimeSunRise             32686 non-null  object \n",
      " 10  TimeSunSet              32686 non-null  object \n",
      "dtypes: float64(4), int64(3), object(4)\n",
      "memory usage: 2.7+ MB\n"
     ]
    }
   ],
   "source": [
    "data.info()"
   ]
  },
  {
   "cell_type": "code",
   "execution_count": 5,
   "id": "37944cc2",
   "metadata": {},
   "outputs": [
    {
     "data": {
      "text/plain": [
       "UNIXTime                  0\n",
       "Date                      0\n",
       "Time                      0\n",
       "Radiation                 0\n",
       "Temperature               0\n",
       "Pressure                  0\n",
       "Humidity                  0\n",
       "WindDirection(Degrees)    0\n",
       "Speed                     0\n",
       "TimeSunRise               0\n",
       "TimeSunSet                0\n",
       "dtype: int64"
      ]
     },
     "execution_count": 5,
     "metadata": {},
     "output_type": "execute_result"
    }
   ],
   "source": [
    "data.isnull().sum()"
   ]
  },
  {
   "cell_type": "code",
   "execution_count": 6,
   "id": "2c580ada",
   "metadata": {},
   "outputs": [
    {
     "data": {
      "text/plain": [
       "Text(0.5, 1.0, 'Radiation versus Temperature')"
      ]
     },
     "execution_count": 6,
     "metadata": {},
     "output_type": "execute_result"
    },
    {
     "data": {
      "image/png": "[encoded data removed]",
      "text/plain": [
       "<Figure size 1008x576 with 1 Axes>"
      ]
     },
     "metadata": {},
     "output_type": "display_data"
    }
   ],
   "source": [
    "plt.figure(figsize=(14,8),facecolor='white')\n",
    "sns.barplot(x=data['Temperature'],y=data['Radiation'])\n",
    "plt.xlabel('Temperature (F)')\n",
    "plt.ylabel('Radiation (W/m2)')\n",
    "plt.title('Radiation versus Temperature')"
   ]
  },
  {
   "cell_type": "markdown",
   "id": "c273951e",
   "metadata": {},
   "source": [
    "As it can be seen increasing temperature almost always results in increasing of the Radiation."
   ]
  },
  {
   "cell_type": "code",
   "execution_count": 7,
   "id": "7d1dcb72",
   "metadata": {},
   "outputs": [
    {
     "data": {
      "image/png": "[encoded data removed]",
      "text/plain": [
       "<Figure size 1296x576 with 1 Axes>"
      ]
     },
     "metadata": {},
     "output_type": "display_data"
    }
   ],
   "source": [
    "plt.figure(figsize=(18,8),facecolor='white')\n",
    "sns.barplot(x=data['Humidity'],y=data['Radiation'],palette='crest')\n",
    "plt.xlabel('Humidity')\n",
    "plt.ylabel('Radiation (W/m2)')\n",
    "plt.title('Radiation versus Humidity')\n",
    "plt.xticks(rotation=90) # Rotating the readings on x-axis to avoid overlapping\n",
    "plt.show()"
   ]
  },
  {
   "cell_type": "markdown",
   "id": "3379d6dd",
   "metadata": {},
   "source": [
    "From the figure above we can see that there is no linear relationship between Radiation and Humidity."
   ]
  },
  {
   "cell_type": "markdown",
   "id": "b2c3b065",
   "metadata": {},
   "source": [
    "# Feature Engineering"
   ]
  },
  {
   "cell_type": "code",
   "execution_count": 8,
   "id": "9cbcf6e4",
   "metadata": {},
   "outputs": [
    {
     "data": {
      "text/html": [
       "<div>\n",
       "<style scoped>\n",
       "    .dataframe tbody tr th:only-of-type {\n",
       "        vertical-align: middle;\n",
       "    }\n",
       "\n",
       "    .dataframe tbody tr th {\n",
       "        vertical-align: top;\n",
       "    }\n",
       "\n",
       "    .dataframe thead th {\n",
       "        text-align: right;\n",
       "    }\n",
       "</style>\n",
       "<table border=\"1\" class=\"dataframe\">\n",
       "  <thead>\n",
       "    <tr style=\"text-align: right;\">\n",
       "      <th></th>\n",
       "      <th>UNIXTime</th>\n",
       "      <th>Time</th>\n",
       "      <th>Radiation</th>\n",
       "      <th>Temperature</th>\n",
       "      <th>Pressure</th>\n",
       "      <th>Humidity</th>\n",
       "      <th>WindDirection(Degrees)</th>\n",
       "      <th>Speed</th>\n",
       "      <th>TimeSunRise</th>\n",
       "      <th>TimeSunSet</th>\n",
       "      <th>Month</th>\n",
       "      <th>Day</th>\n",
       "      <th>Year</th>\n",
       "    </tr>\n",
       "  </thead>\n",
       "  <tbody>\n",
       "    <tr>\n",
       "      <th>0</th>\n",
       "      <td>1475229326</td>\n",
       "      <td>23:55:26</td>\n",
       "      <td>1.21</td>\n",
       "      <td>48</td>\n",
       "      <td>30.46</td>\n",
       "      <td>59</td>\n",
       "      <td>177.39</td>\n",
       "      <td>5.62</td>\n",
       "      <td>06:13:00</td>\n",
       "      <td>18:13:00</td>\n",
       "      <td>9</td>\n",
       "      <td>29</td>\n",
       "      <td>2016 12:00:00 AM</td>\n",
       "    </tr>\n",
       "    <tr>\n",
       "      <th>1</th>\n",
       "      <td>1475229023</td>\n",
       "      <td>23:50:23</td>\n",
       "      <td>1.21</td>\n",
       "      <td>48</td>\n",
       "      <td>30.46</td>\n",
       "      <td>58</td>\n",
       "      <td>176.78</td>\n",
       "      <td>3.37</td>\n",
       "      <td>06:13:00</td>\n",
       "      <td>18:13:00</td>\n",
       "      <td>9</td>\n",
       "      <td>29</td>\n",
       "      <td>2016 12:00:00 AM</td>\n",
       "    </tr>\n",
       "    <tr>\n",
       "      <th>2</th>\n",
       "      <td>1475228726</td>\n",
       "      <td>23:45:26</td>\n",
       "      <td>1.23</td>\n",
       "      <td>48</td>\n",
       "      <td>30.46</td>\n",
       "      <td>57</td>\n",
       "      <td>158.75</td>\n",
       "      <td>3.37</td>\n",
       "      <td>06:13:00</td>\n",
       "      <td>18:13:00</td>\n",
       "      <td>9</td>\n",
       "      <td>29</td>\n",
       "      <td>2016 12:00:00 AM</td>\n",
       "    </tr>\n",
       "    <tr>\n",
       "      <th>3</th>\n",
       "      <td>1475228421</td>\n",
       "      <td>23:40:21</td>\n",
       "      <td>1.21</td>\n",
       "      <td>48</td>\n",
       "      <td>30.46</td>\n",
       "      <td>60</td>\n",
       "      <td>137.71</td>\n",
       "      <td>3.37</td>\n",
       "      <td>06:13:00</td>\n",
       "      <td>18:13:00</td>\n",
       "      <td>9</td>\n",
       "      <td>29</td>\n",
       "      <td>2016 12:00:00 AM</td>\n",
       "    </tr>\n",
       "    <tr>\n",
       "      <th>4</th>\n",
       "      <td>1475228124</td>\n",
       "      <td>23:35:24</td>\n",
       "      <td>1.17</td>\n",
       "      <td>48</td>\n",
       "      <td>30.46</td>\n",
       "      <td>62</td>\n",
       "      <td>104.95</td>\n",
       "      <td>5.62</td>\n",
       "      <td>06:13:00</td>\n",
       "      <td>18:13:00</td>\n",
       "      <td>9</td>\n",
       "      <td>29</td>\n",
       "      <td>2016 12:00:00 AM</td>\n",
       "    </tr>\n",
       "    <tr>\n",
       "      <th>...</th>\n",
       "      <td>...</td>\n",
       "      <td>...</td>\n",
       "      <td>...</td>\n",
       "      <td>...</td>\n",
       "      <td>...</td>\n",
       "      <td>...</td>\n",
       "      <td>...</td>\n",
       "      <td>...</td>\n",
       "      <td>...</td>\n",
       "      <td>...</td>\n",
       "      <td>...</td>\n",
       "      <td>...</td>\n",
       "      <td>...</td>\n",
       "    </tr>\n",
       "    <tr>\n",
       "      <th>32681</th>\n",
       "      <td>1480587604</td>\n",
       "      <td>00:20:04</td>\n",
       "      <td>1.22</td>\n",
       "      <td>44</td>\n",
       "      <td>30.43</td>\n",
       "      <td>102</td>\n",
       "      <td>145.42</td>\n",
       "      <td>6.75</td>\n",
       "      <td>06:41:00</td>\n",
       "      <td>17:42:00</td>\n",
       "      <td>12</td>\n",
       "      <td>1</td>\n",
       "      <td>2016 12:00:00 AM</td>\n",
       "    </tr>\n",
       "    <tr>\n",
       "      <th>32682</th>\n",
       "      <td>1480587301</td>\n",
       "      <td>00:15:01</td>\n",
       "      <td>1.17</td>\n",
       "      <td>44</td>\n",
       "      <td>30.42</td>\n",
       "      <td>102</td>\n",
       "      <td>117.78</td>\n",
       "      <td>6.75</td>\n",
       "      <td>06:41:00</td>\n",
       "      <td>17:42:00</td>\n",
       "      <td>12</td>\n",
       "      <td>1</td>\n",
       "      <td>2016 12:00:00 AM</td>\n",
       "    </tr>\n",
       "    <tr>\n",
       "      <th>32683</th>\n",
       "      <td>1480587001</td>\n",
       "      <td>00:10:01</td>\n",
       "      <td>1.20</td>\n",
       "      <td>44</td>\n",
       "      <td>30.42</td>\n",
       "      <td>102</td>\n",
       "      <td>145.19</td>\n",
       "      <td>9.00</td>\n",
       "      <td>06:41:00</td>\n",
       "      <td>17:42:00</td>\n",
       "      <td>12</td>\n",
       "      <td>1</td>\n",
       "      <td>2016 12:00:00 AM</td>\n",
       "    </tr>\n",
       "    <tr>\n",
       "      <th>32684</th>\n",
       "      <td>1480586702</td>\n",
       "      <td>00:05:02</td>\n",
       "      <td>1.23</td>\n",
       "      <td>44</td>\n",
       "      <td>30.42</td>\n",
       "      <td>101</td>\n",
       "      <td>164.19</td>\n",
       "      <td>7.87</td>\n",
       "      <td>06:41:00</td>\n",
       "      <td>17:42:00</td>\n",
       "      <td>12</td>\n",
       "      <td>1</td>\n",
       "      <td>2016 12:00:00 AM</td>\n",
       "    </tr>\n",
       "    <tr>\n",
       "      <th>32685</th>\n",
       "      <td>1480586402</td>\n",
       "      <td>00:00:02</td>\n",
       "      <td>1.20</td>\n",
       "      <td>44</td>\n",
       "      <td>30.43</td>\n",
       "      <td>101</td>\n",
       "      <td>83.59</td>\n",
       "      <td>3.37</td>\n",
       "      <td>06:41:00</td>\n",
       "      <td>17:42:00</td>\n",
       "      <td>12</td>\n",
       "      <td>1</td>\n",
       "      <td>2016 12:00:00 AM</td>\n",
       "    </tr>\n",
       "  </tbody>\n",
       "</table>\n",
       "<p>32686 rows × 13 columns</p>\n",
       "</div>"
      ],
      "text/plain": [
       "         UNIXTime      Time  Radiation  Temperature  Pressure  Humidity  \\\n",
       "0      1475229326  23:55:26       1.21           48     30.46        59   \n",
       "1      1475229023  23:50:23       1.21           48     30.46        58   \n",
       "2      1475228726  23:45:26       1.23           48     30.46        57   \n",
       "3      1475228421  23:40:21       1.21           48     30.46        60   \n",
       "4      1475228124  23:35:24       1.17           48     30.46        62   \n",
       "...           ...       ...        ...          ...       ...       ...   \n",
       "32681  1480587604  00:20:04       1.22           44     30.43       102   \n",
       "32682  1480587301  00:15:01       1.17           44     30.42       102   \n",
       "32683  1480587001  00:10:01       1.20           44     30.42       102   \n",
       "32684  1480586702  00:05:02       1.23           44     30.42       101   \n",
       "32685  1480586402  00:00:02       1.20           44     30.43       101   \n",
       "\n",
       "       WindDirection(Degrees)  Speed TimeSunRise TimeSunSet  Month  Day  \\\n",
       "0                      177.39   5.62    06:13:00   18:13:00      9   29   \n",
       "1                      176.78   3.37    06:13:00   18:13:00      9   29   \n",
       "2                      158.75   3.37    06:13:00   18:13:00      9   29   \n",
       "3                      137.71   3.37    06:13:00   18:13:00      9   29   \n",
       "4                      104.95   5.62    06:13:00   18:13:00      9   29   \n",
       "...                       ...    ...         ...        ...    ...  ...   \n",
       "32681                  145.42   6.75    06:41:00   17:42:00     12    1   \n",
       "32682                  117.78   6.75    06:41:00   17:42:00     12    1   \n",
       "32683                  145.19   9.00    06:41:00   17:42:00     12    1   \n",
       "32684                  164.19   7.87    06:41:00   17:42:00     12    1   \n",
       "32685                   83.59   3.37    06:41:00   17:42:00     12    1   \n",
       "\n",
       "                   Year  \n",
       "0      2016 12:00:00 AM  \n",
       "1      2016 12:00:00 AM  \n",
       "2      2016 12:00:00 AM  \n",
       "3      2016 12:00:00 AM  \n",
       "4      2016 12:00:00 AM  \n",
       "...                 ...  \n",
       "32681  2016 12:00:00 AM  \n",
       "32682  2016 12:00:00 AM  \n",
       "32683  2016 12:00:00 AM  \n",
       "32684  2016 12:00:00 AM  \n",
       "32685  2016 12:00:00 AM  \n",
       "\n",
       "[32686 rows x 13 columns]"
      ]
     },
     "execution_count": 8,
     "metadata": {},
     "output_type": "execute_result"
    }
   ],
   "source": [
    "data['Month']=data['Date'].str.split('/').str[0].astype(int)\n",
    "data['Day']=data['Date'].str.split('/').str[1].astype(int)\n",
    "data['Year']=data['Date'].str.split('/').str[2]\n",
    "\n",
    "data.drop('Date', axis=1, inplace=True)\n",
    "data"
   ]
  },
  {
   "cell_type": "code",
   "execution_count": 9,
   "id": "c1ff771e",
   "metadata": {},
   "outputs": [
    {
     "data": {
      "text/html": [
       "<div>\n",
       "<style scoped>\n",
       "    .dataframe tbody tr th:only-of-type {\n",
       "        vertical-align: middle;\n",
       "    }\n",
       "\n",
       "    .dataframe tbody tr th {\n",
       "        vertical-align: top;\n",
       "    }\n",
       "\n",
       "    .dataframe thead th {\n",
       "        text-align: right;\n",
       "    }\n",
       "</style>\n",
       "<table border=\"1\" class=\"dataframe\">\n",
       "  <thead>\n",
       "    <tr style=\"text-align: right;\">\n",
       "      <th></th>\n",
       "      <th>UNIXTime</th>\n",
       "      <th>Time</th>\n",
       "      <th>Radiation</th>\n",
       "      <th>Temperature</th>\n",
       "      <th>Pressure</th>\n",
       "      <th>Humidity</th>\n",
       "      <th>WindDirection(Degrees)</th>\n",
       "      <th>Speed</th>\n",
       "      <th>TimeSunRise</th>\n",
       "      <th>TimeSunSet</th>\n",
       "      <th>Month</th>\n",
       "      <th>Day</th>\n",
       "      <th>Year</th>\n",
       "    </tr>\n",
       "  </thead>\n",
       "  <tbody>\n",
       "    <tr>\n",
       "      <th>0</th>\n",
       "      <td>1475229326</td>\n",
       "      <td>23:55:26</td>\n",
       "      <td>1.21</td>\n",
       "      <td>48</td>\n",
       "      <td>30.46</td>\n",
       "      <td>59</td>\n",
       "      <td>177.39</td>\n",
       "      <td>5.62</td>\n",
       "      <td>06:13:00</td>\n",
       "      <td>18:13:00</td>\n",
       "      <td>9</td>\n",
       "      <td>29</td>\n",
       "      <td>2016</td>\n",
       "    </tr>\n",
       "    <tr>\n",
       "      <th>1</th>\n",
       "      <td>1475229023</td>\n",
       "      <td>23:50:23</td>\n",
       "      <td>1.21</td>\n",
       "      <td>48</td>\n",
       "      <td>30.46</td>\n",
       "      <td>58</td>\n",
       "      <td>176.78</td>\n",
       "      <td>3.37</td>\n",
       "      <td>06:13:00</td>\n",
       "      <td>18:13:00</td>\n",
       "      <td>9</td>\n",
       "      <td>29</td>\n",
       "      <td>2016</td>\n",
       "    </tr>\n",
       "    <tr>\n",
       "      <th>2</th>\n",
       "      <td>1475228726</td>\n",
       "      <td>23:45:26</td>\n",
       "      <td>1.23</td>\n",
       "      <td>48</td>\n",
       "      <td>30.46</td>\n",
       "      <td>57</td>\n",
       "      <td>158.75</td>\n",
       "      <td>3.37</td>\n",
       "      <td>06:13:00</td>\n",
       "      <td>18:13:00</td>\n",
       "      <td>9</td>\n",
       "      <td>29</td>\n",
       "      <td>2016</td>\n",
       "    </tr>\n",
       "    <tr>\n",
       "      <th>3</th>\n",
       "      <td>1475228421</td>\n",
       "      <td>23:40:21</td>\n",
       "      <td>1.21</td>\n",
       "      <td>48</td>\n",
       "      <td>30.46</td>\n",
       "      <td>60</td>\n",
       "      <td>137.71</td>\n",
       "      <td>3.37</td>\n",
       "      <td>06:13:00</td>\n",
       "      <td>18:13:00</td>\n",
       "      <td>9</td>\n",
       "      <td>29</td>\n",
       "      <td>2016</td>\n",
       "    </tr>\n",
       "    <tr>\n",
       "      <th>4</th>\n",
       "      <td>1475228124</td>\n",
       "      <td>23:35:24</td>\n",
       "      <td>1.17</td>\n",
       "      <td>48</td>\n",
       "      <td>30.46</td>\n",
       "      <td>62</td>\n",
       "      <td>104.95</td>\n",
       "      <td>5.62</td>\n",
       "      <td>06:13:00</td>\n",
       "      <td>18:13:00</td>\n",
       "      <td>9</td>\n",
       "      <td>29</td>\n",
       "      <td>2016</td>\n",
       "    </tr>\n",
       "    <tr>\n",
       "      <th>...</th>\n",
       "      <td>...</td>\n",
       "      <td>...</td>\n",
       "      <td>...</td>\n",
       "      <td>...</td>\n",
       "      <td>...</td>\n",
       "      <td>...</td>\n",
       "      <td>...</td>\n",
       "      <td>...</td>\n",
       "      <td>...</td>\n",
       "      <td>...</td>\n",
       "      <td>...</td>\n",
       "      <td>...</td>\n",
       "      <td>...</td>\n",
       "    </tr>\n",
       "    <tr>\n",
       "      <th>32681</th>\n",
       "      <td>1480587604</td>\n",
       "      <td>00:20:04</td>\n",
       "      <td>1.22</td>\n",
       "      <td>44</td>\n",
       "      <td>30.43</td>\n",
       "      <td>102</td>\n",
       "      <td>145.42</td>\n",
       "      <td>6.75</td>\n",
       "      <td>06:41:00</td>\n",
       "      <td>17:42:00</td>\n",
       "      <td>12</td>\n",
       "      <td>1</td>\n",
       "      <td>2016</td>\n",
       "    </tr>\n",
       "    <tr>\n",
       "      <th>32682</th>\n",
       "      <td>1480587301</td>\n",
       "      <td>00:15:01</td>\n",
       "      <td>1.17</td>\n",
       "      <td>44</td>\n",
       "      <td>30.42</td>\n",
       "      <td>102</td>\n",
       "      <td>117.78</td>\n",
       "      <td>6.75</td>\n",
       "      <td>06:41:00</td>\n",
       "      <td>17:42:00</td>\n",
       "      <td>12</td>\n",
       "      <td>1</td>\n",
       "      <td>2016</td>\n",
       "    </tr>\n",
       "    <tr>\n",
       "      <th>32683</th>\n",
       "      <td>1480587001</td>\n",
       "      <td>00:10:01</td>\n",
       "      <td>1.20</td>\n",
       "      <td>44</td>\n",
       "      <td>30.42</td>\n",
       "      <td>102</td>\n",
       "      <td>145.19</td>\n",
       "      <td>9.00</td>\n",
       "      <td>06:41:00</td>\n",
       "      <td>17:42:00</td>\n",
       "      <td>12</td>\n",
       "      <td>1</td>\n",
       "      <td>2016</td>\n",
       "    </tr>\n",
       "    <tr>\n",
       "      <th>32684</th>\n",
       "      <td>1480586702</td>\n",
       "      <td>00:05:02</td>\n",
       "      <td>1.23</td>\n",
       "      <td>44</td>\n",
       "      <td>30.42</td>\n",
       "      <td>101</td>\n",
       "      <td>164.19</td>\n",
       "      <td>7.87</td>\n",
       "      <td>06:41:00</td>\n",
       "      <td>17:42:00</td>\n",
       "      <td>12</td>\n",
       "      <td>1</td>\n",
       "      <td>2016</td>\n",
       "    </tr>\n",
       "    <tr>\n",
       "      <th>32685</th>\n",
       "      <td>1480586402</td>\n",
       "      <td>00:00:02</td>\n",
       "      <td>1.20</td>\n",
       "      <td>44</td>\n",
       "      <td>30.43</td>\n",
       "      <td>101</td>\n",
       "      <td>83.59</td>\n",
       "      <td>3.37</td>\n",
       "      <td>06:41:00</td>\n",
       "      <td>17:42:00</td>\n",
       "      <td>12</td>\n",
       "      <td>1</td>\n",
       "      <td>2016</td>\n",
       "    </tr>\n",
       "  </tbody>\n",
       "</table>\n",
       "<p>32686 rows × 13 columns</p>\n",
       "</div>"
      ],
      "text/plain": [
       "         UNIXTime      Time  Radiation  Temperature  Pressure  Humidity  \\\n",
       "0      1475229326  23:55:26       1.21           48     30.46        59   \n",
       "1      1475229023  23:50:23       1.21           48     30.46        58   \n",
       "2      1475228726  23:45:26       1.23           48     30.46        57   \n",
       "3      1475228421  23:40:21       1.21           48     30.46        60   \n",
       "4      1475228124  23:35:24       1.17           48     30.46        62   \n",
       "...           ...       ...        ...          ...       ...       ...   \n",
       "32681  1480587604  00:20:04       1.22           44     30.43       102   \n",
       "32682  1480587301  00:15:01       1.17           44     30.42       102   \n",
       "32683  1480587001  00:10:01       1.20           44     30.42       102   \n",
       "32684  1480586702  00:05:02       1.23           44     30.42       101   \n",
       "32685  1480586402  00:00:02       1.20           44     30.43       101   \n",
       "\n",
       "       WindDirection(Degrees)  Speed TimeSunRise TimeSunSet  Month  Day  Year  \n",
       "0                      177.39   5.62    06:13:00   18:13:00      9   29  2016  \n",
       "1                      176.78   3.37    06:13:00   18:13:00      9   29  2016  \n",
       "2                      158.75   3.37    06:13:00   18:13:00      9   29  2016  \n",
       "3                      137.71   3.37    06:13:00   18:13:00      9   29  2016  \n",
       "4                      104.95   5.62    06:13:00   18:13:00      9   29  2016  \n",
       "...                       ...    ...         ...        ...    ...  ...   ...  \n",
       "32681                  145.42   6.75    06:41:00   17:42:00     12    1  2016  \n",
       "32682                  117.78   6.75    06:41:00   17:42:00     12    1  2016  \n",
       "32683                  145.19   9.00    06:41:00   17:42:00     12    1  2016  \n",
       "32684                  164.19   7.87    06:41:00   17:42:00     12    1  2016  \n",
       "32685                   83.59   3.37    06:41:00   17:42:00     12    1  2016  \n",
       "\n",
       "[32686 rows x 13 columns]"
      ]
     },
     "execution_count": 9,
     "metadata": {},
     "output_type": "execute_result"
    }
   ],
   "source": [
    "data['Year']=data['Year'].str.split(' ').str[0].astype(int)\n",
    "data"
   ]
  },
  {
   "cell_type": "code",
   "execution_count": 10,
   "id": "b500ea32",
   "metadata": {},
   "outputs": [],
   "source": [
    "data['SunRiseHour']=data['TimeSunRise'].str.split(':').str[0].astype(int)\n",
    "data['SunRiseMin']=data['TimeSunRise'].str.split(':').str[1].astype(int)\n",
    "\n",
    "data['SunSetSetHour']=data['TimeSunSet'].str.split(':').str[0].astype(int)\n",
    "data['SunSetSetMin']=data['TimeSunSet'].str.split(':').str[1].astype(int)\n",
    "\n",
    "\n",
    "\n",
    "data['TimeSunRise']=pd.to_timedelta(data['TimeSunRise'])\n",
    "data['TimeSunSet']=pd.to_timedelta(data['TimeSunSet'])\n",
    "\n",
    "data['DayLength'] = data['TimeSunSet'] - data['TimeSunRise']"
   ]
  },
  {
   "cell_type": "code",
   "execution_count": 11,
   "id": "e7242c84",
   "metadata": {},
   "outputs": [
    {
     "data": {
      "text/html": [
       "<div>\n",
       "<style scoped>\n",
       "    .dataframe tbody tr th:only-of-type {\n",
       "        vertical-align: middle;\n",
       "    }\n",
       "\n",
       "    .dataframe tbody tr th {\n",
       "        vertical-align: top;\n",
       "    }\n",
       "\n",
       "    .dataframe thead th {\n",
       "        text-align: right;\n",
       "    }\n",
       "</style>\n",
       "<table border=\"1\" class=\"dataframe\">\n",
       "  <thead>\n",
       "    <tr style=\"text-align: right;\">\n",
       "      <th></th>\n",
       "      <th>UNIXTime</th>\n",
       "      <th>Time</th>\n",
       "      <th>Radiation</th>\n",
       "      <th>Temperature</th>\n",
       "      <th>Pressure</th>\n",
       "      <th>Humidity</th>\n",
       "      <th>WindDirection(Degrees)</th>\n",
       "      <th>Speed</th>\n",
       "      <th>TimeSunRise</th>\n",
       "      <th>TimeSunSet</th>\n",
       "      <th>Month</th>\n",
       "      <th>Day</th>\n",
       "      <th>Year</th>\n",
       "      <th>SunRiseHour</th>\n",
       "      <th>SunRiseMin</th>\n",
       "      <th>SunSetSetHour</th>\n",
       "      <th>SunSetSetMin</th>\n",
       "      <th>DayLength</th>\n",
       "    </tr>\n",
       "  </thead>\n",
       "  <tbody>\n",
       "    <tr>\n",
       "      <th>0</th>\n",
       "      <td>1475229326</td>\n",
       "      <td>23:55:26</td>\n",
       "      <td>1.21</td>\n",
       "      <td>48</td>\n",
       "      <td>30.46</td>\n",
       "      <td>59</td>\n",
       "      <td>177.39</td>\n",
       "      <td>5.62</td>\n",
       "      <td>0 days 06:13:00</td>\n",
       "      <td>0 days 18:13:00</td>\n",
       "      <td>9</td>\n",
       "      <td>29</td>\n",
       "      <td>2016</td>\n",
       "      <td>6</td>\n",
       "      <td>13</td>\n",
       "      <td>18</td>\n",
       "      <td>13</td>\n",
       "      <td>0 days 12:00:00</td>\n",
       "    </tr>\n",
       "    <tr>\n",
       "      <th>1</th>\n",
       "      <td>1475229023</td>\n",
       "      <td>23:50:23</td>\n",
       "      <td>1.21</td>\n",
       "      <td>48</td>\n",
       "      <td>30.46</td>\n",
       "      <td>58</td>\n",
       "      <td>176.78</td>\n",
       "      <td>3.37</td>\n",
       "      <td>0 days 06:13:00</td>\n",
       "      <td>0 days 18:13:00</td>\n",
       "      <td>9</td>\n",
       "      <td>29</td>\n",
       "      <td>2016</td>\n",
       "      <td>6</td>\n",
       "      <td>13</td>\n",
       "      <td>18</td>\n",
       "      <td>13</td>\n",
       "      <td>0 days 12:00:00</td>\n",
       "    </tr>\n",
       "    <tr>\n",
       "      <th>2</th>\n",
       "      <td>1475228726</td>\n",
       "      <td>23:45:26</td>\n",
       "      <td>1.23</td>\n",
       "      <td>48</td>\n",
       "      <td>30.46</td>\n",
       "      <td>57</td>\n",
       "      <td>158.75</td>\n",
       "      <td>3.37</td>\n",
       "      <td>0 days 06:13:00</td>\n",
       "      <td>0 days 18:13:00</td>\n",
       "      <td>9</td>\n",
       "      <td>29</td>\n",
       "      <td>2016</td>\n",
       "      <td>6</td>\n",
       "      <td>13</td>\n",
       "      <td>18</td>\n",
       "      <td>13</td>\n",
       "      <td>0 days 12:00:00</td>\n",
       "    </tr>\n",
       "    <tr>\n",
       "      <th>3</th>\n",
       "      <td>1475228421</td>\n",
       "      <td>23:40:21</td>\n",
       "      <td>1.21</td>\n",
       "      <td>48</td>\n",
       "      <td>30.46</td>\n",
       "      <td>60</td>\n",
       "      <td>137.71</td>\n",
       "      <td>3.37</td>\n",
       "      <td>0 days 06:13:00</td>\n",
       "      <td>0 days 18:13:00</td>\n",
       "      <td>9</td>\n",
       "      <td>29</td>\n",
       "      <td>2016</td>\n",
       "      <td>6</td>\n",
       "      <td>13</td>\n",
       "      <td>18</td>\n",
       "      <td>13</td>\n",
       "      <td>0 days 12:00:00</td>\n",
       "    </tr>\n",
       "    <tr>\n",
       "      <th>4</th>\n",
       "      <td>1475228124</td>\n",
       "      <td>23:35:24</td>\n",
       "      <td>1.17</td>\n",
       "      <td>48</td>\n",
       "      <td>30.46</td>\n",
       "      <td>62</td>\n",
       "      <td>104.95</td>\n",
       "      <td>5.62</td>\n",
       "      <td>0 days 06:13:00</td>\n",
       "      <td>0 days 18:13:00</td>\n",
       "      <td>9</td>\n",
       "      <td>29</td>\n",
       "      <td>2016</td>\n",
       "      <td>6</td>\n",
       "      <td>13</td>\n",
       "      <td>18</td>\n",
       "      <td>13</td>\n",
       "      <td>0 days 12:00:00</td>\n",
       "    </tr>\n",
       "    <tr>\n",
       "      <th>...</th>\n",
       "      <td>...</td>\n",
       "      <td>...</td>\n",
       "      <td>...</td>\n",
       "      <td>...</td>\n",
       "      <td>...</td>\n",
       "      <td>...</td>\n",
       "      <td>...</td>\n",
       "      <td>...</td>\n",
       "      <td>...</td>\n",
       "      <td>...</td>\n",
       "      <td>...</td>\n",
       "      <td>...</td>\n",
       "      <td>...</td>\n",
       "      <td>...</td>\n",
       "      <td>...</td>\n",
       "      <td>...</td>\n",
       "      <td>...</td>\n",
       "      <td>...</td>\n",
       "    </tr>\n",
       "    <tr>\n",
       "      <th>32681</th>\n",
       "      <td>1480587604</td>\n",
       "      <td>00:20:04</td>\n",
       "      <td>1.22</td>\n",
       "      <td>44</td>\n",
       "      <td>30.43</td>\n",
       "      <td>102</td>\n",
       "      <td>145.42</td>\n",
       "      <td>6.75</td>\n",
       "      <td>0 days 06:41:00</td>\n",
       "      <td>0 days 17:42:00</td>\n",
       "      <td>12</td>\n",
       "      <td>1</td>\n",
       "      <td>2016</td>\n",
       "      <td>6</td>\n",
       "      <td>41</td>\n",
       "      <td>17</td>\n",
       "      <td>42</td>\n",
       "      <td>0 days 11:01:00</td>\n",
       "    </tr>\n",
       "    <tr>\n",
       "      <th>32682</th>\n",
       "      <td>1480587301</td>\n",
       "      <td>00:15:01</td>\n",
       "      <td>1.17</td>\n",
       "      <td>44</td>\n",
       "      <td>30.42</td>\n",
       "      <td>102</td>\n",
       "      <td>117.78</td>\n",
       "      <td>6.75</td>\n",
       "      <td>0 days 06:41:00</td>\n",
       "      <td>0 days 17:42:00</td>\n",
       "      <td>12</td>\n",
       "      <td>1</td>\n",
       "      <td>2016</td>\n",
       "      <td>6</td>\n",
       "      <td>41</td>\n",
       "      <td>17</td>\n",
       "      <td>42</td>\n",
       "      <td>0 days 11:01:00</td>\n",
       "    </tr>\n",
       "    <tr>\n",
       "      <th>32683</th>\n",
       "      <td>1480587001</td>\n",
       "      <td>00:10:01</td>\n",
       "      <td>1.20</td>\n",
       "      <td>44</td>\n",
       "      <td>30.42</td>\n",
       "      <td>102</td>\n",
       "      <td>145.19</td>\n",
       "      <td>9.00</td>\n",
       "      <td>0 days 06:41:00</td>\n",
       "      <td>0 days 17:42:00</td>\n",
       "      <td>12</td>\n",
       "      <td>1</td>\n",
       "      <td>2016</td>\n",
       "      <td>6</td>\n",
       "      <td>41</td>\n",
       "      <td>17</td>\n",
       "      <td>42</td>\n",
       "      <td>0 days 11:01:00</td>\n",
       "    </tr>\n",
       "    <tr>\n",
       "      <th>32684</th>\n",
       "      <td>1480586702</td>\n",
       "      <td>00:05:02</td>\n",
       "      <td>1.23</td>\n",
       "      <td>44</td>\n",
       "      <td>30.42</td>\n",
       "      <td>101</td>\n",
       "      <td>164.19</td>\n",
       "      <td>7.87</td>\n",
       "      <td>0 days 06:41:00</td>\n",
       "      <td>0 days 17:42:00</td>\n",
       "      <td>12</td>\n",
       "      <td>1</td>\n",
       "      <td>2016</td>\n",
       "      <td>6</td>\n",
       "      <td>41</td>\n",
       "      <td>17</td>\n",
       "      <td>42</td>\n",
       "      <td>0 days 11:01:00</td>\n",
       "    </tr>\n",
       "    <tr>\n",
       "      <th>32685</th>\n",
       "      <td>1480586402</td>\n",
       "      <td>00:00:02</td>\n",
       "      <td>1.20</td>\n",
       "      <td>44</td>\n",
       "      <td>30.43</td>\n",
       "      <td>101</td>\n",
       "      <td>83.59</td>\n",
       "      <td>3.37</td>\n",
       "      <td>0 days 06:41:00</td>\n",
       "      <td>0 days 17:42:00</td>\n",
       "      <td>12</td>\n",
       "      <td>1</td>\n",
       "      <td>2016</td>\n",
       "      <td>6</td>\n",
       "      <td>41</td>\n",
       "      <td>17</td>\n",
       "      <td>42</td>\n",
       "      <td>0 days 11:01:00</td>\n",
       "    </tr>\n",
       "  </tbody>\n",
       "</table>\n",
       "<p>32686 rows × 18 columns</p>\n",
       "</div>"
      ],
      "text/plain": [
       "         UNIXTime      Time  Radiation  Temperature  Pressure  Humidity  \\\n",
       "0      1475229326  23:55:26       1.21           48     30.46        59   \n",
       "1      1475229023  23:50:23       1.21           48     30.46        58   \n",
       "2      1475228726  23:45:26       1.23           48     30.46        57   \n",
       "3      1475228421  23:40:21       1.21           48     30.46        60   \n",
       "4      1475228124  23:35:24       1.17           48     30.46        62   \n",
       "...           ...       ...        ...          ...       ...       ...   \n",
       "32681  1480587604  00:20:04       1.22           44     30.43       102   \n",
       "32682  1480587301  00:15:01       1.17           44     30.42       102   \n",
       "32683  1480587001  00:10:01       1.20           44     30.42       102   \n",
       "32684  1480586702  00:05:02       1.23           44     30.42       101   \n",
       "32685  1480586402  00:00:02       1.20           44     30.43       101   \n",
       "\n",
       "       WindDirection(Degrees)  Speed     TimeSunRise      TimeSunSet  Month  \\\n",
       "0                      177.39   5.62 0 days 06:13:00 0 days 18:13:00      9   \n",
       "1                      176.78   3.37 0 days 06:13:00 0 days 18:13:00      9   \n",
       "2                      158.75   3.37 0 days 06:13:00 0 days 18:13:00      9   \n",
       "3                      137.71   3.37 0 days 06:13:00 0 days 18:13:00      9   \n",
       "4                      104.95   5.62 0 days 06:13:00 0 days 18:13:00      9   \n",
       "...                       ...    ...             ...             ...    ...   \n",
       "32681                  145.42   6.75 0 days 06:41:00 0 days 17:42:00     12   \n",
       "32682                  117.78   6.75 0 days 06:41:00 0 days 17:42:00     12   \n",
       "32683                  145.19   9.00 0 days 06:41:00 0 days 17:42:00     12   \n",
       "32684                  164.19   7.87 0 days 06:41:00 0 days 17:42:00     12   \n",
       "32685                   83.59   3.37 0 days 06:41:00 0 days 17:42:00     12   \n",
       "\n",
       "       Day  Year  SunRiseHour  SunRiseMin  SunSetSetHour  SunSetSetMin  \\\n",
       "0       29  2016            6          13             18            13   \n",
       "1       29  2016            6          13             18            13   \n",
       "2       29  2016            6          13             18            13   \n",
       "3       29  2016            6          13             18            13   \n",
       "4       29  2016            6          13             18            13   \n",
       "...    ...   ...          ...         ...            ...           ...   \n",
       "32681    1  2016            6          41             17            42   \n",
       "32682    1  2016            6          41             17            42   \n",
       "32683    1  2016            6          41             17            42   \n",
       "32684    1  2016            6          41             17            42   \n",
       "32685    1  2016            6          41             17            42   \n",
       "\n",
       "            DayLength  \n",
       "0     0 days 12:00:00  \n",
       "1     0 days 12:00:00  \n",
       "2     0 days 12:00:00  \n",
       "3     0 days 12:00:00  \n",
       "4     0 days 12:00:00  \n",
       "...               ...  \n",
       "32681 0 days 11:01:00  \n",
       "32682 0 days 11:01:00  \n",
       "32683 0 days 11:01:00  \n",
       "32684 0 days 11:01:00  \n",
       "32685 0 days 11:01:00  \n",
       "\n",
       "[32686 rows x 18 columns]"
      ]
     },
     "execution_count": 11,
     "metadata": {},
     "output_type": "execute_result"
    }
   ],
   "source": [
    "data"
   ]
  },
  {
   "cell_type": "code",
   "execution_count": 12,
   "id": "795d5260",
   "metadata": {},
   "outputs": [
    {
     "data": {
      "text/html": [
       "<div>\n",
       "<style scoped>\n",
       "    .dataframe tbody tr th:only-of-type {\n",
       "        vertical-align: middle;\n",
       "    }\n",
       "\n",
       "    .dataframe tbody tr th {\n",
       "        vertical-align: top;\n",
       "    }\n",
       "\n",
       "    .dataframe thead th {\n",
       "        text-align: right;\n",
       "    }\n",
       "</style>\n",
       "<table border=\"1\" class=\"dataframe\">\n",
       "  <thead>\n",
       "    <tr style=\"text-align: right;\">\n",
       "      <th></th>\n",
       "      <th>UNIXTime</th>\n",
       "      <th>Time</th>\n",
       "      <th>Radiation</th>\n",
       "      <th>Temperature</th>\n",
       "      <th>Pressure</th>\n",
       "      <th>Humidity</th>\n",
       "      <th>WindDirection(Degrees)</th>\n",
       "      <th>Speed</th>\n",
       "      <th>TimeSunRise</th>\n",
       "      <th>TimeSunSet</th>\n",
       "      <th>...</th>\n",
       "      <th>Day</th>\n",
       "      <th>Year</th>\n",
       "      <th>SunRiseHour</th>\n",
       "      <th>SunRiseMin</th>\n",
       "      <th>SunSetSetHour</th>\n",
       "      <th>SunSetSetMin</th>\n",
       "      <th>DayLength</th>\n",
       "      <th>Hour</th>\n",
       "      <th>Minute</th>\n",
       "      <th>Second</th>\n",
       "    </tr>\n",
       "  </thead>\n",
       "  <tbody>\n",
       "    <tr>\n",
       "      <th>0</th>\n",
       "      <td>1475229326</td>\n",
       "      <td>23:55:26</td>\n",
       "      <td>1.21</td>\n",
       "      <td>48</td>\n",
       "      <td>30.46</td>\n",
       "      <td>59</td>\n",
       "      <td>177.39</td>\n",
       "      <td>5.62</td>\n",
       "      <td>0 days 06:13:00</td>\n",
       "      <td>0 days 18:13:00</td>\n",
       "      <td>...</td>\n",
       "      <td>29</td>\n",
       "      <td>2016</td>\n",
       "      <td>6</td>\n",
       "      <td>13</td>\n",
       "      <td>18</td>\n",
       "      <td>13</td>\n",
       "      <td>0 days 12:00:00</td>\n",
       "      <td>23</td>\n",
       "      <td>55</td>\n",
       "      <td>26</td>\n",
       "    </tr>\n",
       "    <tr>\n",
       "      <th>1</th>\n",
       "      <td>1475229023</td>\n",
       "      <td>23:50:23</td>\n",
       "      <td>1.21</td>\n",
       "      <td>48</td>\n",
       "      <td>30.46</td>\n",
       "      <td>58</td>\n",
       "      <td>176.78</td>\n",
       "      <td>3.37</td>\n",
       "      <td>0 days 06:13:00</td>\n",
       "      <td>0 days 18:13:00</td>\n",
       "      <td>...</td>\n",
       "      <td>29</td>\n",
       "      <td>2016</td>\n",
       "      <td>6</td>\n",
       "      <td>13</td>\n",
       "      <td>18</td>\n",
       "      <td>13</td>\n",
       "      <td>0 days 12:00:00</td>\n",
       "      <td>23</td>\n",
       "      <td>50</td>\n",
       "      <td>23</td>\n",
       "    </tr>\n",
       "    <tr>\n",
       "      <th>2</th>\n",
       "      <td>1475228726</td>\n",
       "      <td>23:45:26</td>\n",
       "      <td>1.23</td>\n",
       "      <td>48</td>\n",
       "      <td>30.46</td>\n",
       "      <td>57</td>\n",
       "      <td>158.75</td>\n",
       "      <td>3.37</td>\n",
       "      <td>0 days 06:13:00</td>\n",
       "      <td>0 days 18:13:00</td>\n",
       "      <td>...</td>\n",
       "      <td>29</td>\n",
       "      <td>2016</td>\n",
       "      <td>6</td>\n",
       "      <td>13</td>\n",
       "      <td>18</td>\n",
       "      <td>13</td>\n",
       "      <td>0 days 12:00:00</td>\n",
       "      <td>23</td>\n",
       "      <td>45</td>\n",
       "      <td>26</td>\n",
       "    </tr>\n",
       "    <tr>\n",
       "      <th>3</th>\n",
       "      <td>1475228421</td>\n",
       "      <td>23:40:21</td>\n",
       "      <td>1.21</td>\n",
       "      <td>48</td>\n",
       "      <td>30.46</td>\n",
       "      <td>60</td>\n",
       "      <td>137.71</td>\n",
       "      <td>3.37</td>\n",
       "      <td>0 days 06:13:00</td>\n",
       "      <td>0 days 18:13:00</td>\n",
       "      <td>...</td>\n",
       "      <td>29</td>\n",
       "      <td>2016</td>\n",
       "      <td>6</td>\n",
       "      <td>13</td>\n",
       "      <td>18</td>\n",
       "      <td>13</td>\n",
       "      <td>0 days 12:00:00</td>\n",
       "      <td>23</td>\n",
       "      <td>40</td>\n",
       "      <td>21</td>\n",
       "    </tr>\n",
       "    <tr>\n",
       "      <th>4</th>\n",
       "      <td>1475228124</td>\n",
       "      <td>23:35:24</td>\n",
       "      <td>1.17</td>\n",
       "      <td>48</td>\n",
       "      <td>30.46</td>\n",
       "      <td>62</td>\n",
       "      <td>104.95</td>\n",
       "      <td>5.62</td>\n",
       "      <td>0 days 06:13:00</td>\n",
       "      <td>0 days 18:13:00</td>\n",
       "      <td>...</td>\n",
       "      <td>29</td>\n",
       "      <td>2016</td>\n",
       "      <td>6</td>\n",
       "      <td>13</td>\n",
       "      <td>18</td>\n",
       "      <td>13</td>\n",
       "      <td>0 days 12:00:00</td>\n",
       "      <td>23</td>\n",
       "      <td>35</td>\n",
       "      <td>24</td>\n",
       "    </tr>\n",
       "    <tr>\n",
       "      <th>...</th>\n",
       "      <td>...</td>\n",
       "      <td>...</td>\n",
       "      <td>...</td>\n",
       "      <td>...</td>\n",
       "      <td>...</td>\n",
       "      <td>...</td>\n",
       "      <td>...</td>\n",
       "      <td>...</td>\n",
       "      <td>...</td>\n",
       "      <td>...</td>\n",
       "      <td>...</td>\n",
       "      <td>...</td>\n",
       "      <td>...</td>\n",
       "      <td>...</td>\n",
       "      <td>...</td>\n",
       "      <td>...</td>\n",
       "      <td>...</td>\n",
       "      <td>...</td>\n",
       "      <td>...</td>\n",
       "      <td>...</td>\n",
       "      <td>...</td>\n",
       "    </tr>\n",
       "    <tr>\n",
       "      <th>32681</th>\n",
       "      <td>1480587604</td>\n",
       "      <td>00:20:04</td>\n",
       "      <td>1.22</td>\n",
       "      <td>44</td>\n",
       "      <td>30.43</td>\n",
       "      <td>102</td>\n",
       "      <td>145.42</td>\n",
       "      <td>6.75</td>\n",
       "      <td>0 days 06:41:00</td>\n",
       "      <td>0 days 17:42:00</td>\n",
       "      <td>...</td>\n",
       "      <td>1</td>\n",
       "      <td>2016</td>\n",
       "      <td>6</td>\n",
       "      <td>41</td>\n",
       "      <td>17</td>\n",
       "      <td>42</td>\n",
       "      <td>0 days 11:01:00</td>\n",
       "      <td>0</td>\n",
       "      <td>20</td>\n",
       "      <td>4</td>\n",
       "    </tr>\n",
       "    <tr>\n",
       "      <th>32682</th>\n",
       "      <td>1480587301</td>\n",
       "      <td>00:15:01</td>\n",
       "      <td>1.17</td>\n",
       "      <td>44</td>\n",
       "      <td>30.42</td>\n",
       "      <td>102</td>\n",
       "      <td>117.78</td>\n",
       "      <td>6.75</td>\n",
       "      <td>0 days 06:41:00</td>\n",
       "      <td>0 days 17:42:00</td>\n",
       "      <td>...</td>\n",
       "      <td>1</td>\n",
       "      <td>2016</td>\n",
       "      <td>6</td>\n",
       "      <td>41</td>\n",
       "      <td>17</td>\n",
       "      <td>42</td>\n",
       "      <td>0 days 11:01:00</td>\n",
       "      <td>0</td>\n",
       "      <td>15</td>\n",
       "      <td>1</td>\n",
       "    </tr>\n",
       "    <tr>\n",
       "      <th>32683</th>\n",
       "      <td>1480587001</td>\n",
       "      <td>00:10:01</td>\n",
       "      <td>1.20</td>\n",
       "      <td>44</td>\n",
       "      <td>30.42</td>\n",
       "      <td>102</td>\n",
       "      <td>145.19</td>\n",
       "      <td>9.00</td>\n",
       "      <td>0 days 06:41:00</td>\n",
       "      <td>0 days 17:42:00</td>\n",
       "      <td>...</td>\n",
       "      <td>1</td>\n",
       "      <td>2016</td>\n",
       "      <td>6</td>\n",
       "      <td>41</td>\n",
       "      <td>17</td>\n",
       "      <td>42</td>\n",
       "      <td>0 days 11:01:00</td>\n",
       "      <td>0</td>\n",
       "      <td>10</td>\n",
       "      <td>1</td>\n",
       "    </tr>\n",
       "    <tr>\n",
       "      <th>32684</th>\n",
       "      <td>1480586702</td>\n",
       "      <td>00:05:02</td>\n",
       "      <td>1.23</td>\n",
       "      <td>44</td>\n",
       "      <td>30.42</td>\n",
       "      <td>101</td>\n",
       "      <td>164.19</td>\n",
       "      <td>7.87</td>\n",
       "      <td>0 days 06:41:00</td>\n",
       "      <td>0 days 17:42:00</td>\n",
       "      <td>...</td>\n",
       "      <td>1</td>\n",
       "      <td>2016</td>\n",
       "      <td>6</td>\n",
       "      <td>41</td>\n",
       "      <td>17</td>\n",
       "      <td>42</td>\n",
       "      <td>0 days 11:01:00</td>\n",
       "      <td>0</td>\n",
       "      <td>5</td>\n",
       "      <td>2</td>\n",
       "    </tr>\n",
       "    <tr>\n",
       "      <th>32685</th>\n",
       "      <td>1480586402</td>\n",
       "      <td>00:00:02</td>\n",
       "      <td>1.20</td>\n",
       "      <td>44</td>\n",
       "      <td>30.43</td>\n",
       "      <td>101</td>\n",
       "      <td>83.59</td>\n",
       "      <td>3.37</td>\n",
       "      <td>0 days 06:41:00</td>\n",
       "      <td>0 days 17:42:00</td>\n",
       "      <td>...</td>\n",
       "      <td>1</td>\n",
       "      <td>2016</td>\n",
       "      <td>6</td>\n",
       "      <td>41</td>\n",
       "      <td>17</td>\n",
       "      <td>42</td>\n",
       "      <td>0 days 11:01:00</td>\n",
       "      <td>0</td>\n",
       "      <td>0</td>\n",
       "      <td>2</td>\n",
       "    </tr>\n",
       "  </tbody>\n",
       "</table>\n",
       "<p>32686 rows × 21 columns</p>\n",
       "</div>"
      ],
      "text/plain": [
       "         UNIXTime      Time  Radiation  Temperature  Pressure  Humidity  \\\n",
       "0      1475229326  23:55:26       1.21           48     30.46        59   \n",
       "1      1475229023  23:50:23       1.21           48     30.46        58   \n",
       "2      1475228726  23:45:26       1.23           48     30.46        57   \n",
       "3      1475228421  23:40:21       1.21           48     30.46        60   \n",
       "4      1475228124  23:35:24       1.17           48     30.46        62   \n",
       "...           ...       ...        ...          ...       ...       ...   \n",
       "32681  1480587604  00:20:04       1.22           44     30.43       102   \n",
       "32682  1480587301  00:15:01       1.17           44     30.42       102   \n",
       "32683  1480587001  00:10:01       1.20           44     30.42       102   \n",
       "32684  1480586702  00:05:02       1.23           44     30.42       101   \n",
       "32685  1480586402  00:00:02       1.20           44     30.43       101   \n",
       "\n",
       "       WindDirection(Degrees)  Speed     TimeSunRise      TimeSunSet  ...  \\\n",
       "0                      177.39   5.62 0 days 06:13:00 0 days 18:13:00  ...   \n",
       "1                      176.78   3.37 0 days 06:13:00 0 days 18:13:00  ...   \n",
       "2                      158.75   3.37 0 days 06:13:00 0 days 18:13:00  ...   \n",
       "3                      137.71   3.37 0 days 06:13:00 0 days 18:13:00  ...   \n",
       "4                      104.95   5.62 0 days 06:13:00 0 days 18:13:00  ...   \n",
       "...                       ...    ...             ...             ...  ...   \n",
       "32681                  145.42   6.75 0 days 06:41:00 0 days 17:42:00  ...   \n",
       "32682                  117.78   6.75 0 days 06:41:00 0 days 17:42:00  ...   \n",
       "32683                  145.19   9.00 0 days 06:41:00 0 days 17:42:00  ...   \n",
       "32684                  164.19   7.87 0 days 06:41:00 0 days 17:42:00  ...   \n",
       "32685                   83.59   3.37 0 days 06:41:00 0 days 17:42:00  ...   \n",
       "\n",
       "       Day  Year  SunRiseHour  SunRiseMin  SunSetSetHour  SunSetSetMin  \\\n",
       "0       29  2016            6          13             18            13   \n",
       "1       29  2016            6          13             18            13   \n",
       "2       29  2016            6          13             18            13   \n",
       "3       29  2016            6          13             18            13   \n",
       "4       29  2016            6          13             18            13   \n",
       "...    ...   ...          ...         ...            ...           ...   \n",
       "32681    1  2016            6          41             17            42   \n",
       "32682    1  2016            6          41             17            42   \n",
       "32683    1  2016            6          41             17            42   \n",
       "32684    1  2016            6          41             17            42   \n",
       "32685    1  2016            6          41             17            42   \n",
       "\n",
       "            DayLength Hour  Minute  Second  \n",
       "0     0 days 12:00:00   23      55      26  \n",
       "1     0 days 12:00:00   23      50      23  \n",
       "2     0 days 12:00:00   23      45      26  \n",
       "3     0 days 12:00:00   23      40      21  \n",
       "4     0 days 12:00:00   23      35      24  \n",
       "...               ...  ...     ...     ...  \n",
       "32681 0 days 11:01:00    0      20       4  \n",
       "32682 0 days 11:01:00    0      15       1  \n",
       "32683 0 days 11:01:00    0      10       1  \n",
       "32684 0 days 11:01:00    0       5       2  \n",
       "32685 0 days 11:01:00    0       0       2  \n",
       "\n",
       "[32686 rows x 21 columns]"
      ]
     },
     "execution_count": 12,
     "metadata": {},
     "output_type": "execute_result"
    }
   ],
   "source": [
    "data['Hour']=data['Time'].str.split(':').str[0].astype(int)\n",
    "data['Minute']=data['Time'].str.split(':').str[1].astype(int)\n",
    "data['Second']=data['Time'].str.split(':').str[2].astype(int)\n",
    "\n",
    "data"
   ]
  },
  {
   "cell_type": "code",
   "execution_count": 13,
   "id": "5517a480",
   "metadata": {},
   "outputs": [
    {
     "name": "stdout",
     "output_type": "stream",
     "text": [
      "<class 'pandas.core.frame.DataFrame'>\n",
      "RangeIndex: 32686 entries, 0 to 32685\n",
      "Data columns (total 21 columns):\n",
      " #   Column                  Non-Null Count  Dtype          \n",
      "---  ------                  --------------  -----          \n",
      " 0   UNIXTime                32686 non-null  int64          \n",
      " 1   Time                    32686 non-null  object         \n",
      " 2   Radiation               32686 non-null  float64        \n",
      " 3   Temperature             32686 non-null  int64          \n",
      " 4   Pressure                32686 non-null  float64        \n",
      " 5   Humidity                32686 non-null  int64          \n",
      " 6   WindDirection(Degrees)  32686 non-null  float64        \n",
      " 7   Speed                   32686 non-null  float64        \n",
      " 8   TimeSunRise             32686 non-null  timedelta64[ns]\n",
      " 9   TimeSunSet              32686 non-null  timedelta64[ns]\n",
      " 10  Month                   32686 non-null  int32          \n",
      " 11  Day                     32686 non-null  int32          \n",
      " 12  Year                    32686 non-null  int32          \n",
      " 13  SunRiseHour             32686 non-null  int32          \n",
      " 14  SunRiseMin              32686 non-null  int32          \n",
      " 15  SunSetSetHour           32686 non-null  int32          \n",
      " 16  SunSetSetMin            32686 non-null  int32          \n",
      " 17  DayLength               32686 non-null  timedelta64[ns]\n",
      " 18  Hour                    32686 non-null  int32          \n",
      " 19  Minute                  32686 non-null  int32          \n",
      " 20  Second                  32686 non-null  int32          \n",
      "dtypes: float64(4), int32(10), int64(3), object(1), timedelta64[ns](3)\n",
      "memory usage: 4.0+ MB\n"
     ]
    }
   ],
   "source": [
    "data.info()"
   ]
  },
  {
   "cell_type": "code",
   "execution_count": 14,
   "id": "c0e9af07",
   "metadata": {},
   "outputs": [],
   "source": [
    "data['Radiation']=data['Radiation'].astype(int)"
   ]
  },
  {
   "cell_type": "code",
   "execution_count": 15,
   "id": "c851a53c",
   "metadata": {},
   "outputs": [
    {
     "data": {
      "text/plain": [
       "Text(0.5, 1.0, 'Total Radiation per time of the day')"
      ]
     },
     "execution_count": 15,
     "metadata": {},
     "output_type": "execute_result"
    },
    {
     "data": {
      "image/png": "[encoded data removed]",
      "text/plain": [
       "<Figure size 1008x576 with 1 Axes>"
      ]
     },
     "metadata": {
      "needs_background": "light"
     },
     "output_type": "display_data"
    }
   ],
   "source": [
    "# Radiation vs Hour Plot\n",
    "data.loc[: , ['Radiation', 'Hour']].groupby('Hour').mean().plot(kind='bar', figsize=(14,8))\n",
    "plt.xlabel('Time of the day (hour)')\n",
    "plt.ylabel('Radiation(W/m2)')\n",
    "plt.title('Total Radiation per time of the day')"
   ]
  },
  {
   "cell_type": "markdown",
   "id": "9a3f3e71",
   "metadata": {},
   "source": [
    "As it can be seen, around noon is the maximum Radiation which makes sense."
   ]
  },
  {
   "cell_type": "code",
   "execution_count": 16,
   "id": "1c306ec9",
   "metadata": {},
   "outputs": [
    {
     "data": {
      "text/html": [
       "<div>\n",
       "<style scoped>\n",
       "    .dataframe tbody tr th:only-of-type {\n",
       "        vertical-align: middle;\n",
       "    }\n",
       "\n",
       "    .dataframe tbody tr th {\n",
       "        vertical-align: top;\n",
       "    }\n",
       "\n",
       "    .dataframe thead th {\n",
       "        text-align: right;\n",
       "    }\n",
       "</style>\n",
       "<table border=\"1\" class=\"dataframe\">\n",
       "  <thead>\n",
       "    <tr style=\"text-align: right;\">\n",
       "      <th></th>\n",
       "      <th>UNIXTime</th>\n",
       "      <th>Time</th>\n",
       "      <th>Radiation</th>\n",
       "      <th>Temperature</th>\n",
       "      <th>Pressure</th>\n",
       "      <th>Humidity</th>\n",
       "      <th>WindDirection(Degrees)</th>\n",
       "      <th>Speed</th>\n",
       "      <th>Month</th>\n",
       "      <th>Day</th>\n",
       "      <th>SunRiseHour</th>\n",
       "      <th>SunRiseMin</th>\n",
       "      <th>SunSetSetHour</th>\n",
       "      <th>SunSetSetMin</th>\n",
       "      <th>DayLength</th>\n",
       "      <th>Hour</th>\n",
       "      <th>Minute</th>\n",
       "      <th>Second</th>\n",
       "    </tr>\n",
       "  </thead>\n",
       "  <tbody>\n",
       "    <tr>\n",
       "      <th>0</th>\n",
       "      <td>1475229326</td>\n",
       "      <td>23:55:26</td>\n",
       "      <td>1</td>\n",
       "      <td>48</td>\n",
       "      <td>30.46</td>\n",
       "      <td>59</td>\n",
       "      <td>177.39</td>\n",
       "      <td>5.62</td>\n",
       "      <td>9</td>\n",
       "      <td>29</td>\n",
       "      <td>6</td>\n",
       "      <td>13</td>\n",
       "      <td>18</td>\n",
       "      <td>13</td>\n",
       "      <td>720.0</td>\n",
       "      <td>23</td>\n",
       "      <td>55</td>\n",
       "      <td>26</td>\n",
       "    </tr>\n",
       "    <tr>\n",
       "      <th>1</th>\n",
       "      <td>1475229023</td>\n",
       "      <td>23:50:23</td>\n",
       "      <td>1</td>\n",
       "      <td>48</td>\n",
       "      <td>30.46</td>\n",
       "      <td>58</td>\n",
       "      <td>176.78</td>\n",
       "      <td>3.37</td>\n",
       "      <td>9</td>\n",
       "      <td>29</td>\n",
       "      <td>6</td>\n",
       "      <td>13</td>\n",
       "      <td>18</td>\n",
       "      <td>13</td>\n",
       "      <td>720.0</td>\n",
       "      <td>23</td>\n",
       "      <td>50</td>\n",
       "      <td>23</td>\n",
       "    </tr>\n",
       "    <tr>\n",
       "      <th>2</th>\n",
       "      <td>1475228726</td>\n",
       "      <td>23:45:26</td>\n",
       "      <td>1</td>\n",
       "      <td>48</td>\n",
       "      <td>30.46</td>\n",
       "      <td>57</td>\n",
       "      <td>158.75</td>\n",
       "      <td>3.37</td>\n",
       "      <td>9</td>\n",
       "      <td>29</td>\n",
       "      <td>6</td>\n",
       "      <td>13</td>\n",
       "      <td>18</td>\n",
       "      <td>13</td>\n",
       "      <td>720.0</td>\n",
       "      <td>23</td>\n",
       "      <td>45</td>\n",
       "      <td>26</td>\n",
       "    </tr>\n",
       "    <tr>\n",
       "      <th>3</th>\n",
       "      <td>1475228421</td>\n",
       "      <td>23:40:21</td>\n",
       "      <td>1</td>\n",
       "      <td>48</td>\n",
       "      <td>30.46</td>\n",
       "      <td>60</td>\n",
       "      <td>137.71</td>\n",
       "      <td>3.37</td>\n",
       "      <td>9</td>\n",
       "      <td>29</td>\n",
       "      <td>6</td>\n",
       "      <td>13</td>\n",
       "      <td>18</td>\n",
       "      <td>13</td>\n",
       "      <td>720.0</td>\n",
       "      <td>23</td>\n",
       "      <td>40</td>\n",
       "      <td>21</td>\n",
       "    </tr>\n",
       "    <tr>\n",
       "      <th>4</th>\n",
       "      <td>1475228124</td>\n",
       "      <td>23:35:24</td>\n",
       "      <td>1</td>\n",
       "      <td>48</td>\n",
       "      <td>30.46</td>\n",
       "      <td>62</td>\n",
       "      <td>104.95</td>\n",
       "      <td>5.62</td>\n",
       "      <td>9</td>\n",
       "      <td>29</td>\n",
       "      <td>6</td>\n",
       "      <td>13</td>\n",
       "      <td>18</td>\n",
       "      <td>13</td>\n",
       "      <td>720.0</td>\n",
       "      <td>23</td>\n",
       "      <td>35</td>\n",
       "      <td>24</td>\n",
       "    </tr>\n",
       "    <tr>\n",
       "      <th>...</th>\n",
       "      <td>...</td>\n",
       "      <td>...</td>\n",
       "      <td>...</td>\n",
       "      <td>...</td>\n",
       "      <td>...</td>\n",
       "      <td>...</td>\n",
       "      <td>...</td>\n",
       "      <td>...</td>\n",
       "      <td>...</td>\n",
       "      <td>...</td>\n",
       "      <td>...</td>\n",
       "      <td>...</td>\n",
       "      <td>...</td>\n",
       "      <td>...</td>\n",
       "      <td>...</td>\n",
       "      <td>...</td>\n",
       "      <td>...</td>\n",
       "      <td>...</td>\n",
       "    </tr>\n",
       "    <tr>\n",
       "      <th>32681</th>\n",
       "      <td>1480587604</td>\n",
       "      <td>00:20:04</td>\n",
       "      <td>1</td>\n",
       "      <td>44</td>\n",
       "      <td>30.43</td>\n",
       "      <td>102</td>\n",
       "      <td>145.42</td>\n",
       "      <td>6.75</td>\n",
       "      <td>12</td>\n",
       "      <td>1</td>\n",
       "      <td>6</td>\n",
       "      <td>41</td>\n",
       "      <td>17</td>\n",
       "      <td>42</td>\n",
       "      <td>661.0</td>\n",
       "      <td>0</td>\n",
       "      <td>20</td>\n",
       "      <td>4</td>\n",
       "    </tr>\n",
       "    <tr>\n",
       "      <th>32682</th>\n",
       "      <td>1480587301</td>\n",
       "      <td>00:15:01</td>\n",
       "      <td>1</td>\n",
       "      <td>44</td>\n",
       "      <td>30.42</td>\n",
       "      <td>102</td>\n",
       "      <td>117.78</td>\n",
       "      <td>6.75</td>\n",
       "      <td>12</td>\n",
       "      <td>1</td>\n",
       "      <td>6</td>\n",
       "      <td>41</td>\n",
       "      <td>17</td>\n",
       "      <td>42</td>\n",
       "      <td>661.0</td>\n",
       "      <td>0</td>\n",
       "      <td>15</td>\n",
       "      <td>1</td>\n",
       "    </tr>\n",
       "    <tr>\n",
       "      <th>32683</th>\n",
       "      <td>1480587001</td>\n",
       "      <td>00:10:01</td>\n",
       "      <td>1</td>\n",
       "      <td>44</td>\n",
       "      <td>30.42</td>\n",
       "      <td>102</td>\n",
       "      <td>145.19</td>\n",
       "      <td>9.00</td>\n",
       "      <td>12</td>\n",
       "      <td>1</td>\n",
       "      <td>6</td>\n",
       "      <td>41</td>\n",
       "      <td>17</td>\n",
       "      <td>42</td>\n",
       "      <td>661.0</td>\n",
       "      <td>0</td>\n",
       "      <td>10</td>\n",
       "      <td>1</td>\n",
       "    </tr>\n",
       "    <tr>\n",
       "      <th>32684</th>\n",
       "      <td>1480586702</td>\n",
       "      <td>00:05:02</td>\n",
       "      <td>1</td>\n",
       "      <td>44</td>\n",
       "      <td>30.42</td>\n",
       "      <td>101</td>\n",
       "      <td>164.19</td>\n",
       "      <td>7.87</td>\n",
       "      <td>12</td>\n",
       "      <td>1</td>\n",
       "      <td>6</td>\n",
       "      <td>41</td>\n",
       "      <td>17</td>\n",
       "      <td>42</td>\n",
       "      <td>661.0</td>\n",
       "      <td>0</td>\n",
       "      <td>5</td>\n",
       "      <td>2</td>\n",
       "    </tr>\n",
       "    <tr>\n",
       "      <th>32685</th>\n",
       "      <td>1480586402</td>\n",
       "      <td>00:00:02</td>\n",
       "      <td>1</td>\n",
       "      <td>44</td>\n",
       "      <td>30.43</td>\n",
       "      <td>101</td>\n",
       "      <td>83.59</td>\n",
       "      <td>3.37</td>\n",
       "      <td>12</td>\n",
       "      <td>1</td>\n",
       "      <td>6</td>\n",
       "      <td>41</td>\n",
       "      <td>17</td>\n",
       "      <td>42</td>\n",
       "      <td>661.0</td>\n",
       "      <td>0</td>\n",
       "      <td>0</td>\n",
       "      <td>2</td>\n",
       "    </tr>\n",
       "  </tbody>\n",
       "</table>\n",
       "<p>32686 rows × 18 columns</p>\n",
       "</div>"
      ],
      "text/plain": [
       "         UNIXTime      Time  Radiation  Temperature  Pressure  Humidity  \\\n",
       "0      1475229326  23:55:26          1           48     30.46        59   \n",
       "1      1475229023  23:50:23          1           48     30.46        58   \n",
       "2      1475228726  23:45:26          1           48     30.46        57   \n",
       "3      1475228421  23:40:21          1           48     30.46        60   \n",
       "4      1475228124  23:35:24          1           48     30.46        62   \n",
       "...           ...       ...        ...          ...       ...       ...   \n",
       "32681  1480587604  00:20:04          1           44     30.43       102   \n",
       "32682  1480587301  00:15:01          1           44     30.42       102   \n",
       "32683  1480587001  00:10:01          1           44     30.42       102   \n",
       "32684  1480586702  00:05:02          1           44     30.42       101   \n",
       "32685  1480586402  00:00:02          1           44     30.43       101   \n",
       "\n",
       "       WindDirection(Degrees)  Speed  Month  Day  SunRiseHour  SunRiseMin  \\\n",
       "0                      177.39   5.62      9   29            6          13   \n",
       "1                      176.78   3.37      9   29            6          13   \n",
       "2                      158.75   3.37      9   29            6          13   \n",
       "3                      137.71   3.37      9   29            6          13   \n",
       "4                      104.95   5.62      9   29            6          13   \n",
       "...                       ...    ...    ...  ...          ...         ...   \n",
       "32681                  145.42   6.75     12    1            6          41   \n",
       "32682                  117.78   6.75     12    1            6          41   \n",
       "32683                  145.19   9.00     12    1            6          41   \n",
       "32684                  164.19   7.87     12    1            6          41   \n",
       "32685                   83.59   3.37     12    1            6          41   \n",
       "\n",
       "       SunSetSetHour  SunSetSetMin  DayLength  Hour  Minute  Second  \n",
       "0                 18            13      720.0    23      55      26  \n",
       "1                 18            13      720.0    23      50      23  \n",
       "2                 18            13      720.0    23      45      26  \n",
       "3                 18            13      720.0    23      40      21  \n",
       "4                 18            13      720.0    23      35      24  \n",
       "...              ...           ...        ...   ...     ...     ...  \n",
       "32681             17            42      661.0     0      20       4  \n",
       "32682             17            42      661.0     0      15       1  \n",
       "32683             17            42      661.0     0      10       1  \n",
       "32684             17            42      661.0     0       5       2  \n",
       "32685             17            42      661.0     0       0       2  \n",
       "\n",
       "[32686 rows x 18 columns]"
      ]
     },
     "execution_count": 16,
     "metadata": {},
     "output_type": "execute_result"
    }
   ],
   "source": [
    "# Converting the day length in minutes\n",
    "data['DayLength'] = data['DayLength'].dt.total_seconds().floordiv(60)\n",
    "data.drop(['TimeSunRise','TimeSunSet','Year'], axis=1, inplace=True)\n",
    "data"
   ]
  },
  {
   "cell_type": "code",
   "execution_count": 17,
   "id": "a44e46fa",
   "metadata": {},
   "outputs": [
    {
     "data": {
      "image/png": "[encoded data removed]",
      "text/plain": [
       "<Figure size 1152x576 with 1 Axes>"
      ]
     },
     "metadata": {
      "needs_background": "light"
     },
     "output_type": "display_data"
    }
   ],
   "source": [
    "rad_vs_time=data.loc[:, ['Radiation', 'DayLength']].groupby('DayLength').mean()\n",
    "rad_vs_time.plot(figsize=(16,8))\n",
    "plt.title('Average Radiation versus day length')\n",
    "plt.xlabel('Day length (minutes)')\n",
    "plt.ylabel('Radiation(W/m2)')\n",
    "plt.grid()\n",
    "plt.show()"
   ]
  },
  {
   "cell_type": "markdown",
   "id": "ba811e69",
   "metadata": {},
   "source": [
    "There is no strong correlation between daylength and Radiation, we can maybe ignore this feature while predicting Radiation. Now, to better understand the correlation between different features and Radiation we plot heatmap:"
   ]
  },
  {
   "cell_type": "code",
   "execution_count": 18,
   "id": "dd4c30db",
   "metadata": {},
   "outputs": [
    {
     "data": {
      "text/plain": [
       "<AxesSubplot:xlabel='Temperature', ylabel='Pressure'>"
      ]
     },
     "execution_count": 18,
     "metadata": {},
     "output_type": "execute_result"
    },
    {
     "data": {
      "image/png": "[encoded data removed]",
      "text/plain": [
       "<Figure size 1152x576 with 1 Axes>"
      ]
     },
     "metadata": {},
     "output_type": "display_data"
    }
   ],
   "source": [
    "plt.figure(figsize=(16,8),facecolor='white')\n",
    "sns.scatterplot(x=data['Temperature'],y=data['Pressure'],hue=data['Radiation'])"
   ]
  },
  {
   "cell_type": "code",
   "execution_count": 19,
   "id": "f4d6e61c",
   "metadata": {},
   "outputs": [
    {
     "data": {
      "image/png": "[encoded data removed]",
      "text/plain": [
       "<Figure size 1152x576 with 2 Axes>"
      ]
     },
     "metadata": {},
     "output_type": "display_data"
    }
   ],
   "source": [
    "## correlation matrix and heatmap\n",
    "cols_heatmap=['Temperature', 'Radiation', 'Pressure', 'Humidity', 'WindDirection(Degrees)', 'Speed', 'DayLength']\n",
    "corr_mat = data.loc[:, cols_heatmap].corr(method='pearson')\n",
    "# dataframe.corr() is used to find the pairwise correlation of all columns in the dataframe. pearson : standard correlation coefficient\n",
    "f, ax = plt.subplots(figsize=(16, 8))\n",
    "f.set_facecolor('white') # Add the white bg\n",
    "sns.heatmap(corr_mat, annot=True) \n",
    "# plot heatmap; annot=True shows the number, without it, there is no correlation value, just colors.\n",
    "plt.xticks(rotation=30)\n",
    "plt.show()"
   ]
  },
  {
   "cell_type": "markdown",
   "id": "5548bcac",
   "metadata": {},
   "source": [
    "It can be seen from heatmap that there is high correlation between temperature and Radiation, a low correlation between pressure and Radiation."
   ]
  },
  {
   "cell_type": "code",
   "execution_count": 20,
   "id": "c2cbc945",
   "metadata": {},
   "outputs": [
    {
     "data": {
      "text/html": [
       "<div>\n",
       "<style scoped>\n",
       "    .dataframe tbody tr th:only-of-type {\n",
       "        vertical-align: middle;\n",
       "    }\n",
       "\n",
       "    .dataframe tbody tr th {\n",
       "        vertical-align: top;\n",
       "    }\n",
       "\n",
       "    .dataframe thead th {\n",
       "        text-align: right;\n",
       "    }\n",
       "</style>\n",
       "<table border=\"1\" class=\"dataframe\">\n",
       "  <thead>\n",
       "    <tr style=\"text-align: right;\">\n",
       "      <th></th>\n",
       "      <th>UNIXTime</th>\n",
       "      <th>Time</th>\n",
       "      <th>Radiation</th>\n",
       "      <th>Temperature</th>\n",
       "      <th>Pressure</th>\n",
       "      <th>Humidity</th>\n",
       "      <th>WindDirection(Degrees)</th>\n",
       "      <th>Speed</th>\n",
       "      <th>Month</th>\n",
       "      <th>Day</th>\n",
       "      <th>SunRiseHour</th>\n",
       "      <th>SunRiseMin</th>\n",
       "      <th>SunSetSetHour</th>\n",
       "      <th>SunSetSetMin</th>\n",
       "      <th>DayLength</th>\n",
       "      <th>Hour</th>\n",
       "      <th>Minute</th>\n",
       "      <th>Second</th>\n",
       "    </tr>\n",
       "  </thead>\n",
       "  <tbody>\n",
       "    <tr>\n",
       "      <th>0</th>\n",
       "      <td>1475229326</td>\n",
       "      <td>23:55:26</td>\n",
       "      <td>1</td>\n",
       "      <td>48</td>\n",
       "      <td>30.46</td>\n",
       "      <td>59</td>\n",
       "      <td>177.39</td>\n",
       "      <td>5.62</td>\n",
       "      <td>9</td>\n",
       "      <td>29</td>\n",
       "      <td>6</td>\n",
       "      <td>13</td>\n",
       "      <td>18</td>\n",
       "      <td>13</td>\n",
       "      <td>720.0</td>\n",
       "      <td>23</td>\n",
       "      <td>55</td>\n",
       "      <td>26</td>\n",
       "    </tr>\n",
       "    <tr>\n",
       "      <th>1</th>\n",
       "      <td>1475229023</td>\n",
       "      <td>23:50:23</td>\n",
       "      <td>1</td>\n",
       "      <td>48</td>\n",
       "      <td>30.46</td>\n",
       "      <td>58</td>\n",
       "      <td>176.78</td>\n",
       "      <td>3.37</td>\n",
       "      <td>9</td>\n",
       "      <td>29</td>\n",
       "      <td>6</td>\n",
       "      <td>13</td>\n",
       "      <td>18</td>\n",
       "      <td>13</td>\n",
       "      <td>720.0</td>\n",
       "      <td>23</td>\n",
       "      <td>50</td>\n",
       "      <td>23</td>\n",
       "    </tr>\n",
       "    <tr>\n",
       "      <th>2</th>\n",
       "      <td>1475228726</td>\n",
       "      <td>23:45:26</td>\n",
       "      <td>1</td>\n",
       "      <td>48</td>\n",
       "      <td>30.46</td>\n",
       "      <td>57</td>\n",
       "      <td>158.75</td>\n",
       "      <td>3.37</td>\n",
       "      <td>9</td>\n",
       "      <td>29</td>\n",
       "      <td>6</td>\n",
       "      <td>13</td>\n",
       "      <td>18</td>\n",
       "      <td>13</td>\n",
       "      <td>720.0</td>\n",
       "      <td>23</td>\n",
       "      <td>45</td>\n",
       "      <td>26</td>\n",
       "    </tr>\n",
       "    <tr>\n",
       "      <th>3</th>\n",
       "      <td>1475228421</td>\n",
       "      <td>23:40:21</td>\n",
       "      <td>1</td>\n",
       "      <td>48</td>\n",
       "      <td>30.46</td>\n",
       "      <td>60</td>\n",
       "      <td>137.71</td>\n",
       "      <td>3.37</td>\n",
       "      <td>9</td>\n",
       "      <td>29</td>\n",
       "      <td>6</td>\n",
       "      <td>13</td>\n",
       "      <td>18</td>\n",
       "      <td>13</td>\n",
       "      <td>720.0</td>\n",
       "      <td>23</td>\n",
       "      <td>40</td>\n",
       "      <td>21</td>\n",
       "    </tr>\n",
       "    <tr>\n",
       "      <th>4</th>\n",
       "      <td>1475228124</td>\n",
       "      <td>23:35:24</td>\n",
       "      <td>1</td>\n",
       "      <td>48</td>\n",
       "      <td>30.46</td>\n",
       "      <td>62</td>\n",
       "      <td>104.95</td>\n",
       "      <td>5.62</td>\n",
       "      <td>9</td>\n",
       "      <td>29</td>\n",
       "      <td>6</td>\n",
       "      <td>13</td>\n",
       "      <td>18</td>\n",
       "      <td>13</td>\n",
       "      <td>720.0</td>\n",
       "      <td>23</td>\n",
       "      <td>35</td>\n",
       "      <td>24</td>\n",
       "    </tr>\n",
       "    <tr>\n",
       "      <th>...</th>\n",
       "      <td>...</td>\n",
       "      <td>...</td>\n",
       "      <td>...</td>\n",
       "      <td>...</td>\n",
       "      <td>...</td>\n",
       "      <td>...</td>\n",
       "      <td>...</td>\n",
       "      <td>...</td>\n",
       "      <td>...</td>\n",
       "      <td>...</td>\n",
       "      <td>...</td>\n",
       "      <td>...</td>\n",
       "      <td>...</td>\n",
       "      <td>...</td>\n",
       "      <td>...</td>\n",
       "      <td>...</td>\n",
       "      <td>...</td>\n",
       "      <td>...</td>\n",
       "    </tr>\n",
       "    <tr>\n",
       "      <th>32681</th>\n",
       "      <td>1480587604</td>\n",
       "      <td>00:20:04</td>\n",
       "      <td>1</td>\n",
       "      <td>44</td>\n",
       "      <td>30.43</td>\n",
       "      <td>102</td>\n",
       "      <td>145.42</td>\n",
       "      <td>6.75</td>\n",
       "      <td>12</td>\n",
       "      <td>1</td>\n",
       "      <td>6</td>\n",
       "      <td>41</td>\n",
       "      <td>17</td>\n",
       "      <td>42</td>\n",
       "      <td>661.0</td>\n",
       "      <td>0</td>\n",
       "      <td>20</td>\n",
       "      <td>4</td>\n",
       "    </tr>\n",
       "    <tr>\n",
       "      <th>32682</th>\n",
       "      <td>1480587301</td>\n",
       "      <td>00:15:01</td>\n",
       "      <td>1</td>\n",
       "      <td>44</td>\n",
       "      <td>30.42</td>\n",
       "      <td>102</td>\n",
       "      <td>117.78</td>\n",
       "      <td>6.75</td>\n",
       "      <td>12</td>\n",
       "      <td>1</td>\n",
       "      <td>6</td>\n",
       "      <td>41</td>\n",
       "      <td>17</td>\n",
       "      <td>42</td>\n",
       "      <td>661.0</td>\n",
       "      <td>0</td>\n",
       "      <td>15</td>\n",
       "      <td>1</td>\n",
       "    </tr>\n",
       "    <tr>\n",
       "      <th>32683</th>\n",
       "      <td>1480587001</td>\n",
       "      <td>00:10:01</td>\n",
       "      <td>1</td>\n",
       "      <td>44</td>\n",
       "      <td>30.42</td>\n",
       "      <td>102</td>\n",
       "      <td>145.19</td>\n",
       "      <td>9.00</td>\n",
       "      <td>12</td>\n",
       "      <td>1</td>\n",
       "      <td>6</td>\n",
       "      <td>41</td>\n",
       "      <td>17</td>\n",
       "      <td>42</td>\n",
       "      <td>661.0</td>\n",
       "      <td>0</td>\n",
       "      <td>10</td>\n",
       "      <td>1</td>\n",
       "    </tr>\n",
       "    <tr>\n",
       "      <th>32684</th>\n",
       "      <td>1480586702</td>\n",
       "      <td>00:05:02</td>\n",
       "      <td>1</td>\n",
       "      <td>44</td>\n",
       "      <td>30.42</td>\n",
       "      <td>101</td>\n",
       "      <td>164.19</td>\n",
       "      <td>7.87</td>\n",
       "      <td>12</td>\n",
       "      <td>1</td>\n",
       "      <td>6</td>\n",
       "      <td>41</td>\n",
       "      <td>17</td>\n",
       "      <td>42</td>\n",
       "      <td>661.0</td>\n",
       "      <td>0</td>\n",
       "      <td>5</td>\n",
       "      <td>2</td>\n",
       "    </tr>\n",
       "    <tr>\n",
       "      <th>32685</th>\n",
       "      <td>1480586402</td>\n",
       "      <td>00:00:02</td>\n",
       "      <td>1</td>\n",
       "      <td>44</td>\n",
       "      <td>30.43</td>\n",
       "      <td>101</td>\n",
       "      <td>83.59</td>\n",
       "      <td>3.37</td>\n",
       "      <td>12</td>\n",
       "      <td>1</td>\n",
       "      <td>6</td>\n",
       "      <td>41</td>\n",
       "      <td>17</td>\n",
       "      <td>42</td>\n",
       "      <td>661.0</td>\n",
       "      <td>0</td>\n",
       "      <td>0</td>\n",
       "      <td>2</td>\n",
       "    </tr>\n",
       "  </tbody>\n",
       "</table>\n",
       "<p>32686 rows × 18 columns</p>\n",
       "</div>"
      ],
      "text/plain": [
       "         UNIXTime      Time  Radiation  Temperature  Pressure  Humidity  \\\n",
       "0      1475229326  23:55:26          1           48     30.46        59   \n",
       "1      1475229023  23:50:23          1           48     30.46        58   \n",
       "2      1475228726  23:45:26          1           48     30.46        57   \n",
       "3      1475228421  23:40:21          1           48     30.46        60   \n",
       "4      1475228124  23:35:24          1           48     30.46        62   \n",
       "...           ...       ...        ...          ...       ...       ...   \n",
       "32681  1480587604  00:20:04          1           44     30.43       102   \n",
       "32682  1480587301  00:15:01          1           44     30.42       102   \n",
       "32683  1480587001  00:10:01          1           44     30.42       102   \n",
       "32684  1480586702  00:05:02          1           44     30.42       101   \n",
       "32685  1480586402  00:00:02          1           44     30.43       101   \n",
       "\n",
       "       WindDirection(Degrees)  Speed  Month  Day  SunRiseHour  SunRiseMin  \\\n",
       "0                      177.39   5.62      9   29            6          13   \n",
       "1                      176.78   3.37      9   29            6          13   \n",
       "2                      158.75   3.37      9   29            6          13   \n",
       "3                      137.71   3.37      9   29            6          13   \n",
       "4                      104.95   5.62      9   29            6          13   \n",
       "...                       ...    ...    ...  ...          ...         ...   \n",
       "32681                  145.42   6.75     12    1            6          41   \n",
       "32682                  117.78   6.75     12    1            6          41   \n",
       "32683                  145.19   9.00     12    1            6          41   \n",
       "32684                  164.19   7.87     12    1            6          41   \n",
       "32685                   83.59   3.37     12    1            6          41   \n",
       "\n",
       "       SunSetSetHour  SunSetSetMin  DayLength  Hour  Minute  Second  \n",
       "0                 18            13      720.0    23      55      26  \n",
       "1                 18            13      720.0    23      50      23  \n",
       "2                 18            13      720.0    23      45      26  \n",
       "3                 18            13      720.0    23      40      21  \n",
       "4                 18            13      720.0    23      35      24  \n",
       "...              ...           ...        ...   ...     ...     ...  \n",
       "32681             17            42      661.0     0      20       4  \n",
       "32682             17            42      661.0     0      15       1  \n",
       "32683             17            42      661.0     0      10       1  \n",
       "32684             17            42      661.0     0       5       2  \n",
       "32685             17            42      661.0     0       0       2  \n",
       "\n",
       "[32686 rows x 18 columns]"
      ]
     },
     "execution_count": 20,
     "metadata": {},
     "output_type": "execute_result"
    }
   ],
   "source": [
    "data"
   ]
  },
  {
   "cell_type": "code",
   "execution_count": 21,
   "id": "ce2f83ed",
   "metadata": {},
   "outputs": [
    {
     "data": {
      "text/html": [
       "<div>\n",
       "<style scoped>\n",
       "    .dataframe tbody tr th:only-of-type {\n",
       "        vertical-align: middle;\n",
       "    }\n",
       "\n",
       "    .dataframe tbody tr th {\n",
       "        vertical-align: top;\n",
       "    }\n",
       "\n",
       "    .dataframe thead th {\n",
       "        text-align: right;\n",
       "    }\n",
       "</style>\n",
       "<table border=\"1\" class=\"dataframe\">\n",
       "  <thead>\n",
       "    <tr style=\"text-align: right;\">\n",
       "      <th></th>\n",
       "      <th>UNIXTime</th>\n",
       "      <th>Time</th>\n",
       "      <th>Radiation</th>\n",
       "      <th>Temperature</th>\n",
       "      <th>Pressure</th>\n",
       "      <th>Humidity</th>\n",
       "      <th>WindDirection(Degrees)</th>\n",
       "      <th>Speed</th>\n",
       "      <th>Month</th>\n",
       "      <th>Day</th>\n",
       "      <th>SunRiseHour</th>\n",
       "      <th>SunRiseMin</th>\n",
       "      <th>SunSetSetHour</th>\n",
       "      <th>SunSetSetMin</th>\n",
       "      <th>DayLength</th>\n",
       "      <th>Hour</th>\n",
       "      <th>Minute</th>\n",
       "      <th>Second</th>\n",
       "    </tr>\n",
       "  </thead>\n",
       "  <tbody>\n",
       "    <tr>\n",
       "      <th>7416</th>\n",
       "      <td>1472724008</td>\n",
       "      <td>00:00:08</td>\n",
       "      <td>2</td>\n",
       "      <td>51</td>\n",
       "      <td>30.43</td>\n",
       "      <td>103</td>\n",
       "      <td>77.27</td>\n",
       "      <td>11.25</td>\n",
       "      <td>9</td>\n",
       "      <td>1</td>\n",
       "      <td>6</td>\n",
       "      <td>7</td>\n",
       "      <td>18</td>\n",
       "      <td>38</td>\n",
       "      <td>751.0</td>\n",
       "      <td>0</td>\n",
       "      <td>0</td>\n",
       "      <td>8</td>\n",
       "    </tr>\n",
       "    <tr>\n",
       "      <th>7415</th>\n",
       "      <td>1472724310</td>\n",
       "      <td>00:05:10</td>\n",
       "      <td>2</td>\n",
       "      <td>51</td>\n",
       "      <td>30.43</td>\n",
       "      <td>103</td>\n",
       "      <td>153.44</td>\n",
       "      <td>9.00</td>\n",
       "      <td>9</td>\n",
       "      <td>1</td>\n",
       "      <td>6</td>\n",
       "      <td>7</td>\n",
       "      <td>18</td>\n",
       "      <td>38</td>\n",
       "      <td>751.0</td>\n",
       "      <td>0</td>\n",
       "      <td>5</td>\n",
       "      <td>10</td>\n",
       "    </tr>\n",
       "    <tr>\n",
       "      <th>7414</th>\n",
       "      <td>1472725206</td>\n",
       "      <td>00:20:06</td>\n",
       "      <td>2</td>\n",
       "      <td>51</td>\n",
       "      <td>30.43</td>\n",
       "      <td>103</td>\n",
       "      <td>142.04</td>\n",
       "      <td>7.87</td>\n",
       "      <td>9</td>\n",
       "      <td>1</td>\n",
       "      <td>6</td>\n",
       "      <td>7</td>\n",
       "      <td>18</td>\n",
       "      <td>38</td>\n",
       "      <td>751.0</td>\n",
       "      <td>0</td>\n",
       "      <td>20</td>\n",
       "      <td>6</td>\n",
       "    </tr>\n",
       "    <tr>\n",
       "      <th>7413</th>\n",
       "      <td>1472725505</td>\n",
       "      <td>00:25:05</td>\n",
       "      <td>2</td>\n",
       "      <td>51</td>\n",
       "      <td>30.43</td>\n",
       "      <td>103</td>\n",
       "      <td>144.12</td>\n",
       "      <td>18.00</td>\n",
       "      <td>9</td>\n",
       "      <td>1</td>\n",
       "      <td>6</td>\n",
       "      <td>7</td>\n",
       "      <td>18</td>\n",
       "      <td>38</td>\n",
       "      <td>751.0</td>\n",
       "      <td>0</td>\n",
       "      <td>25</td>\n",
       "      <td>5</td>\n",
       "    </tr>\n",
       "    <tr>\n",
       "      <th>7412</th>\n",
       "      <td>1472725809</td>\n",
       "      <td>00:30:09</td>\n",
       "      <td>2</td>\n",
       "      <td>51</td>\n",
       "      <td>30.43</td>\n",
       "      <td>103</td>\n",
       "      <td>67.42</td>\n",
       "      <td>11.25</td>\n",
       "      <td>9</td>\n",
       "      <td>1</td>\n",
       "      <td>6</td>\n",
       "      <td>7</td>\n",
       "      <td>18</td>\n",
       "      <td>38</td>\n",
       "      <td>751.0</td>\n",
       "      <td>0</td>\n",
       "      <td>30</td>\n",
       "      <td>9</td>\n",
       "    </tr>\n",
       "    <tr>\n",
       "      <th>...</th>\n",
       "      <td>...</td>\n",
       "      <td>...</td>\n",
       "      <td>...</td>\n",
       "      <td>...</td>\n",
       "      <td>...</td>\n",
       "      <td>...</td>\n",
       "      <td>...</td>\n",
       "      <td>...</td>\n",
       "      <td>...</td>\n",
       "      <td>...</td>\n",
       "      <td>...</td>\n",
       "      <td>...</td>\n",
       "      <td>...</td>\n",
       "      <td>...</td>\n",
       "      <td>...</td>\n",
       "      <td>...</td>\n",
       "      <td>...</td>\n",
       "      <td>...</td>\n",
       "    </tr>\n",
       "    <tr>\n",
       "      <th>24526</th>\n",
       "      <td>1483263302</td>\n",
       "      <td>23:35:02</td>\n",
       "      <td>1</td>\n",
       "      <td>41</td>\n",
       "      <td>30.34</td>\n",
       "      <td>83</td>\n",
       "      <td>238.94</td>\n",
       "      <td>6.75</td>\n",
       "      <td>12</td>\n",
       "      <td>31</td>\n",
       "      <td>6</td>\n",
       "      <td>57</td>\n",
       "      <td>17</td>\n",
       "      <td>54</td>\n",
       "      <td>657.0</td>\n",
       "      <td>23</td>\n",
       "      <td>35</td>\n",
       "      <td>2</td>\n",
       "    </tr>\n",
       "    <tr>\n",
       "      <th>24525</th>\n",
       "      <td>1483263601</td>\n",
       "      <td>23:40:01</td>\n",
       "      <td>1</td>\n",
       "      <td>41</td>\n",
       "      <td>30.34</td>\n",
       "      <td>82</td>\n",
       "      <td>236.79</td>\n",
       "      <td>5.62</td>\n",
       "      <td>12</td>\n",
       "      <td>31</td>\n",
       "      <td>6</td>\n",
       "      <td>57</td>\n",
       "      <td>17</td>\n",
       "      <td>54</td>\n",
       "      <td>657.0</td>\n",
       "      <td>23</td>\n",
       "      <td>40</td>\n",
       "      <td>1</td>\n",
       "    </tr>\n",
       "    <tr>\n",
       "      <th>24524</th>\n",
       "      <td>1483263904</td>\n",
       "      <td>23:45:04</td>\n",
       "      <td>1</td>\n",
       "      <td>42</td>\n",
       "      <td>30.34</td>\n",
       "      <td>81</td>\n",
       "      <td>218.28</td>\n",
       "      <td>7.87</td>\n",
       "      <td>12</td>\n",
       "      <td>31</td>\n",
       "      <td>6</td>\n",
       "      <td>57</td>\n",
       "      <td>17</td>\n",
       "      <td>54</td>\n",
       "      <td>657.0</td>\n",
       "      <td>23</td>\n",
       "      <td>45</td>\n",
       "      <td>4</td>\n",
       "    </tr>\n",
       "    <tr>\n",
       "      <th>24523</th>\n",
       "      <td>1483264203</td>\n",
       "      <td>23:50:03</td>\n",
       "      <td>1</td>\n",
       "      <td>41</td>\n",
       "      <td>30.34</td>\n",
       "      <td>80</td>\n",
       "      <td>215.23</td>\n",
       "      <td>7.87</td>\n",
       "      <td>12</td>\n",
       "      <td>31</td>\n",
       "      <td>6</td>\n",
       "      <td>57</td>\n",
       "      <td>17</td>\n",
       "      <td>54</td>\n",
       "      <td>657.0</td>\n",
       "      <td>23</td>\n",
       "      <td>50</td>\n",
       "      <td>3</td>\n",
       "    </tr>\n",
       "    <tr>\n",
       "      <th>24522</th>\n",
       "      <td>1483264501</td>\n",
       "      <td>23:55:01</td>\n",
       "      <td>1</td>\n",
       "      <td>41</td>\n",
       "      <td>30.34</td>\n",
       "      <td>81</td>\n",
       "      <td>215.56</td>\n",
       "      <td>9.00</td>\n",
       "      <td>12</td>\n",
       "      <td>31</td>\n",
       "      <td>6</td>\n",
       "      <td>57</td>\n",
       "      <td>17</td>\n",
       "      <td>54</td>\n",
       "      <td>657.0</td>\n",
       "      <td>23</td>\n",
       "      <td>55</td>\n",
       "      <td>1</td>\n",
       "    </tr>\n",
       "  </tbody>\n",
       "</table>\n",
       "<p>32686 rows × 18 columns</p>\n",
       "</div>"
      ],
      "text/plain": [
       "         UNIXTime      Time  Radiation  Temperature  Pressure  Humidity  \\\n",
       "7416   1472724008  00:00:08          2           51     30.43       103   \n",
       "7415   1472724310  00:05:10          2           51     30.43       103   \n",
       "7414   1472725206  00:20:06          2           51     30.43       103   \n",
       "7413   1472725505  00:25:05          2           51     30.43       103   \n",
       "7412   1472725809  00:30:09          2           51     30.43       103   \n",
       "...           ...       ...        ...          ...       ...       ...   \n",
       "24526  1483263302  23:35:02          1           41     30.34        83   \n",
       "24525  1483263601  23:40:01          1           41     30.34        82   \n",
       "24524  1483263904  23:45:04          1           42     30.34        81   \n",
       "24523  1483264203  23:50:03          1           41     30.34        80   \n",
       "24522  1483264501  23:55:01          1           41     30.34        81   \n",
       "\n",
       "       WindDirection(Degrees)  Speed  Month  Day  SunRiseHour  SunRiseMin  \\\n",
       "7416                    77.27  11.25      9    1            6           7   \n",
       "7415                   153.44   9.00      9    1            6           7   \n",
       "7414                   142.04   7.87      9    1            6           7   \n",
       "7413                   144.12  18.00      9    1            6           7   \n",
       "7412                    67.42  11.25      9    1            6           7   \n",
       "...                       ...    ...    ...  ...          ...         ...   \n",
       "24526                  238.94   6.75     12   31            6          57   \n",
       "24525                  236.79   5.62     12   31            6          57   \n",
       "24524                  218.28   7.87     12   31            6          57   \n",
       "24523                  215.23   7.87     12   31            6          57   \n",
       "24522                  215.56   9.00     12   31            6          57   \n",
       "\n",
       "       SunSetSetHour  SunSetSetMin  DayLength  Hour  Minute  Second  \n",
       "7416              18            38      751.0     0       0       8  \n",
       "7415              18            38      751.0     0       5      10  \n",
       "7414              18            38      751.0     0      20       6  \n",
       "7413              18            38      751.0     0      25       5  \n",
       "7412              18            38      751.0     0      30       9  \n",
       "...              ...           ...        ...   ...     ...     ...  \n",
       "24526             17            54      657.0    23      35       2  \n",
       "24525             17            54      657.0    23      40       1  \n",
       "24524             17            54      657.0    23      45       4  \n",
       "24523             17            54      657.0    23      50       3  \n",
       "24522             17            54      657.0    23      55       1  \n",
       "\n",
       "[32686 rows x 18 columns]"
      ]
     },
     "execution_count": 21,
     "metadata": {},
     "output_type": "execute_result"
    }
   ],
   "source": [
    "data=data.sort_values('UNIXTime')\n",
    "data"
   ]
  },
  {
   "cell_type": "code",
   "execution_count": 22,
   "id": "b8ea3685",
   "metadata": {},
   "outputs": [
    {
     "data": {
      "text/html": [
       "<div>\n",
       "<style scoped>\n",
       "    .dataframe tbody tr th:only-of-type {\n",
       "        vertical-align: middle;\n",
       "    }\n",
       "\n",
       "    .dataframe tbody tr th {\n",
       "        vertical-align: top;\n",
       "    }\n",
       "\n",
       "    .dataframe thead th {\n",
       "        text-align: right;\n",
       "    }\n",
       "</style>\n",
       "<table border=\"1\" class=\"dataframe\">\n",
       "  <thead>\n",
       "    <tr style=\"text-align: right;\">\n",
       "      <th></th>\n",
       "      <th>UNIXTime</th>\n",
       "      <th>Time</th>\n",
       "      <th>Radiation</th>\n",
       "      <th>Temperature</th>\n",
       "      <th>Pressure</th>\n",
       "      <th>Humidity</th>\n",
       "      <th>WindDirection(Degrees)</th>\n",
       "      <th>Speed</th>\n",
       "      <th>Month</th>\n",
       "      <th>Day</th>\n",
       "      <th>SunRiseHour</th>\n",
       "      <th>SunRiseMin</th>\n",
       "      <th>SunSetSetHour</th>\n",
       "      <th>SunSetSetMin</th>\n",
       "      <th>DayLength</th>\n",
       "      <th>Hour</th>\n",
       "      <th>Minute</th>\n",
       "      <th>Second</th>\n",
       "    </tr>\n",
       "  </thead>\n",
       "  <tbody>\n",
       "    <tr>\n",
       "      <th>0</th>\n",
       "      <td>1472724008</td>\n",
       "      <td>00:00:08</td>\n",
       "      <td>2</td>\n",
       "      <td>51</td>\n",
       "      <td>30.43</td>\n",
       "      <td>103</td>\n",
       "      <td>77.27</td>\n",
       "      <td>11.25</td>\n",
       "      <td>9</td>\n",
       "      <td>1</td>\n",
       "      <td>6</td>\n",
       "      <td>7</td>\n",
       "      <td>18</td>\n",
       "      <td>38</td>\n",
       "      <td>751.0</td>\n",
       "      <td>0</td>\n",
       "      <td>0</td>\n",
       "      <td>8</td>\n",
       "    </tr>\n",
       "    <tr>\n",
       "      <th>1</th>\n",
       "      <td>1472724310</td>\n",
       "      <td>00:05:10</td>\n",
       "      <td>2</td>\n",
       "      <td>51</td>\n",
       "      <td>30.43</td>\n",
       "      <td>103</td>\n",
       "      <td>153.44</td>\n",
       "      <td>9.00</td>\n",
       "      <td>9</td>\n",
       "      <td>1</td>\n",
       "      <td>6</td>\n",
       "      <td>7</td>\n",
       "      <td>18</td>\n",
       "      <td>38</td>\n",
       "      <td>751.0</td>\n",
       "      <td>0</td>\n",
       "      <td>5</td>\n",
       "      <td>10</td>\n",
       "    </tr>\n",
       "    <tr>\n",
       "      <th>2</th>\n",
       "      <td>1472725206</td>\n",
       "      <td>00:20:06</td>\n",
       "      <td>2</td>\n",
       "      <td>51</td>\n",
       "      <td>30.43</td>\n",
       "      <td>103</td>\n",
       "      <td>142.04</td>\n",
       "      <td>7.87</td>\n",
       "      <td>9</td>\n",
       "      <td>1</td>\n",
       "      <td>6</td>\n",
       "      <td>7</td>\n",
       "      <td>18</td>\n",
       "      <td>38</td>\n",
       "      <td>751.0</td>\n",
       "      <td>0</td>\n",
       "      <td>20</td>\n",
       "      <td>6</td>\n",
       "    </tr>\n",
       "    <tr>\n",
       "      <th>3</th>\n",
       "      <td>1472725505</td>\n",
       "      <td>00:25:05</td>\n",
       "      <td>2</td>\n",
       "      <td>51</td>\n",
       "      <td>30.43</td>\n",
       "      <td>103</td>\n",
       "      <td>144.12</td>\n",
       "      <td>18.00</td>\n",
       "      <td>9</td>\n",
       "      <td>1</td>\n",
       "      <td>6</td>\n",
       "      <td>7</td>\n",
       "      <td>18</td>\n",
       "      <td>38</td>\n",
       "      <td>751.0</td>\n",
       "      <td>0</td>\n",
       "      <td>25</td>\n",
       "      <td>5</td>\n",
       "    </tr>\n",
       "    <tr>\n",
       "      <th>4</th>\n",
       "      <td>1472725809</td>\n",
       "      <td>00:30:09</td>\n",
       "      <td>2</td>\n",
       "      <td>51</td>\n",
       "      <td>30.43</td>\n",
       "      <td>103</td>\n",
       "      <td>67.42</td>\n",
       "      <td>11.25</td>\n",
       "      <td>9</td>\n",
       "      <td>1</td>\n",
       "      <td>6</td>\n",
       "      <td>7</td>\n",
       "      <td>18</td>\n",
       "      <td>38</td>\n",
       "      <td>751.0</td>\n",
       "      <td>0</td>\n",
       "      <td>30</td>\n",
       "      <td>9</td>\n",
       "    </tr>\n",
       "    <tr>\n",
       "      <th>...</th>\n",
       "      <td>...</td>\n",
       "      <td>...</td>\n",
       "      <td>...</td>\n",
       "      <td>...</td>\n",
       "      <td>...</td>\n",
       "      <td>...</td>\n",
       "      <td>...</td>\n",
       "      <td>...</td>\n",
       "      <td>...</td>\n",
       "      <td>...</td>\n",
       "      <td>...</td>\n",
       "      <td>...</td>\n",
       "      <td>...</td>\n",
       "      <td>...</td>\n",
       "      <td>...</td>\n",
       "      <td>...</td>\n",
       "      <td>...</td>\n",
       "      <td>...</td>\n",
       "    </tr>\n",
       "    <tr>\n",
       "      <th>32681</th>\n",
       "      <td>1483263302</td>\n",
       "      <td>23:35:02</td>\n",
       "      <td>1</td>\n",
       "      <td>41</td>\n",
       "      <td>30.34</td>\n",
       "      <td>83</td>\n",
       "      <td>238.94</td>\n",
       "      <td>6.75</td>\n",
       "      <td>12</td>\n",
       "      <td>31</td>\n",
       "      <td>6</td>\n",
       "      <td>57</td>\n",
       "      <td>17</td>\n",
       "      <td>54</td>\n",
       "      <td>657.0</td>\n",
       "      <td>23</td>\n",
       "      <td>35</td>\n",
       "      <td>2</td>\n",
       "    </tr>\n",
       "    <tr>\n",
       "      <th>32682</th>\n",
       "      <td>1483263601</td>\n",
       "      <td>23:40:01</td>\n",
       "      <td>1</td>\n",
       "      <td>41</td>\n",
       "      <td>30.34</td>\n",
       "      <td>82</td>\n",
       "      <td>236.79</td>\n",
       "      <td>5.62</td>\n",
       "      <td>12</td>\n",
       "      <td>31</td>\n",
       "      <td>6</td>\n",
       "      <td>57</td>\n",
       "      <td>17</td>\n",
       "      <td>54</td>\n",
       "      <td>657.0</td>\n",
       "      <td>23</td>\n",
       "      <td>40</td>\n",
       "      <td>1</td>\n",
       "    </tr>\n",
       "    <tr>\n",
       "      <th>32683</th>\n",
       "      <td>1483263904</td>\n",
       "      <td>23:45:04</td>\n",
       "      <td>1</td>\n",
       "      <td>42</td>\n",
       "      <td>30.34</td>\n",
       "      <td>81</td>\n",
       "      <td>218.28</td>\n",
       "      <td>7.87</td>\n",
       "      <td>12</td>\n",
       "      <td>31</td>\n",
       "      <td>6</td>\n",
       "      <td>57</td>\n",
       "      <td>17</td>\n",
       "      <td>54</td>\n",
       "      <td>657.0</td>\n",
       "      <td>23</td>\n",
       "      <td>45</td>\n",
       "      <td>4</td>\n",
       "    </tr>\n",
       "    <tr>\n",
       "      <th>32684</th>\n",
       "      <td>1483264203</td>\n",
       "      <td>23:50:03</td>\n",
       "      <td>1</td>\n",
       "      <td>41</td>\n",
       "      <td>30.34</td>\n",
       "      <td>80</td>\n",
       "      <td>215.23</td>\n",
       "      <td>7.87</td>\n",
       "      <td>12</td>\n",
       "      <td>31</td>\n",
       "      <td>6</td>\n",
       "      <td>57</td>\n",
       "      <td>17</td>\n",
       "      <td>54</td>\n",
       "      <td>657.0</td>\n",
       "      <td>23</td>\n",
       "      <td>50</td>\n",
       "      <td>3</td>\n",
       "    </tr>\n",
       "    <tr>\n",
       "      <th>32685</th>\n",
       "      <td>1483264501</td>\n",
       "      <td>23:55:01</td>\n",
       "      <td>1</td>\n",
       "      <td>41</td>\n",
       "      <td>30.34</td>\n",
       "      <td>81</td>\n",
       "      <td>215.56</td>\n",
       "      <td>9.00</td>\n",
       "      <td>12</td>\n",
       "      <td>31</td>\n",
       "      <td>6</td>\n",
       "      <td>57</td>\n",
       "      <td>17</td>\n",
       "      <td>54</td>\n",
       "      <td>657.0</td>\n",
       "      <td>23</td>\n",
       "      <td>55</td>\n",
       "      <td>1</td>\n",
       "    </tr>\n",
       "  </tbody>\n",
       "</table>\n",
       "<p>32686 rows × 18 columns</p>\n",
       "</div>"
      ],
      "text/plain": [
       "         UNIXTime      Time  Radiation  Temperature  Pressure  Humidity  \\\n",
       "0      1472724008  00:00:08          2           51     30.43       103   \n",
       "1      1472724310  00:05:10          2           51     30.43       103   \n",
       "2      1472725206  00:20:06          2           51     30.43       103   \n",
       "3      1472725505  00:25:05          2           51     30.43       103   \n",
       "4      1472725809  00:30:09          2           51     30.43       103   \n",
       "...           ...       ...        ...          ...       ...       ...   \n",
       "32681  1483263302  23:35:02          1           41     30.34        83   \n",
       "32682  1483263601  23:40:01          1           41     30.34        82   \n",
       "32683  1483263904  23:45:04          1           42     30.34        81   \n",
       "32684  1483264203  23:50:03          1           41     30.34        80   \n",
       "32685  1483264501  23:55:01          1           41     30.34        81   \n",
       "\n",
       "       WindDirection(Degrees)  Speed  Month  Day  SunRiseHour  SunRiseMin  \\\n",
       "0                       77.27  11.25      9    1            6           7   \n",
       "1                      153.44   9.00      9    1            6           7   \n",
       "2                      142.04   7.87      9    1            6           7   \n",
       "3                      144.12  18.00      9    1            6           7   \n",
       "4                       67.42  11.25      9    1            6           7   \n",
       "...                       ...    ...    ...  ...          ...         ...   \n",
       "32681                  238.94   6.75     12   31            6          57   \n",
       "32682                  236.79   5.62     12   31            6          57   \n",
       "32683                  218.28   7.87     12   31            6          57   \n",
       "32684                  215.23   7.87     12   31            6          57   \n",
       "32685                  215.56   9.00     12   31            6          57   \n",
       "\n",
       "       SunSetSetHour  SunSetSetMin  DayLength  Hour  Minute  Second  \n",
       "0                 18            38      751.0     0       0       8  \n",
       "1                 18            38      751.0     0       5      10  \n",
       "2                 18            38      751.0     0      20       6  \n",
       "3                 18            38      751.0     0      25       5  \n",
       "4                 18            38      751.0     0      30       9  \n",
       "...              ...           ...        ...   ...     ...     ...  \n",
       "32681             17            54      657.0    23      35       2  \n",
       "32682             17            54      657.0    23      40       1  \n",
       "32683             17            54      657.0    23      45       4  \n",
       "32684             17            54      657.0    23      50       3  \n",
       "32685             17            54      657.0    23      55       1  \n",
       "\n",
       "[32686 rows x 18 columns]"
      ]
     },
     "execution_count": 22,
     "metadata": {},
     "output_type": "execute_result"
    }
   ],
   "source": [
    "data=data.reset_index(drop=True)\n",
    "data"
   ]
  },
  {
   "cell_type": "code",
   "execution_count": 23,
   "id": "deab3ad4",
   "metadata": {},
   "outputs": [
    {
     "data": {
      "text/plain": [
       "UNIXTime                  0\n",
       "Time                      0\n",
       "Radiation                 0\n",
       "Temperature               0\n",
       "Pressure                  0\n",
       "Humidity                  0\n",
       "WindDirection(Degrees)    0\n",
       "Speed                     0\n",
       "Month                     0\n",
       "Day                       0\n",
       "SunRiseHour               0\n",
       "SunRiseMin                0\n",
       "SunSetSetHour             0\n",
       "SunSetSetMin              0\n",
       "DayLength                 0\n",
       "Hour                      0\n",
       "Minute                    0\n",
       "Second                    0\n",
       "dtype: int64"
      ]
     },
     "execution_count": 23,
     "metadata": {},
     "output_type": "execute_result"
    }
   ],
   "source": [
    "data.isnull().sum()"
   ]
  },
  {
   "cell_type": "markdown",
   "id": "9e4ff9cd",
   "metadata": {},
   "source": [
    "# Splitting & Scaling"
   ]
  },
  {
   "cell_type": "code",
   "execution_count": 95,
   "id": "56681de9",
   "metadata": {},
   "outputs": [],
   "source": [
    "X = data.drop([ 'Time', 'Month', 'Day', 'SunRiseHour', 'SunRiseMin', 'SunSetSetHour', 'SunSetSetMin', 'Radiation'], axis=1)\n",
    "y = data['Radiation']"
   ]
  },
  {
   "cell_type": "code",
   "execution_count": 96,
   "id": "6c3e1db2",
   "metadata": {},
   "outputs": [],
   "source": [
    "X_train=X.iloc[:28000,:]\n",
    "X_val=X.iloc[28000:31500,:]\n",
    "X_test=X.iloc[31500:,:]"
   ]
  },
  {
   "cell_type": "code",
   "execution_count": 97,
   "id": "e46a51ce",
   "metadata": {},
   "outputs": [
    {
     "data": {
      "text/html": [
       "<div>\n",
       "<style scoped>\n",
       "    .dataframe tbody tr th:only-of-type {\n",
       "        vertical-align: middle;\n",
       "    }\n",
       "\n",
       "    .dataframe tbody tr th {\n",
       "        vertical-align: top;\n",
       "    }\n",
       "\n",
       "    .dataframe thead th {\n",
       "        text-align: right;\n",
       "    }\n",
       "</style>\n",
       "<table border=\"1\" class=\"dataframe\">\n",
       "  <thead>\n",
       "    <tr style=\"text-align: right;\">\n",
       "      <th></th>\n",
       "      <th>UNIXTime</th>\n",
       "      <th>Temperature</th>\n",
       "      <th>Pressure</th>\n",
       "      <th>Humidity</th>\n",
       "      <th>WindDirection(Degrees)</th>\n",
       "      <th>Speed</th>\n",
       "      <th>DayLength</th>\n",
       "      <th>Hour</th>\n",
       "      <th>Minute</th>\n",
       "      <th>Second</th>\n",
       "    </tr>\n",
       "  </thead>\n",
       "  <tbody>\n",
       "    <tr>\n",
       "      <th>0</th>\n",
       "      <td>1472724008</td>\n",
       "      <td>51</td>\n",
       "      <td>30.43</td>\n",
       "      <td>103</td>\n",
       "      <td>77.27</td>\n",
       "      <td>11.25</td>\n",
       "      <td>751.0</td>\n",
       "      <td>0</td>\n",
       "      <td>0</td>\n",
       "      <td>8</td>\n",
       "    </tr>\n",
       "    <tr>\n",
       "      <th>1</th>\n",
       "      <td>1472724310</td>\n",
       "      <td>51</td>\n",
       "      <td>30.43</td>\n",
       "      <td>103</td>\n",
       "      <td>153.44</td>\n",
       "      <td>9.00</td>\n",
       "      <td>751.0</td>\n",
       "      <td>0</td>\n",
       "      <td>5</td>\n",
       "      <td>10</td>\n",
       "    </tr>\n",
       "    <tr>\n",
       "      <th>2</th>\n",
       "      <td>1472725206</td>\n",
       "      <td>51</td>\n",
       "      <td>30.43</td>\n",
       "      <td>103</td>\n",
       "      <td>142.04</td>\n",
       "      <td>7.87</td>\n",
       "      <td>751.0</td>\n",
       "      <td>0</td>\n",
       "      <td>20</td>\n",
       "      <td>6</td>\n",
       "    </tr>\n",
       "    <tr>\n",
       "      <th>3</th>\n",
       "      <td>1472725505</td>\n",
       "      <td>51</td>\n",
       "      <td>30.43</td>\n",
       "      <td>103</td>\n",
       "      <td>144.12</td>\n",
       "      <td>18.00</td>\n",
       "      <td>751.0</td>\n",
       "      <td>0</td>\n",
       "      <td>25</td>\n",
       "      <td>5</td>\n",
       "    </tr>\n",
       "    <tr>\n",
       "      <th>4</th>\n",
       "      <td>1472725809</td>\n",
       "      <td>51</td>\n",
       "      <td>30.43</td>\n",
       "      <td>103</td>\n",
       "      <td>67.42</td>\n",
       "      <td>11.25</td>\n",
       "      <td>751.0</td>\n",
       "      <td>0</td>\n",
       "      <td>30</td>\n",
       "      <td>9</td>\n",
       "    </tr>\n",
       "    <tr>\n",
       "      <th>...</th>\n",
       "      <td>...</td>\n",
       "      <td>...</td>\n",
       "      <td>...</td>\n",
       "      <td>...</td>\n",
       "      <td>...</td>\n",
       "      <td>...</td>\n",
       "      <td>...</td>\n",
       "      <td>...</td>\n",
       "      <td>...</td>\n",
       "      <td>...</td>\n",
       "    </tr>\n",
       "    <tr>\n",
       "      <th>27995</th>\n",
       "      <td>1481854810</td>\n",
       "      <td>49</td>\n",
       "      <td>30.21</td>\n",
       "      <td>101</td>\n",
       "      <td>302.18</td>\n",
       "      <td>10.12</td>\n",
       "      <td>656.0</td>\n",
       "      <td>16</td>\n",
       "      <td>20</td>\n",
       "      <td>10</td>\n",
       "    </tr>\n",
       "    <tr>\n",
       "      <th>27996</th>\n",
       "      <td>1481855105</td>\n",
       "      <td>49</td>\n",
       "      <td>30.21</td>\n",
       "      <td>102</td>\n",
       "      <td>319.45</td>\n",
       "      <td>7.87</td>\n",
       "      <td>656.0</td>\n",
       "      <td>16</td>\n",
       "      <td>25</td>\n",
       "      <td>5</td>\n",
       "    </tr>\n",
       "    <tr>\n",
       "      <th>27997</th>\n",
       "      <td>1481855405</td>\n",
       "      <td>49</td>\n",
       "      <td>30.21</td>\n",
       "      <td>102</td>\n",
       "      <td>326.21</td>\n",
       "      <td>10.12</td>\n",
       "      <td>656.0</td>\n",
       "      <td>16</td>\n",
       "      <td>30</td>\n",
       "      <td>5</td>\n",
       "    </tr>\n",
       "    <tr>\n",
       "      <th>27998</th>\n",
       "      <td>1481855703</td>\n",
       "      <td>49</td>\n",
       "      <td>30.21</td>\n",
       "      <td>101</td>\n",
       "      <td>323.94</td>\n",
       "      <td>6.75</td>\n",
       "      <td>656.0</td>\n",
       "      <td>16</td>\n",
       "      <td>35</td>\n",
       "      <td>3</td>\n",
       "    </tr>\n",
       "    <tr>\n",
       "      <th>27999</th>\n",
       "      <td>1481856003</td>\n",
       "      <td>48</td>\n",
       "      <td>30.22</td>\n",
       "      <td>101</td>\n",
       "      <td>322.37</td>\n",
       "      <td>12.37</td>\n",
       "      <td>656.0</td>\n",
       "      <td>16</td>\n",
       "      <td>40</td>\n",
       "      <td>3</td>\n",
       "    </tr>\n",
       "  </tbody>\n",
       "</table>\n",
       "<p>28000 rows × 10 columns</p>\n",
       "</div>"
      ],
      "text/plain": [
       "         UNIXTime  Temperature  Pressure  Humidity  WindDirection(Degrees)  \\\n",
       "0      1472724008           51     30.43       103                   77.27   \n",
       "1      1472724310           51     30.43       103                  153.44   \n",
       "2      1472725206           51     30.43       103                  142.04   \n",
       "3      1472725505           51     30.43       103                  144.12   \n",
       "4      1472725809           51     30.43       103                   67.42   \n",
       "...           ...          ...       ...       ...                     ...   \n",
       "27995  1481854810           49     30.21       101                  302.18   \n",
       "27996  1481855105           49     30.21       102                  319.45   \n",
       "27997  1481855405           49     30.21       102                  326.21   \n",
       "27998  1481855703           49     30.21       101                  323.94   \n",
       "27999  1481856003           48     30.22       101                  322.37   \n",
       "\n",
       "       Speed  DayLength  Hour  Minute  Second  \n",
       "0      11.25      751.0     0       0       8  \n",
       "1       9.00      751.0     0       5      10  \n",
       "2       7.87      751.0     0      20       6  \n",
       "3      18.00      751.0     0      25       5  \n",
       "4      11.25      751.0     0      30       9  \n",
       "...      ...        ...   ...     ...     ...  \n",
       "27995  10.12      656.0    16      20      10  \n",
       "27996   7.87      656.0    16      25       5  \n",
       "27997  10.12      656.0    16      30       5  \n",
       "27998   6.75      656.0    16      35       3  \n",
       "27999  12.37      656.0    16      40       3  \n",
       "\n",
       "[28000 rows x 10 columns]"
      ]
     },
     "execution_count": 97,
     "metadata": {},
     "output_type": "execute_result"
    }
   ],
   "source": [
    "X_train"
   ]
  },
  {
   "cell_type": "code",
   "execution_count": 98,
   "id": "845229bc",
   "metadata": {},
   "outputs": [
    {
     "data": {
      "text/html": [
       "<div>\n",
       "<style scoped>\n",
       "    .dataframe tbody tr th:only-of-type {\n",
       "        vertical-align: middle;\n",
       "    }\n",
       "\n",
       "    .dataframe tbody tr th {\n",
       "        vertical-align: top;\n",
       "    }\n",
       "\n",
       "    .dataframe thead th {\n",
       "        text-align: right;\n",
       "    }\n",
       "</style>\n",
       "<table border=\"1\" class=\"dataframe\">\n",
       "  <thead>\n",
       "    <tr style=\"text-align: right;\">\n",
       "      <th></th>\n",
       "      <th>UNIXTime</th>\n",
       "      <th>Temperature</th>\n",
       "      <th>Pressure</th>\n",
       "      <th>Humidity</th>\n",
       "      <th>WindDirection(Degrees)</th>\n",
       "      <th>Speed</th>\n",
       "      <th>DayLength</th>\n",
       "      <th>Hour</th>\n",
       "      <th>Minute</th>\n",
       "      <th>Second</th>\n",
       "    </tr>\n",
       "  </thead>\n",
       "  <tbody>\n",
       "    <tr>\n",
       "      <th>31500</th>\n",
       "      <td>1482907849</td>\n",
       "      <td>44</td>\n",
       "      <td>30.46</td>\n",
       "      <td>23</td>\n",
       "      <td>85.14</td>\n",
       "      <td>2.25</td>\n",
       "      <td>656.0</td>\n",
       "      <td>20</td>\n",
       "      <td>50</td>\n",
       "      <td>49</td>\n",
       "    </tr>\n",
       "    <tr>\n",
       "      <th>31501</th>\n",
       "      <td>1482908140</td>\n",
       "      <td>44</td>\n",
       "      <td>30.46</td>\n",
       "      <td>24</td>\n",
       "      <td>168.38</td>\n",
       "      <td>4.50</td>\n",
       "      <td>656.0</td>\n",
       "      <td>20</td>\n",
       "      <td>55</td>\n",
       "      <td>40</td>\n",
       "    </tr>\n",
       "    <tr>\n",
       "      <th>31502</th>\n",
       "      <td>1482908450</td>\n",
       "      <td>44</td>\n",
       "      <td>30.46</td>\n",
       "      <td>24</td>\n",
       "      <td>142.32</td>\n",
       "      <td>3.37</td>\n",
       "      <td>656.0</td>\n",
       "      <td>21</td>\n",
       "      <td>0</td>\n",
       "      <td>50</td>\n",
       "    </tr>\n",
       "    <tr>\n",
       "      <th>31503</th>\n",
       "      <td>1482908740</td>\n",
       "      <td>44</td>\n",
       "      <td>30.45</td>\n",
       "      <td>25</td>\n",
       "      <td>164.92</td>\n",
       "      <td>5.62</td>\n",
       "      <td>656.0</td>\n",
       "      <td>21</td>\n",
       "      <td>5</td>\n",
       "      <td>40</td>\n",
       "    </tr>\n",
       "    <tr>\n",
       "      <th>31504</th>\n",
       "      <td>1482909050</td>\n",
       "      <td>43</td>\n",
       "      <td>30.45</td>\n",
       "      <td>26</td>\n",
       "      <td>165.48</td>\n",
       "      <td>7.87</td>\n",
       "      <td>656.0</td>\n",
       "      <td>21</td>\n",
       "      <td>10</td>\n",
       "      <td>50</td>\n",
       "    </tr>\n",
       "    <tr>\n",
       "      <th>...</th>\n",
       "      <td>...</td>\n",
       "      <td>...</td>\n",
       "      <td>...</td>\n",
       "      <td>...</td>\n",
       "      <td>...</td>\n",
       "      <td>...</td>\n",
       "      <td>...</td>\n",
       "      <td>...</td>\n",
       "      <td>...</td>\n",
       "      <td>...</td>\n",
       "    </tr>\n",
       "    <tr>\n",
       "      <th>32681</th>\n",
       "      <td>1483263302</td>\n",
       "      <td>41</td>\n",
       "      <td>30.34</td>\n",
       "      <td>83</td>\n",
       "      <td>238.94</td>\n",
       "      <td>6.75</td>\n",
       "      <td>657.0</td>\n",
       "      <td>23</td>\n",
       "      <td>35</td>\n",
       "      <td>2</td>\n",
       "    </tr>\n",
       "    <tr>\n",
       "      <th>32682</th>\n",
       "      <td>1483263601</td>\n",
       "      <td>41</td>\n",
       "      <td>30.34</td>\n",
       "      <td>82</td>\n",
       "      <td>236.79</td>\n",
       "      <td>5.62</td>\n",
       "      <td>657.0</td>\n",
       "      <td>23</td>\n",
       "      <td>40</td>\n",
       "      <td>1</td>\n",
       "    </tr>\n",
       "    <tr>\n",
       "      <th>32683</th>\n",
       "      <td>1483263904</td>\n",
       "      <td>42</td>\n",
       "      <td>30.34</td>\n",
       "      <td>81</td>\n",
       "      <td>218.28</td>\n",
       "      <td>7.87</td>\n",
       "      <td>657.0</td>\n",
       "      <td>23</td>\n",
       "      <td>45</td>\n",
       "      <td>4</td>\n",
       "    </tr>\n",
       "    <tr>\n",
       "      <th>32684</th>\n",
       "      <td>1483264203</td>\n",
       "      <td>41</td>\n",
       "      <td>30.34</td>\n",
       "      <td>80</td>\n",
       "      <td>215.23</td>\n",
       "      <td>7.87</td>\n",
       "      <td>657.0</td>\n",
       "      <td>23</td>\n",
       "      <td>50</td>\n",
       "      <td>3</td>\n",
       "    </tr>\n",
       "    <tr>\n",
       "      <th>32685</th>\n",
       "      <td>1483264501</td>\n",
       "      <td>41</td>\n",
       "      <td>30.34</td>\n",
       "      <td>81</td>\n",
       "      <td>215.56</td>\n",
       "      <td>9.00</td>\n",
       "      <td>657.0</td>\n",
       "      <td>23</td>\n",
       "      <td>55</td>\n",
       "      <td>1</td>\n",
       "    </tr>\n",
       "  </tbody>\n",
       "</table>\n",
       "<p>1186 rows × 10 columns</p>\n",
       "</div>"
      ],
      "text/plain": [
       "         UNIXTime  Temperature  Pressure  Humidity  WindDirection(Degrees)  \\\n",
       "31500  1482907849           44     30.46        23                   85.14   \n",
       "31501  1482908140           44     30.46        24                  168.38   \n",
       "31502  1482908450           44     30.46        24                  142.32   \n",
       "31503  1482908740           44     30.45        25                  164.92   \n",
       "31504  1482909050           43     30.45        26                  165.48   \n",
       "...           ...          ...       ...       ...                     ...   \n",
       "32681  1483263302           41     30.34        83                  238.94   \n",
       "32682  1483263601           41     30.34        82                  236.79   \n",
       "32683  1483263904           42     30.34        81                  218.28   \n",
       "32684  1483264203           41     30.34        80                  215.23   \n",
       "32685  1483264501           41     30.34        81                  215.56   \n",
       "\n",
       "       Speed  DayLength  Hour  Minute  Second  \n",
       "31500   2.25      656.0    20      50      49  \n",
       "31501   4.50      656.0    20      55      40  \n",
       "31502   3.37      656.0    21       0      50  \n",
       "31503   5.62      656.0    21       5      40  \n",
       "31504   7.87      656.0    21      10      50  \n",
       "...      ...        ...   ...     ...     ...  \n",
       "32681   6.75      657.0    23      35       2  \n",
       "32682   5.62      657.0    23      40       1  \n",
       "32683   7.87      657.0    23      45       4  \n",
       "32684   7.87      657.0    23      50       3  \n",
       "32685   9.00      657.0    23      55       1  \n",
       "\n",
       "[1186 rows x 10 columns]"
      ]
     },
     "execution_count": 98,
     "metadata": {},
     "output_type": "execute_result"
    }
   ],
   "source": [
    "X_test"
   ]
  },
  {
   "cell_type": "code",
   "execution_count": 99,
   "id": "5db29791",
   "metadata": {},
   "outputs": [
    {
     "data": {
      "text/plain": [
       "31500    1\n",
       "31501    1\n",
       "31502    1\n",
       "31503    1\n",
       "31504    1\n",
       "        ..\n",
       "32681    1\n",
       "32682    1\n",
       "32683    1\n",
       "32684    1\n",
       "32685    1\n",
       "Name: Radiation, Length: 1186, dtype: int32"
      ]
     },
     "execution_count": 99,
     "metadata": {},
     "output_type": "execute_result"
    }
   ],
   "source": [
    "y_test"
   ]
  },
  {
   "cell_type": "code",
   "execution_count": 100,
   "id": "733a0d8a",
   "metadata": {},
   "outputs": [],
   "source": [
    "y_train=y.iloc[:28000]\n",
    "y_val=y.iloc[28000:31500]\n",
    "y_test=y.iloc[31500:]"
   ]
  },
  {
   "cell_type": "code",
   "execution_count": 101,
   "id": "e158c314",
   "metadata": {},
   "outputs": [],
   "source": [
    "import xgboost as xgb\n",
    "\n",
    "dtrain = xgb.DMatrix(X_train, label=y_train)\n",
    "dval = xgb.DMatrix(X_val, label=y_val)\n",
    "dtest = xgb.DMatrix(X_test, label=y_test)"
   ]
  },
  {
   "cell_type": "markdown",
   "id": "f78ebbc6",
   "metadata": {},
   "source": [
    "# Hyperparameter Tuning"
   ]
  },
  {
   "cell_type": "code",
   "execution_count": 102,
   "id": "d2c12892",
   "metadata": {},
   "outputs": [],
   "source": [
    "import optuna"
   ]
  },
  {
   "cell_type": "markdown",
   "id": "955dc706",
   "metadata": {},
   "source": [
    "evals :\n",
    "    List of validation sets for which metrics will evaluated during training.\n",
    "    Validation metrics will help us track the performance of the model.\n",
    "    \n",
    "early_stopping_rounds :\n",
    "    Activates early stopping. Validation metric needs to improve at least once in\n",
    "    every **early_stopping_rounds** round(s) to continue training.\n",
    "    Requires at least one item in **evals**.\n",
    "    The method returns the model from the last iteration (not the best one).  Use\n",
    "    custom callback or model slicing if the best model is desired.\n",
    "    If there's more than one item in **evals**, the last entry will be used for early\n",
    "    stopping.\n",
    "    If there's more than one metric in the **eval_metric** parameter given in\n",
    "    **params**, the last metric will be used for early stopping.\n",
    "    \n",
    "num_boost_round is similar to n_estimator"
   ]
  },
  {
   "cell_type": "code",
   "execution_count": 103,
   "id": "ff17bb1b",
   "metadata": {},
   "outputs": [],
   "source": [
    "def objective(trial):\n",
    "    learning_rate = trial.suggest_loguniform('learning_rate', 0.00001, 10.0)\n",
    "    max_depth = trial.suggest_int('max_depth', 4, 8)\n",
    "    alpha = trial.suggest_loguniform('alpha', 0.00001, 10.0)\n",
    "    Lambda = trial.suggest_loguniform('lambda', 0.00001, 10.0)\n",
    "    \n",
    "    params = {'learning_rate': learning_rate, 'max_depth': max_depth, 'alpha': alpha, 'lambda': Lambda}\n",
    "    \n",
    "    model=xgb.train(params, dtrain, num_boost_round=100, evals=[(dval, 'eval')], early_stopping_rounds=10, verbose_eval=0)\n",
    "    results = model.eval(dval)\n",
    "    \n",
    "    import re\n",
    "    rmse = np.float(re.search(r'[\\d.]+$', results).group(0))\n",
    "    return rmse"
   ]
  },
  {
   "cell_type": "markdown",
   "id": "27ebf05f",
   "metadata": {},
   "source": [
    "This function create new set of parameters every iteration and test their loss value. Returns the set of parameters with lowest loss value."
   ]
  },
  {
   "cell_type": "code",
   "execution_count": 104,
   "id": "66818635",
   "metadata": {},
   "outputs": [
    {
     "name": "stderr",
     "output_type": "stream",
     "text": [
      "\u001b[32m[I 2022-06-25 14:00:54,378]\u001b[0m A new study created in memory with name: no-name-94e9538f-b1e8-4aac-a313-98fe079514c3\u001b[0m\n",
      "C:\\Users\\jsubh\\anaconda3\\lib\\site-packages\\optuna\\progress_bar.py:47: ExperimentalWarning: Progress bar is experimental (supported from v1.2.0). The interface can change in the future.\n",
      "  self._init_valid()\n"
     ]
    },
    {
     "data": {
      "application/vnd.jupyter.widget-view+json": {
       "model_id": "00aae5c932804862b953cd670005530e",
       "version_major": 2,
       "version_minor": 0
      },
      "text/plain": [
       "  0%|          | 0/100 [00:00<?, ?it/s]"
      ]
     },
     "metadata": {},
     "output_type": "display_data"
    },
    {
     "name": "stderr",
     "output_type": "stream",
     "text": [
      "C:\\Users\\jsubh\\AppData\\Local\\Temp/ipykernel_9704/1249244855.py:13: DeprecationWarning: `np.float` is a deprecated alias for the builtin `float`. To silence this warning, use `float` by itself. Doing this will not modify any behavior and is safe. If you specifically wanted the numpy scalar type, use `np.float64` here.\n",
      "Deprecated in NumPy 1.20; for more details and guidance: https://numpy.org/devdocs/release/1.20.0-notes.html#deprecations\n",
      "  rmse = np.float(re.search(r'[\\d.]+$', results).group(0))\n"
     ]
    },
    {
     "name": "stdout",
     "output_type": "stream",
     "text": [
      "\u001b[32m[I 2022-06-25 14:00:55,881]\u001b[0m Trial 0 finished with value: 332.64110325807127 and parameters: {'learning_rate': 0.0007066302515330774, 'max_depth': 7, 'alpha': 0.0001332864286076532, 'lambda': 3.2562726105278577}. Best is trial 0 with value: 332.64110325807127.\u001b[0m\n"
     ]
    },
    {
     "name": "stderr",
     "output_type": "stream",
     "text": [
      "C:\\Users\\jsubh\\AppData\\Local\\Temp/ipykernel_9704/1249244855.py:13: DeprecationWarning: `np.float` is a deprecated alias for the builtin `float`. To silence this warning, use `float` by itself. Doing this will not modify any behavior and is safe. If you specifically wanted the numpy scalar type, use `np.float64` here.\n",
      "Deprecated in NumPy 1.20; for more details and guidance: https://numpy.org/devdocs/release/1.20.0-notes.html#deprecations\n",
      "  rmse = np.float(re.search(r'[\\d.]+$', results).group(0))\n"
     ]
    },
    {
     "name": "stdout",
     "output_type": "stream",
     "text": [
      "\u001b[32m[I 2022-06-25 14:00:57,223]\u001b[0m Trial 1 finished with value: 344.9811082168721 and parameters: {'learning_rate': 0.0002039721655176811, 'max_depth': 6, 'alpha': 0.019117860484304385, 'lambda': 0.02003601787755771}. Best is trial 0 with value: 332.64110325807127.\u001b[0m\n"
     ]
    },
    {
     "name": "stderr",
     "output_type": "stream",
     "text": [
      "C:\\Users\\jsubh\\AppData\\Local\\Temp/ipykernel_9704/1249244855.py:13: DeprecationWarning: `np.float` is a deprecated alias for the builtin `float`. To silence this warning, use `float` by itself. Doing this will not modify any behavior and is safe. If you specifically wanted the numpy scalar type, use `np.float64` here.\n",
      "Deprecated in NumPy 1.20; for more details and guidance: https://numpy.org/devdocs/release/1.20.0-notes.html#deprecations\n",
      "  rmse = np.float(re.search(r'[\\d.]+$', results).group(0))\n"
     ]
    },
    {
     "name": "stdout",
     "output_type": "stream",
     "text": [
      "\u001b[32m[I 2022-06-25 14:00:58,954]\u001b[0m Trial 2 finished with value: 349.7282645774687 and parameters: {'learning_rate': 4.978338806795444e-05, 'max_depth': 8, 'alpha': 0.00013602356091911935, 'lambda': 0.0009816403106902565}. Best is trial 0 with value: 332.64110325807127.\u001b[0m\n"
     ]
    },
    {
     "name": "stderr",
     "output_type": "stream",
     "text": [
      "C:\\Users\\jsubh\\AppData\\Local\\Temp/ipykernel_9704/1249244855.py:13: DeprecationWarning: `np.float` is a deprecated alias for the builtin `float`. To silence this warning, use `float` by itself. Doing this will not modify any behavior and is safe. If you specifically wanted the numpy scalar type, use `np.float64` here.\n",
      "Deprecated in NumPy 1.20; for more details and guidance: https://numpy.org/devdocs/release/1.20.0-notes.html#deprecations\n",
      "  rmse = np.float(re.search(r'[\\d.]+$', results).group(0))\n"
     ]
    },
    {
     "name": "stdout",
     "output_type": "stream",
     "text": [
      "\u001b[32m[I 2022-06-25 14:01:00,145]\u001b[0m Trial 3 finished with value: 350.49920377353567 and parameters: {'learning_rate': 3.2284292892538434e-05, 'max_depth': 5, 'alpha': 0.053577518668709925, 'lambda': 0.0589293713951584}. Best is trial 0 with value: 332.64110325807127.\u001b[0m\n"
     ]
    },
    {
     "name": "stderr",
     "output_type": "stream",
     "text": [
      "C:\\Users\\jsubh\\AppData\\Local\\Temp/ipykernel_9704/1249244855.py:13: DeprecationWarning: `np.float` is a deprecated alias for the builtin `float`. To silence this warning, use `float` by itself. Doing this will not modify any behavior and is safe. If you specifically wanted the numpy scalar type, use `np.float64` here.\n",
      "Deprecated in NumPy 1.20; for more details and guidance: https://numpy.org/devdocs/release/1.20.0-notes.html#deprecations\n",
      "  rmse = np.float(re.search(r'[\\d.]+$', results).group(0))\n"
     ]
    },
    {
     "name": "stdout",
     "output_type": "stream",
     "text": [
      "\u001b[32m[I 2022-06-25 14:01:00,433]\u001b[0m Trial 4 finished with value: 182.49176666129037 and parameters: {'learning_rate': 0.10298992045760406, 'max_depth': 6, 'alpha': 0.06693470094636286, 'lambda': 0.02243676756277249}. Best is trial 4 with value: 182.49176666129037.\u001b[0m\n"
     ]
    },
    {
     "name": "stderr",
     "output_type": "stream",
     "text": [
      "C:\\Users\\jsubh\\AppData\\Local\\Temp/ipykernel_9704/1249244855.py:13: DeprecationWarning: `np.float` is a deprecated alias for the builtin `float`. To silence this warning, use `float` by itself. Doing this will not modify any behavior and is safe. If you specifically wanted the numpy scalar type, use `np.float64` here.\n",
      "Deprecated in NumPy 1.20; for more details and guidance: https://numpy.org/devdocs/release/1.20.0-notes.html#deprecations\n",
      "  rmse = np.float(re.search(r'[\\d.]+$', results).group(0))\n"
     ]
    },
    {
     "name": "stdout",
     "output_type": "stream",
     "text": [
      "\u001b[32m[I 2022-06-25 14:01:01,241]\u001b[0m Trial 5 finished with value: 141.3236839207008 and parameters: {'learning_rate': 0.15995445710680548, 'max_depth': 7, 'alpha': 0.005571552194495051, 'lambda': 3.3908683502693666}. Best is trial 5 with value: 141.3236839207008.\u001b[0m\n"
     ]
    },
    {
     "name": "stderr",
     "output_type": "stream",
     "text": [
      "C:\\Users\\jsubh\\AppData\\Local\\Temp/ipykernel_9704/1249244855.py:13: DeprecationWarning: `np.float` is a deprecated alias for the builtin `float`. To silence this warning, use `float` by itself. Doing this will not modify any behavior and is safe. If you specifically wanted the numpy scalar type, use `np.float64` here.\n",
      "Deprecated in NumPy 1.20; for more details and guidance: https://numpy.org/devdocs/release/1.20.0-notes.html#deprecations\n",
      "  rmse = np.float(re.search(r'[\\d.]+$', results).group(0))\n"
     ]
    },
    {
     "name": "stdout",
     "output_type": "stream",
     "text": [
      "\u001b[32m[I 2022-06-25 14:01:01,480]\u001b[0m Trial 6 finished with value: 198.80512129124332 and parameters: {'learning_rate': 0.3252379251569887, 'max_depth': 7, 'alpha': 0.0005452300184007325, 'lambda': 0.5779457635182935}. Best is trial 5 with value: 141.3236839207008.\u001b[0m\n"
     ]
    },
    {
     "name": "stderr",
     "output_type": "stream",
     "text": [
      "C:\\Users\\jsubh\\AppData\\Local\\Temp/ipykernel_9704/1249244855.py:13: DeprecationWarning: `np.float` is a deprecated alias for the builtin `float`. To silence this warning, use `float` by itself. Doing this will not modify any behavior and is safe. If you specifically wanted the numpy scalar type, use `np.float64` here.\n",
      "Deprecated in NumPy 1.20; for more details and guidance: https://numpy.org/devdocs/release/1.20.0-notes.html#deprecations\n",
      "  rmse = np.float(re.search(r'[\\d.]+$', results).group(0))\n"
     ]
    },
    {
     "name": "stdout",
     "output_type": "stream",
     "text": [
      "\u001b[32m[I 2022-06-25 14:01:02,862]\u001b[0m Trial 7 finished with value: 339.1561189401795 and parameters: {'learning_rate': 0.0003901176518877843, 'max_depth': 6, 'alpha': 1.0110610673862368, 'lambda': 0.11354282772404052}. Best is trial 5 with value: 141.3236839207008.\u001b[0m\n"
     ]
    },
    {
     "name": "stderr",
     "output_type": "stream",
     "text": [
      "C:\\Users\\jsubh\\AppData\\Local\\Temp/ipykernel_9704/1249244855.py:13: DeprecationWarning: `np.float` is a deprecated alias for the builtin `float`. To silence this warning, use `float` by itself. Doing this will not modify any behavior and is safe. If you specifically wanted the numpy scalar type, use `np.float64` here.\n",
      "Deprecated in NumPy 1.20; for more details and guidance: https://numpy.org/devdocs/release/1.20.0-notes.html#deprecations\n",
      "  rmse = np.float(re.search(r'[\\d.]+$', results).group(0))\n"
     ]
    },
    {
     "name": "stdout",
     "output_type": "stream",
     "text": [
      "\u001b[32m[I 2022-06-25 14:01:04,232]\u001b[0m Trial 8 finished with value: 296.6443349901548 and parameters: {'learning_rate': 0.0018079950096492896, 'max_depth': 7, 'alpha': 1.2866677248455807, 'lambda': 0.0004168732699979518}. Best is trial 5 with value: 141.3236839207008.\u001b[0m\n"
     ]
    },
    {
     "name": "stderr",
     "output_type": "stream",
     "text": [
      "C:\\Users\\jsubh\\AppData\\Local\\Temp/ipykernel_9704/1249244855.py:13: DeprecationWarning: `np.float` is a deprecated alias for the builtin `float`. To silence this warning, use `float` by itself. Doing this will not modify any behavior and is safe. If you specifically wanted the numpy scalar type, use `np.float64` here.\n",
      "Deprecated in NumPy 1.20; for more details and guidance: https://numpy.org/devdocs/release/1.20.0-notes.html#deprecations\n",
      "  rmse = np.float(re.search(r'[\\d.]+$', results).group(0))\n",
      "C:\\Users\\jsubh\\AppData\\Local\\Temp/ipykernel_9704/1249244855.py:13: DeprecationWarning: `np.float` is a deprecated alias for the builtin `float`. To silence this warning, use `float` by itself. Doing this will not modify any behavior and is safe. If you specifically wanted the numpy scalar type, use `np.float64` here.\n",
      "Deprecated in NumPy 1.20; for more details and guidance: https://numpy.org/devdocs/release/1.20.0-notes.html#deprecations\n",
      "  rmse = np.float(re.search(r'[\\d.]+$', results).group(0))\n"
     ]
    },
    {
     "name": "stdout",
     "output_type": "stream",
     "text": [
      "\u001b[32m[I 2022-06-25 14:01:04,885]\u001b[0m Trial 9 finished with value: 134.85106039965754 and parameters: {'learning_rate': 0.012760471205216773, 'max_depth': 4, 'alpha': 0.0011714119318555736, 'lambda': 2.8463749785304127}. Best is trial 9 with value: 134.85106039965754.\u001b[0m\n",
      "\u001b[32m[I 2022-06-25 14:01:04,970]\u001b[0m Trial 10 finished with value: 137795800.1253811 and parameters: {'learning_rate': 4.248870905843397, 'max_depth': 4, 'alpha': 1.1757451574779338e-05, 'lambda': 1.591567732436854e-05}. Best is trial 9 with value: 134.85106039965754.\u001b[0m\n"
     ]
    },
    {
     "name": "stderr",
     "output_type": "stream",
     "text": [
      "C:\\Users\\jsubh\\AppData\\Local\\Temp/ipykernel_9704/1249244855.py:13: DeprecationWarning: `np.float` is a deprecated alias for the builtin `float`. To silence this warning, use `float` by itself. Doing this will not modify any behavior and is safe. If you specifically wanted the numpy scalar type, use `np.float64` here.\n",
      "Deprecated in NumPy 1.20; for more details and guidance: https://numpy.org/devdocs/release/1.20.0-notes.html#deprecations\n",
      "  rmse = np.float(re.search(r'[\\d.]+$', results).group(0))\n"
     ]
    },
    {
     "name": "stdout",
     "output_type": "stream",
     "text": [
      "\u001b[32m[I 2022-06-25 14:01:05,359]\u001b[0m Trial 11 finished with value: 118.81111095204209 and parameters: {'learning_rate': 0.05549122270524949, 'max_depth': 4, 'alpha': 0.0019854442518782017, 'lambda': 4.982549357582838}. Best is trial 11 with value: 118.81111095204209.\u001b[0m\n"
     ]
    },
    {
     "name": "stderr",
     "output_type": "stream",
     "text": [
      "C:\\Users\\jsubh\\AppData\\Local\\Temp/ipykernel_9704/1249244855.py:13: DeprecationWarning: `np.float` is a deprecated alias for the builtin `float`. To silence this warning, use `float` by itself. Doing this will not modify any behavior and is safe. If you specifically wanted the numpy scalar type, use `np.float64` here.\n",
      "Deprecated in NumPy 1.20; for more details and guidance: https://numpy.org/devdocs/release/1.20.0-notes.html#deprecations\n",
      "  rmse = np.float(re.search(r'[\\d.]+$', results).group(0))\n"
     ]
    },
    {
     "name": "stdout",
     "output_type": "stream",
     "text": [
      "\u001b[32m[I 2022-06-25 14:01:06,085]\u001b[0m Trial 12 finished with value: 156.90555421775414 and parameters: {'learning_rate': 0.009781054429510216, 'max_depth': 4, 'alpha': 0.0029802778059630436, 'lambda': 6.448784759750987}. Best is trial 11 with value: 118.81111095204209.\u001b[0m\n"
     ]
    },
    {
     "name": "stderr",
     "output_type": "stream",
     "text": [
      "C:\\Users\\jsubh\\AppData\\Local\\Temp/ipykernel_9704/1249244855.py:13: DeprecationWarning: `np.float` is a deprecated alias for the builtin `float`. To silence this warning, use `float` by itself. Doing this will not modify any behavior and is safe. If you specifically wanted the numpy scalar type, use `np.float64` here.\n",
      "Deprecated in NumPy 1.20; for more details and guidance: https://numpy.org/devdocs/release/1.20.0-notes.html#deprecations\n",
      "  rmse = np.float(re.search(r'[\\d.]+$', results).group(0))\n",
      "C:\\Users\\jsubh\\AppData\\Local\\Temp/ipykernel_9704/1249244855.py:13: DeprecationWarning: `np.float` is a deprecated alias for the builtin `float`. To silence this warning, use `float` by itself. Doing this will not modify any behavior and is safe. If you specifically wanted the numpy scalar type, use `np.float64` here.\n",
      "Deprecated in NumPy 1.20; for more details and guidance: https://numpy.org/devdocs/release/1.20.0-notes.html#deprecations\n",
      "  rmse = np.float(re.search(r'[\\d.]+$', results).group(0))\n"
     ]
    },
    {
     "name": "stdout",
     "output_type": "stream",
     "text": [
      "\u001b[32m[I 2022-06-25 14:01:06,956]\u001b[0m Trial 13 finished with value: 150.5052446323788 and parameters: {'learning_rate': 0.0159103443258248, 'max_depth': 5, 'alpha': 0.0010711655260237235, 'lambda': 0.5483109420369271}. Best is trial 11 with value: 118.81111095204209.\u001b[0m\n",
      "\u001b[32m[I 2022-06-25 14:01:07,052]\u001b[0m Trial 14 finished with value: 1284.21167081385 and parameters: {'learning_rate': 2.1306999154074875, 'max_depth': 4, 'alpha': 1.3710565181946309e-05, 'lambda': 0.4848836529120631}. Best is trial 11 with value: 118.81111095204209.\u001b[0m\n"
     ]
    },
    {
     "name": "stderr",
     "output_type": "stream",
     "text": [
      "C:\\Users\\jsubh\\AppData\\Local\\Temp/ipykernel_9704/1249244855.py:13: DeprecationWarning: `np.float` is a deprecated alias for the builtin `float`. To silence this warning, use `float` by itself. Doing this will not modify any behavior and is safe. If you specifically wanted the numpy scalar type, use `np.float64` here.\n",
      "Deprecated in NumPy 1.20; for more details and guidance: https://numpy.org/devdocs/release/1.20.0-notes.html#deprecations\n",
      "  rmse = np.float(re.search(r'[\\d.]+$', results).group(0))\n"
     ]
    },
    {
     "name": "stdout",
     "output_type": "stream",
     "text": [
      "\u001b[32m[I 2022-06-25 14:01:07,910]\u001b[0m Trial 15 finished with value: 174.43542441904165 and parameters: {'learning_rate': 0.008517095954086853, 'max_depth': 5, 'alpha': 0.00018449809623708783, 'lambda': 0.0036027683868952707}. Best is trial 11 with value: 118.81111095204209.\u001b[0m\n"
     ]
    },
    {
     "name": "stderr",
     "output_type": "stream",
     "text": [
      "C:\\Users\\jsubh\\AppData\\Local\\Temp/ipykernel_9704/1249244855.py:13: DeprecationWarning: `np.float` is a deprecated alias for the builtin `float`. To silence this warning, use `float` by itself. Doing this will not modify any behavior and is safe. If you specifically wanted the numpy scalar type, use `np.float64` here.\n",
      "Deprecated in NumPy 1.20; for more details and guidance: https://numpy.org/devdocs/release/1.20.0-notes.html#deprecations\n",
      "  rmse = np.float(re.search(r'[\\d.]+$', results).group(0))\n",
      "C:\\Users\\jsubh\\AppData\\Local\\Temp/ipykernel_9704/1249244855.py:13: DeprecationWarning: `np.float` is a deprecated alias for the builtin `float`. To silence this warning, use `float` by itself. Doing this will not modify any behavior and is safe. If you specifically wanted the numpy scalar type, use `np.float64` here.\n",
      "Deprecated in NumPy 1.20; for more details and guidance: https://numpy.org/devdocs/release/1.20.0-notes.html#deprecations\n",
      "  rmse = np.float(re.search(r'[\\d.]+$', results).group(0))\n"
     ]
    },
    {
     "name": "stdout",
     "output_type": "stream",
     "text": [
      "\u001b[32m[I 2022-06-25 14:01:08,525]\u001b[0m Trial 16 finished with value: 121.00952377259728 and parameters: {'learning_rate': 0.032547726422075374, 'max_depth': 4, 'alpha': 0.10977991064373224, 'lambda': 7.897208267010733}. Best is trial 11 with value: 118.81111095204209.\u001b[0m\n",
      "\u001b[32m[I 2022-06-25 14:01:08,645]\u001b[0m Trial 17 finished with value: 177.9517262693986 and parameters: {'learning_rate': 0.7395715054630615, 'max_depth': 5, 'alpha': 0.2458068456046277, 'lambda': 0.18606258369756096}. Best is trial 11 with value: 118.81111095204209.\u001b[0m\n"
     ]
    },
    {
     "name": "stderr",
     "output_type": "stream",
     "text": [
      "C:\\Users\\jsubh\\AppData\\Local\\Temp/ipykernel_9704/1249244855.py:13: DeprecationWarning: `np.float` is a deprecated alias for the builtin `float`. To silence this warning, use `float` by itself. Doing this will not modify any behavior and is safe. If you specifically wanted the numpy scalar type, use `np.float64` here.\n",
      "Deprecated in NumPy 1.20; for more details and guidance: https://numpy.org/devdocs/release/1.20.0-notes.html#deprecations\n",
      "  rmse = np.float(re.search(r'[\\d.]+$', results).group(0))\n"
     ]
    },
    {
     "name": "stdout",
     "output_type": "stream",
     "text": [
      "\u001b[32m[I 2022-06-25 14:01:08,965]\u001b[0m Trial 18 finished with value: 122.47865160666697 and parameters: {'learning_rate': 0.057581123910607705, 'max_depth': 4, 'alpha': 9.711120968438326, 'lambda': 9.379034888167789}. Best is trial 11 with value: 118.81111095204209.\u001b[0m\n"
     ]
    },
    {
     "name": "stderr",
     "output_type": "stream",
     "text": [
      "C:\\Users\\jsubh\\AppData\\Local\\Temp/ipykernel_9704/1249244855.py:13: DeprecationWarning: `np.float` is a deprecated alias for the builtin `float`. To silence this warning, use `float` by itself. Doing this will not modify any behavior and is safe. If you specifically wanted the numpy scalar type, use `np.float64` here.\n",
      "Deprecated in NumPy 1.20; for more details and guidance: https://numpy.org/devdocs/release/1.20.0-notes.html#deprecations\n",
      "  rmse = np.float(re.search(r'[\\d.]+$', results).group(0))\n"
     ]
    },
    {
     "name": "stdout",
     "output_type": "stream",
     "text": [
      "\u001b[32m[I 2022-06-25 14:01:09,810]\u001b[0m Trial 19 finished with value: 265.09074150930655 and parameters: {'learning_rate': 0.00315952437129879, 'max_depth': 5, 'alpha': 0.01576656725278044, 'lambda': 1.19693359391289}. Best is trial 11 with value: 118.81111095204209.\u001b[0m\n"
     ]
    },
    {
     "name": "stderr",
     "output_type": "stream",
     "text": [
      "C:\\Users\\jsubh\\AppData\\Local\\Temp/ipykernel_9704/1249244855.py:13: DeprecationWarning: `np.float` is a deprecated alias for the builtin `float`. To silence this warning, use `float` by itself. Doing this will not modify any behavior and is safe. If you specifically wanted the numpy scalar type, use `np.float64` here.\n",
      "Deprecated in NumPy 1.20; for more details and guidance: https://numpy.org/devdocs/release/1.20.0-notes.html#deprecations\n",
      "  rmse = np.float(re.search(r'[\\d.]+$', results).group(0))\n"
     ]
    },
    {
     "name": "stdout",
     "output_type": "stream",
     "text": [
      "\u001b[32m[I 2022-06-25 14:01:10,306]\u001b[0m Trial 20 finished with value: 124.27028641696802 and parameters: {'learning_rate': 0.03911463292910066, 'max_depth': 4, 'alpha': 0.13085285037487032, 'lambda': 4.5522707888851915e-05}. Best is trial 11 with value: 118.81111095204209.\u001b[0m\n"
     ]
    },
    {
     "name": "stderr",
     "output_type": "stream",
     "text": [
      "C:\\Users\\jsubh\\AppData\\Local\\Temp/ipykernel_9704/1249244855.py:13: DeprecationWarning: `np.float` is a deprecated alias for the builtin `float`. To silence this warning, use `float` by itself. Doing this will not modify any behavior and is safe. If you specifically wanted the numpy scalar type, use `np.float64` here.\n",
      "Deprecated in NumPy 1.20; for more details and guidance: https://numpy.org/devdocs/release/1.20.0-notes.html#deprecations\n",
      "  rmse = np.float(re.search(r'[\\d.]+$', results).group(0))\n",
      "C:\\Users\\jsubh\\AppData\\Local\\Temp/ipykernel_9704/1249244855.py:13: DeprecationWarning: `np.float` is a deprecated alias for the builtin `float`. To silence this warning, use `float` by itself. Doing this will not modify any behavior and is safe. If you specifically wanted the numpy scalar type, use `np.float64` here.\n",
      "Deprecated in NumPy 1.20; for more details and guidance: https://numpy.org/devdocs/release/1.20.0-notes.html#deprecations\n",
      "  rmse = np.float(re.search(r'[\\d.]+$', results).group(0))\n"
     ]
    },
    {
     "name": "stdout",
     "output_type": "stream",
     "text": [
      "\u001b[32m[I 2022-06-25 14:01:10,753]\u001b[0m Trial 21 finished with value: 121.56765625755072 and parameters: {'learning_rate': 0.04622504563290783, 'max_depth': 4, 'alpha': 2.414066721784078, 'lambda': 9.078092383629205}. Best is trial 11 with value: 118.81111095204209.\u001b[0m\n",
      "\u001b[32m[I 2022-06-25 14:01:10,849]\u001b[0m Trial 22 finished with value: 150.53031263482615 and parameters: {'learning_rate': 0.7055985036116632, 'max_depth': 4, 'alpha': 6.620887469115285, 'lambda': 8.710906731843654}. Best is trial 11 with value: 118.81111095204209.\u001b[0m\n"
     ]
    },
    {
     "name": "stderr",
     "output_type": "stream",
     "text": [
      "C:\\Users\\jsubh\\AppData\\Local\\Temp/ipykernel_9704/1249244855.py:13: DeprecationWarning: `np.float` is a deprecated alias for the builtin `float`. To silence this warning, use `float` by itself. Doing this will not modify any behavior and is safe. If you specifically wanted the numpy scalar type, use `np.float64` here.\n",
      "Deprecated in NumPy 1.20; for more details and guidance: https://numpy.org/devdocs/release/1.20.0-notes.html#deprecations\n",
      "  rmse = np.float(re.search(r'[\\d.]+$', results).group(0))\n",
      "C:\\Users\\jsubh\\AppData\\Local\\Temp/ipykernel_9704/1249244855.py:13: DeprecationWarning: `np.float` is a deprecated alias for the builtin `float`. To silence this warning, use `float` by itself. Doing this will not modify any behavior and is safe. If you specifically wanted the numpy scalar type, use `np.float64` here.\n",
      "Deprecated in NumPy 1.20; for more details and guidance: https://numpy.org/devdocs/release/1.20.0-notes.html#deprecations\n",
      "  rmse = np.float(re.search(r'[\\d.]+$', results).group(0))\n"
     ]
    },
    {
     "name": "stdout",
     "output_type": "stream",
     "text": [
      "\u001b[32m[I 2022-06-25 14:01:11,258]\u001b[0m Trial 23 finished with value: 153.25956707746164 and parameters: {'learning_rate': 0.04895121441929956, 'max_depth': 5, 'alpha': 0.854992859560731, 'lambda': 1.4163406520723107}. Best is trial 11 with value: 118.81111095204209.\u001b[0m\n",
      "\u001b[32m[I 2022-06-25 14:01:11,375]\u001b[0m Trial 24 finished with value: 143.5985868754185 and parameters: {'learning_rate': 0.4029611317704517, 'max_depth': 4, 'alpha': 0.4743547332352174, 'lambda': 1.2501057828979774}. Best is trial 11 with value: 118.81111095204209.\u001b[0m\n"
     ]
    },
    {
     "name": "stderr",
     "output_type": "stream",
     "text": [
      "C:\\Users\\jsubh\\AppData\\Local\\Temp/ipykernel_9704/1249244855.py:13: DeprecationWarning: `np.float` is a deprecated alias for the builtin `float`. To silence this warning, use `float` by itself. Doing this will not modify any behavior and is safe. If you specifically wanted the numpy scalar type, use `np.float64` here.\n",
      "Deprecated in NumPy 1.20; for more details and guidance: https://numpy.org/devdocs/release/1.20.0-notes.html#deprecations\n",
      "  rmse = np.float(re.search(r'[\\d.]+$', results).group(0))\n"
     ]
    },
    {
     "name": "stdout",
     "output_type": "stream",
     "text": [
      "\u001b[32m[I 2022-06-25 14:01:12,164]\u001b[0m Trial 25 finished with value: 264.74146204918185 and parameters: {'learning_rate': 0.0031717810768840337, 'max_depth': 5, 'alpha': 2.287394213425527, 'lambda': 0.3101970676914837}. Best is trial 11 with value: 118.81111095204209.\u001b[0m\n"
     ]
    },
    {
     "name": "stderr",
     "output_type": "stream",
     "text": [
      "C:\\Users\\jsubh\\AppData\\Local\\Temp/ipykernel_9704/1249244855.py:13: DeprecationWarning: `np.float` is a deprecated alias for the builtin `float`. To silence this warning, use `float` by itself. Doing this will not modify any behavior and is safe. If you specifically wanted the numpy scalar type, use `np.float64` here.\n",
      "Deprecated in NumPy 1.20; for more details and guidance: https://numpy.org/devdocs/release/1.20.0-notes.html#deprecations\n",
      "  rmse = np.float(re.search(r'[\\d.]+$', results).group(0))\n"
     ]
    },
    {
     "name": "stdout",
     "output_type": "stream",
     "text": [
      "\u001b[32m[I 2022-06-25 14:01:12,732]\u001b[0m Trial 26 finished with value: 121.52621332000668 and parameters: {'learning_rate': 0.030880233219954135, 'max_depth': 4, 'alpha': 0.05338082084067196, 'lambda': 2.3597527007154193}. Best is trial 11 with value: 118.81111095204209.\u001b[0m\n"
     ]
    },
    {
     "name": "stderr",
     "output_type": "stream",
     "text": [
      "C:\\Users\\jsubh\\AppData\\Local\\Temp/ipykernel_9704/1249244855.py:13: DeprecationWarning: `np.float` is a deprecated alias for the builtin `float`. To silence this warning, use `float` by itself. Doing this will not modify any behavior and is safe. If you specifically wanted the numpy scalar type, use `np.float64` here.\n",
      "Deprecated in NumPy 1.20; for more details and guidance: https://numpy.org/devdocs/release/1.20.0-notes.html#deprecations\n",
      "  rmse = np.float(re.search(r'[\\d.]+$', results).group(0))\n",
      "C:\\Users\\jsubh\\AppData\\Local\\Temp/ipykernel_9704/1249244855.py:13: DeprecationWarning: `np.float` is a deprecated alias for the builtin `float`. To silence this warning, use `float` by itself. Doing this will not modify any behavior and is safe. If you specifically wanted the numpy scalar type, use `np.float64` here.\n",
      "Deprecated in NumPy 1.20; for more details and guidance: https://numpy.org/devdocs/release/1.20.0-notes.html#deprecations\n",
      "  rmse = np.float(re.search(r'[\\d.]+$', results).group(0))\n"
     ]
    },
    {
     "name": "stdout",
     "output_type": "stream",
     "text": [
      "\u001b[32m[I 2022-06-25 14:01:13,050]\u001b[0m Trial 27 finished with value: 166.43679138918858 and parameters: {'learning_rate': 0.1505808172618852, 'max_depth': 8, 'alpha': 0.043694684814846396, 'lambda': 0.0532309278486221}. Best is trial 11 with value: 118.81111095204209.\u001b[0m\n",
      "\u001b[32m[I 2022-06-25 14:01:13,164]\u001b[0m Trial 28 finished with value: 697.9840918982668 and parameters: {'learning_rate': 1.926760348566391, 'max_depth': 5, 'alpha': 0.007956540373559246, 'lambda': 1.2302121718659373}. Best is trial 11 with value: 118.81111095204209.\u001b[0m\n"
     ]
    },
    {
     "name": "stderr",
     "output_type": "stream",
     "text": [
      "C:\\Users\\jsubh\\AppData\\Local\\Temp/ipykernel_9704/1249244855.py:13: DeprecationWarning: `np.float` is a deprecated alias for the builtin `float`. To silence this warning, use `float` by itself. Doing this will not modify any behavior and is safe. If you specifically wanted the numpy scalar type, use `np.float64` here.\n",
      "Deprecated in NumPy 1.20; for more details and guidance: https://numpy.org/devdocs/release/1.20.0-notes.html#deprecations\n",
      "  rmse = np.float(re.search(r'[\\d.]+$', results).group(0))\n"
     ]
    },
    {
     "name": "stdout",
     "output_type": "stream",
     "text": [
      "\u001b[32m[I 2022-06-25 14:01:13,830]\u001b[0m Trial 29 finished with value: 307.8770017216523 and parameters: {'learning_rate': 0.0015269656718204124, 'max_depth': 4, 'alpha': 0.16437685831245755, 'lambda': 3.183972721810881}. Best is trial 11 with value: 118.81111095204209.\u001b[0m\n"
     ]
    },
    {
     "name": "stderr",
     "output_type": "stream",
     "text": [
      "C:\\Users\\jsubh\\AppData\\Local\\Temp/ipykernel_9704/1249244855.py:13: DeprecationWarning: `np.float` is a deprecated alias for the builtin `float`. To silence this warning, use `float` by itself. Doing this will not modify any behavior and is safe. If you specifically wanted the numpy scalar type, use `np.float64` here.\n",
      "Deprecated in NumPy 1.20; for more details and guidance: https://numpy.org/devdocs/release/1.20.0-notes.html#deprecations\n",
      "  rmse = np.float(re.search(r'[\\d.]+$', results).group(0))\n"
     ]
    },
    {
     "name": "stdout",
     "output_type": "stream",
     "text": [
      "\u001b[32m[I 2022-06-25 14:01:14,630]\u001b[0m Trial 30 finished with value: 142.155844588202 and parameters: {'learning_rate': 0.025971023684085836, 'max_depth': 6, 'alpha': 0.003133258009195851, 'lambda': 2.9761384714087065}. Best is trial 11 with value: 118.81111095204209.\u001b[0m\n"
     ]
    },
    {
     "name": "stderr",
     "output_type": "stream",
     "text": [
      "C:\\Users\\jsubh\\AppData\\Local\\Temp/ipykernel_9704/1249244855.py:13: DeprecationWarning: `np.float` is a deprecated alias for the builtin `float`. To silence this warning, use `float` by itself. Doing this will not modify any behavior and is safe. If you specifically wanted the numpy scalar type, use `np.float64` here.\n",
      "Deprecated in NumPy 1.20; for more details and guidance: https://numpy.org/devdocs/release/1.20.0-notes.html#deprecations\n",
      "  rmse = np.float(re.search(r'[\\d.]+$', results).group(0))\n"
     ]
    },
    {
     "name": "stdout",
     "output_type": "stream",
     "text": [
      "\u001b[32m[I 2022-06-25 14:01:15,319]\u001b[0m Trial 31 finished with value: 215.97972561463774 and parameters: {'learning_rate': 0.005584243738585431, 'max_depth': 4, 'alpha': 0.02733273947370226, 'lambda': 9.182959075163797}. Best is trial 11 with value: 118.81111095204209.\u001b[0m\n"
     ]
    },
    {
     "name": "stderr",
     "output_type": "stream",
     "text": [
      "C:\\Users\\jsubh\\AppData\\Local\\Temp/ipykernel_9704/1249244855.py:13: DeprecationWarning: `np.float` is a deprecated alias for the builtin `float`. To silence this warning, use `float` by itself. Doing this will not modify any behavior and is safe. If you specifically wanted the numpy scalar type, use `np.float64` here.\n",
      "Deprecated in NumPy 1.20; for more details and guidance: https://numpy.org/devdocs/release/1.20.0-notes.html#deprecations\n",
      "  rmse = np.float(re.search(r'[\\d.]+$', results).group(0))\n"
     ]
    },
    {
     "name": "stdout",
     "output_type": "stream",
     "text": [
      "\u001b[32m[I 2022-06-25 14:01:15,559]\u001b[0m Trial 32 finished with value: 123.37087025849225 and parameters: {'learning_rate': 0.09658810224354877, 'max_depth': 4, 'alpha': 0.29915552441826615, 'lambda': 3.530067249338653}. Best is trial 11 with value: 118.81111095204209.\u001b[0m\n"
     ]
    },
    {
     "name": "stderr",
     "output_type": "stream",
     "text": [
      "C:\\Users\\jsubh\\AppData\\Local\\Temp/ipykernel_9704/1249244855.py:13: DeprecationWarning: `np.float` is a deprecated alias for the builtin `float`. To silence this warning, use `float` by itself. Doing this will not modify any behavior and is safe. If you specifically wanted the numpy scalar type, use `np.float64` here.\n",
      "Deprecated in NumPy 1.20; for more details and guidance: https://numpy.org/devdocs/release/1.20.0-notes.html#deprecations\n",
      "  rmse = np.float(re.search(r'[\\d.]+$', results).group(0))\n"
     ]
    },
    {
     "name": "stdout",
     "output_type": "stream",
     "text": [
      "\u001b[32m[I 2022-06-25 14:01:16,250]\u001b[0m Trial 33 finished with value: 123.68056996250142 and parameters: {'learning_rate': 0.02759639116225703, 'max_depth': 4, 'alpha': 3.305769063341486, 'lambda': 1.286987640186417}. Best is trial 11 with value: 118.81111095204209.\u001b[0m\n"
     ]
    },
    {
     "name": "stderr",
     "output_type": "stream",
     "text": [
      "C:\\Users\\jsubh\\AppData\\Local\\Temp/ipykernel_9704/1249244855.py:13: DeprecationWarning: `np.float` is a deprecated alias for the builtin `float`. To silence this warning, use `float` by itself. Doing this will not modify any behavior and is safe. If you specifically wanted the numpy scalar type, use `np.float64` here.\n",
      "Deprecated in NumPy 1.20; for more details and guidance: https://numpy.org/devdocs/release/1.20.0-notes.html#deprecations\n",
      "  rmse = np.float(re.search(r'[\\d.]+$', results).group(0))\n"
     ]
    },
    {
     "name": "stdout",
     "output_type": "stream",
     "text": [
      "\u001b[32m[I 2022-06-25 14:01:16,499]\u001b[0m Trial 34 finished with value: 139.9959920049087 and parameters: {'learning_rate': 0.2822494117054427, 'max_depth': 5, 'alpha': 0.09646251591013716, 'lambda': 0.20928024421750632}. Best is trial 11 with value: 118.81111095204209.\u001b[0m\n"
     ]
    },
    {
     "name": "stderr",
     "output_type": "stream",
     "text": [
      "C:\\Users\\jsubh\\AppData\\Local\\Temp/ipykernel_9704/1249244855.py:13: DeprecationWarning: `np.float` is a deprecated alias for the builtin `float`. To silence this warning, use `float` by itself. Doing this will not modify any behavior and is safe. If you specifically wanted the numpy scalar type, use `np.float64` here.\n",
      "Deprecated in NumPy 1.20; for more details and guidance: https://numpy.org/devdocs/release/1.20.0-notes.html#deprecations\n",
      "  rmse = np.float(re.search(r'[\\d.]+$', results).group(0))\n"
     ]
    },
    {
     "name": "stdout",
     "output_type": "stream",
     "text": [
      "\u001b[32m[I 2022-06-25 14:01:16,826]\u001b[0m Trial 35 finished with value: 122.34698717776077 and parameters: {'learning_rate': 0.06413170721669303, 'max_depth': 4, 'alpha': 0.013441425992854528, 'lambda': 4.074224516479678}. Best is trial 11 with value: 118.81111095204209.\u001b[0m\n"
     ]
    },
    {
     "name": "stderr",
     "output_type": "stream",
     "text": [
      "C:\\Users\\jsubh\\AppData\\Local\\Temp/ipykernel_9704/1249244855.py:13: DeprecationWarning: `np.float` is a deprecated alias for the builtin `float`. To silence this warning, use `float` by itself. Doing this will not modify any behavior and is safe. If you specifically wanted the numpy scalar type, use `np.float64` here.\n",
      "Deprecated in NumPy 1.20; for more details and guidance: https://numpy.org/devdocs/release/1.20.0-notes.html#deprecations\n",
      "  rmse = np.float(re.search(r'[\\d.]+$', results).group(0))\n"
     ]
    },
    {
     "name": "stdout",
     "output_type": "stream",
     "text": [
      "\u001b[32m[I 2022-06-25 14:01:17,698]\u001b[0m Trial 36 finished with value: 351.11892207090824 and parameters: {'learning_rate': 1.2255250569025442e-05, 'max_depth': 5, 'alpha': 0.04010247495074481, 'lambda': 0.005239999626559733}. Best is trial 11 with value: 118.81111095204209.\u001b[0m\n"
     ]
    },
    {
     "name": "stderr",
     "output_type": "stream",
     "text": [
      "C:\\Users\\jsubh\\AppData\\Local\\Temp/ipykernel_9704/1249244855.py:13: DeprecationWarning: `np.float` is a deprecated alias for the builtin `float`. To silence this warning, use `float` by itself. Doing this will not modify any behavior and is safe. If you specifically wanted the numpy scalar type, use `np.float64` here.\n",
      "Deprecated in NumPy 1.20; for more details and guidance: https://numpy.org/devdocs/release/1.20.0-notes.html#deprecations\n",
      "  rmse = np.float(re.search(r'[\\d.]+$', results).group(0))\n"
     ]
    },
    {
     "name": "stdout",
     "output_type": "stream",
     "text": [
      "\u001b[32m[I 2022-06-25 14:01:18,380]\u001b[0m Trial 37 finished with value: 330.5913858817512 and parameters: {'learning_rate': 0.0007119935601852935, 'max_depth': 4, 'alpha': 0.0003453210885461478, 'lambda': 0.0005598947254741794}. Best is trial 11 with value: 118.81111095204209.\u001b[0m\n"
     ]
    },
    {
     "name": "stderr",
     "output_type": "stream",
     "text": [
      "C:\\Users\\jsubh\\AppData\\Local\\Temp/ipykernel_9704/1249244855.py:13: DeprecationWarning: `np.float` is a deprecated alias for the builtin `float`. To silence this warning, use `float` by itself. Doing this will not modify any behavior and is safe. If you specifically wanted the numpy scalar type, use `np.float64` here.\n",
      "Deprecated in NumPy 1.20; for more details and guidance: https://numpy.org/devdocs/release/1.20.0-notes.html#deprecations\n",
      "  rmse = np.float(re.search(r'[\\d.]+$', results).group(0))\n"
     ]
    },
    {
     "name": "stdout",
     "output_type": "stream",
     "text": [
      "\u001b[32m[I 2022-06-25 14:01:19,413]\u001b[0m Trial 38 finished with value: 348.49188706189324 and parameters: {'learning_rate': 9.360765477497469e-05, 'max_depth': 6, 'alpha': 0.4702722022267037, 'lambda': 0.05983717036703601}. Best is trial 11 with value: 118.81111095204209.\u001b[0m\n"
     ]
    },
    {
     "name": "stderr",
     "output_type": "stream",
     "text": [
      "C:\\Users\\jsubh\\AppData\\Local\\Temp/ipykernel_9704/1249244855.py:13: DeprecationWarning: `np.float` is a deprecated alias for the builtin `float`. To silence this warning, use `float` by itself. Doing this will not modify any behavior and is safe. If you specifically wanted the numpy scalar type, use `np.float64` here.\n",
      "Deprecated in NumPy 1.20; for more details and guidance: https://numpy.org/devdocs/release/1.20.0-notes.html#deprecations\n",
      "  rmse = np.float(re.search(r'[\\d.]+$', results).group(0))\n"
     ]
    },
    {
     "name": "stdout",
     "output_type": "stream",
     "text": [
      "\u001b[32m[I 2022-06-25 14:01:20,138]\u001b[0m Trial 39 finished with value: 122.14669716564589 and parameters: {'learning_rate': 0.020226625693538818, 'max_depth': 4, 'alpha': 0.004593413263217551, 'lambda': 1.9729607170507786}. Best is trial 11 with value: 118.81111095204209.\u001b[0m\n"
     ]
    },
    {
     "name": "stderr",
     "output_type": "stream",
     "text": [
      "C:\\Users\\jsubh\\AppData\\Local\\Temp/ipykernel_9704/1249244855.py:13: DeprecationWarning: `np.float` is a deprecated alias for the builtin `float`. To silence this warning, use `float` by itself. Doing this will not modify any behavior and is safe. If you specifically wanted the numpy scalar type, use `np.float64` here.\n",
      "Deprecated in NumPy 1.20; for more details and guidance: https://numpy.org/devdocs/release/1.20.0-notes.html#deprecations\n",
      "  rmse = np.float(re.search(r'[\\d.]+$', results).group(0))\n"
     ]
    },
    {
     "name": "stdout",
     "output_type": "stream",
     "text": [
      "\u001b[32m[I 2022-06-25 14:01:21,550]\u001b[0m Trial 40 finished with value: 299.36882350879324 and parameters: {'learning_rate': 0.0048846393119074604, 'max_depth': 8, 'alpha': 4.286774202647343e-05, 'lambda': 5.504898189292032}. Best is trial 11 with value: 118.81111095204209.\u001b[0m\n"
     ]
    },
    {
     "name": "stderr",
     "output_type": "stream",
     "text": [
      "C:\\Users\\jsubh\\AppData\\Local\\Temp/ipykernel_9704/1249244855.py:13: DeprecationWarning: `np.float` is a deprecated alias for the builtin `float`. To silence this warning, use `float` by itself. Doing this will not modify any behavior and is safe. If you specifically wanted the numpy scalar type, use `np.float64` here.\n",
      "Deprecated in NumPy 1.20; for more details and guidance: https://numpy.org/devdocs/release/1.20.0-notes.html#deprecations\n",
      "  rmse = np.float(re.search(r'[\\d.]+$', results).group(0))\n",
      "C:\\Users\\jsubh\\AppData\\Local\\Temp/ipykernel_9704/1249244855.py:13: DeprecationWarning: `np.float` is a deprecated alias for the builtin `float`. To silence this warning, use `float` by itself. Doing this will not modify any behavior and is safe. If you specifically wanted the numpy scalar type, use `np.float64` here.\n",
      "Deprecated in NumPy 1.20; for more details and guidance: https://numpy.org/devdocs/release/1.20.0-notes.html#deprecations\n",
      "  rmse = np.float(re.search(r'[\\d.]+$', results).group(0))\n"
     ]
    },
    {
     "name": "stdout",
     "output_type": "stream",
     "text": [
      "\u001b[32m[I 2022-06-25 14:01:22,242]\u001b[0m Trial 41 finished with value: 121.58148087370579 and parameters: {'learning_rate': 0.021281291649918793, 'max_depth': 4, 'alpha': 0.0025017384777323826, 'lambda': 2.1854679638624837}. Best is trial 11 with value: 118.81111095204209.\u001b[0m\n",
      "\u001b[32m[I 2022-06-25 14:01:22,362]\u001b[0m Trial 42 finished with value: 143.88076546857832 and parameters: {'learning_rate': 0.2476921852303609, 'max_depth': 4, 'alpha': 0.0015899847189152127, 'lambda': 0.634481041862112}. Best is trial 11 with value: 118.81111095204209.\u001b[0m\n"
     ]
    },
    {
     "name": "stderr",
     "output_type": "stream",
     "text": [
      "C:\\Users\\jsubh\\AppData\\Local\\Temp/ipykernel_9704/1249244855.py:13: DeprecationWarning: `np.float` is a deprecated alias for the builtin `float`. To silence this warning, use `float` by itself. Doing this will not modify any behavior and is safe. If you specifically wanted the numpy scalar type, use `np.float64` here.\n",
      "Deprecated in NumPy 1.20; for more details and guidance: https://numpy.org/devdocs/release/1.20.0-notes.html#deprecations\n",
      "  rmse = np.float(re.search(r'[\\d.]+$', results).group(0))\n"
     ]
    },
    {
     "name": "stdout",
     "output_type": "stream",
     "text": [
      "\u001b[32m[I 2022-06-25 14:01:22,620]\u001b[0m Trial 43 finished with value: 124.52832892018336 and parameters: {'learning_rate': 0.11495268172849842, 'max_depth': 4, 'alpha': 0.0006529524437910583, 'lambda': 2.3488557603993474}. Best is trial 11 with value: 118.81111095204209.\u001b[0m\n"
     ]
    },
    {
     "name": "stderr",
     "output_type": "stream",
     "text": [
      "C:\\Users\\jsubh\\AppData\\Local\\Temp/ipykernel_9704/1249244855.py:13: DeprecationWarning: `np.float` is a deprecated alias for the builtin `float`. To silence this warning, use `float` by itself. Doing this will not modify any behavior and is safe. If you specifically wanted the numpy scalar type, use `np.float64` here.\n",
      "Deprecated in NumPy 1.20; for more details and guidance: https://numpy.org/devdocs/release/1.20.0-notes.html#deprecations\n",
      "  rmse = np.float(re.search(r'[\\d.]+$', results).group(0))\n"
     ]
    },
    {
     "name": "stdout",
     "output_type": "stream",
     "text": [
      "\u001b[32m[I 2022-06-25 14:01:23,390]\u001b[0m Trial 44 finished with value: 131.9656577933521 and parameters: {'learning_rate': 0.013615770821060452, 'max_depth': 4, 'alpha': 0.002053672595471705, 'lambda': 0.6494924863210798}. Best is trial 11 with value: 118.81111095204209.\u001b[0m\n"
     ]
    },
    {
     "name": "stderr",
     "output_type": "stream",
     "text": [
      "C:\\Users\\jsubh\\AppData\\Local\\Temp/ipykernel_9704/1249244855.py:13: DeprecationWarning: `np.float` is a deprecated alias for the builtin `float`. To silence this warning, use `float` by itself. Doing this will not modify any behavior and is safe. If you specifically wanted the numpy scalar type, use `np.float64` here.\n",
      "Deprecated in NumPy 1.20; for more details and guidance: https://numpy.org/devdocs/release/1.20.0-notes.html#deprecations\n",
      "  rmse = np.float(re.search(r'[\\d.]+$', results).group(0))\n"
     ]
    },
    {
     "name": "stdout",
     "output_type": "stream",
     "text": [
      "\u001b[32m[I 2022-06-25 14:01:23,675]\u001b[0m Trial 45 finished with value: 143.17427916519352 and parameters: {'learning_rate': 0.07046411875883703, 'max_depth': 5, 'alpha': 0.005647465111853221, 'lambda': 4.49265491038508}. Best is trial 11 with value: 118.81111095204209.\u001b[0m\n"
     ]
    },
    {
     "name": "stderr",
     "output_type": "stream",
     "text": [
      "C:\\Users\\jsubh\\AppData\\Local\\Temp/ipykernel_9704/1249244855.py:13: DeprecationWarning: `np.float` is a deprecated alias for the builtin `float`. To silence this warning, use `float` by itself. Doing this will not modify any behavior and is safe. If you specifically wanted the numpy scalar type, use `np.float64` here.\n",
      "Deprecated in NumPy 1.20; for more details and guidance: https://numpy.org/devdocs/release/1.20.0-notes.html#deprecations\n",
      "  rmse = np.float(re.search(r'[\\d.]+$', results).group(0))\n"
     ]
    },
    {
     "name": "stdout",
     "output_type": "stream",
     "text": [
      "\u001b[32m[I 2022-06-25 14:01:24,372]\u001b[0m Trial 46 finished with value: 120.11503878898161 and parameters: {'learning_rate': 0.025469102126218668, 'max_depth': 4, 'alpha': 0.019088000581287328, 'lambda': 5.661717990148289}. Best is trial 11 with value: 118.81111095204209.\u001b[0m\n"
     ]
    },
    {
     "name": "stderr",
     "output_type": "stream",
     "text": [
      "C:\\Users\\jsubh\\AppData\\Local\\Temp/ipykernel_9704/1249244855.py:13: DeprecationWarning: `np.float` is a deprecated alias for the builtin `float`. To silence this warning, use `float` by itself. Doing this will not modify any behavior and is safe. If you specifically wanted the numpy scalar type, use `np.float64` here.\n",
      "Deprecated in NumPy 1.20; for more details and guidance: https://numpy.org/devdocs/release/1.20.0-notes.html#deprecations\n",
      "  rmse = np.float(re.search(r'[\\d.]+$', results).group(0))\n"
     ]
    },
    {
     "name": "stdout",
     "output_type": "stream",
     "text": [
      "\u001b[32m[I 2022-06-25 14:01:25,420]\u001b[0m Trial 47 finished with value: 215.79264102628554 and parameters: {'learning_rate': 0.00814189984834437, 'max_depth': 6, 'alpha': 0.07262353160113404, 'lambda': 9.96160115652146}. Best is trial 11 with value: 118.81111095204209.\u001b[0m\n"
     ]
    },
    {
     "name": "stderr",
     "output_type": "stream",
     "text": [
      "C:\\Users\\jsubh\\AppData\\Local\\Temp/ipykernel_9704/1249244855.py:13: DeprecationWarning: `np.float` is a deprecated alias for the builtin `float`. To silence this warning, use `float` by itself. Doing this will not modify any behavior and is safe. If you specifically wanted the numpy scalar type, use `np.float64` here.\n",
      "Deprecated in NumPy 1.20; for more details and guidance: https://numpy.org/devdocs/release/1.20.0-notes.html#deprecations\n",
      "  rmse = np.float(re.search(r'[\\d.]+$', results).group(0))\n",
      "C:\\Users\\jsubh\\AppData\\Local\\Temp/ipykernel_9704/1249244855.py:13: DeprecationWarning: `np.float` is a deprecated alias for the builtin `float`. To silence this warning, use `float` by itself. Doing this will not modify any behavior and is safe. If you specifically wanted the numpy scalar type, use `np.float64` here.\n",
      "Deprecated in NumPy 1.20; for more details and guidance: https://numpy.org/devdocs/release/1.20.0-notes.html#deprecations\n",
      "  rmse = np.float(re.search(r'[\\d.]+$', results).group(0))\n"
     ]
    },
    {
     "name": "stdout",
     "output_type": "stream",
     "text": [
      "\u001b[32m[I 2022-06-25 14:01:25,855]\u001b[0m Trial 48 finished with value: 120.09741615096983 and parameters: {'learning_rate': 0.04135453174485139, 'max_depth': 4, 'alpha': 0.02717119467790491, 'lambda': 4.904820151252364}. Best is trial 11 with value: 118.81111095204209.\u001b[0m\n",
      "\u001b[32m[I 2022-06-25 14:01:26,055]\u001b[0m Trial 49 finished with value: 148.87941407683857 and parameters: {'learning_rate': 0.15377111383751696, 'max_depth': 5, 'alpha': 0.02813186109763237, 'lambda': 0.014333532427375296}. Best is trial 11 with value: 118.81111095204209.\u001b[0m\n"
     ]
    },
    {
     "name": "stderr",
     "output_type": "stream",
     "text": [
      "C:\\Users\\jsubh\\AppData\\Local\\Temp/ipykernel_9704/1249244855.py:13: DeprecationWarning: `np.float` is a deprecated alias for the builtin `float`. To silence this warning, use `float` by itself. Doing this will not modify any behavior and is safe. If you specifically wanted the numpy scalar type, use `np.float64` here.\n",
      "Deprecated in NumPy 1.20; for more details and guidance: https://numpy.org/devdocs/release/1.20.0-notes.html#deprecations\n",
      "  rmse = np.float(re.search(r'[\\d.]+$', results).group(0))\n"
     ]
    },
    {
     "name": "stdout",
     "output_type": "stream",
     "text": [
      "\u001b[32m[I 2022-06-25 14:01:26,750]\u001b[0m Trial 50 finished with value: 314.5850944985538 and parameters: {'learning_rate': 0.0012724848239166694, 'max_depth': 4, 'alpha': 0.010176555972736204, 'lambda': 5.184149712022574}. Best is trial 11 with value: 118.81111095204209.\u001b[0m\n"
     ]
    },
    {
     "name": "stderr",
     "output_type": "stream",
     "text": [
      "C:\\Users\\jsubh\\AppData\\Local\\Temp/ipykernel_9704/1249244855.py:13: DeprecationWarning: `np.float` is a deprecated alias for the builtin `float`. To silence this warning, use `float` by itself. Doing this will not modify any behavior and is safe. If you specifically wanted the numpy scalar type, use `np.float64` here.\n",
      "Deprecated in NumPy 1.20; for more details and guidance: https://numpy.org/devdocs/release/1.20.0-notes.html#deprecations\n",
      "  rmse = np.float(re.search(r'[\\d.]+$', results).group(0))\n"
     ]
    },
    {
     "name": "stdout",
     "output_type": "stream",
     "text": [
      "\u001b[32m[I 2022-06-25 14:01:27,255]\u001b[0m Trial 51 finished with value: 120.60075712117263 and parameters: {'learning_rate': 0.036758277110128974, 'max_depth': 4, 'alpha': 0.0219680888722503, 'lambda': 6.157911259021823}. Best is trial 11 with value: 118.81111095204209.\u001b[0m\n"
     ]
    },
    {
     "name": "stderr",
     "output_type": "stream",
     "text": [
      "C:\\Users\\jsubh\\AppData\\Local\\Temp/ipykernel_9704/1249244855.py:13: DeprecationWarning: `np.float` is a deprecated alias for the builtin `float`. To silence this warning, use `float` by itself. Doing this will not modify any behavior and is safe. If you specifically wanted the numpy scalar type, use `np.float64` here.\n",
      "Deprecated in NumPy 1.20; for more details and guidance: https://numpy.org/devdocs/release/1.20.0-notes.html#deprecations\n",
      "  rmse = np.float(re.search(r'[\\d.]+$', results).group(0))\n"
     ]
    },
    {
     "name": "stdout",
     "output_type": "stream",
     "text": [
      "\u001b[32m[I 2022-06-25 14:01:27,715]\u001b[0m Trial 52 finished with value: 124.52570494545314 and parameters: {'learning_rate': 0.03545173027477977, 'max_depth': 4, 'alpha': 0.0226821399482255, 'lambda': 0.8096505158909754}. Best is trial 11 with value: 118.81111095204209.\u001b[0m\n"
     ]
    },
    {
     "name": "stderr",
     "output_type": "stream",
     "text": [
      "C:\\Users\\jsubh\\AppData\\Local\\Temp/ipykernel_9704/1249244855.py:13: DeprecationWarning: `np.float` is a deprecated alias for the builtin `float`. To silence this warning, use `float` by itself. Doing this will not modify any behavior and is safe. If you specifically wanted the numpy scalar type, use `np.float64` here.\n",
      "Deprecated in NumPy 1.20; for more details and guidance: https://numpy.org/devdocs/release/1.20.0-notes.html#deprecations\n",
      "  rmse = np.float(re.search(r'[\\d.]+$', results).group(0))\n"
     ]
    },
    {
     "name": "stdout",
     "output_type": "stream",
     "text": [
      "\u001b[32m[I 2022-06-25 14:01:28,414]\u001b[0m Trial 53 finished with value: 149.4016018061877 and parameters: {'learning_rate': 0.010597575457872065, 'max_depth': 4, 'alpha': 0.06008285263830433, 'lambda': 5.412189183896571}. Best is trial 11 with value: 118.81111095204209.\u001b[0m\n"
     ]
    },
    {
     "name": "stderr",
     "output_type": "stream",
     "text": [
      "C:\\Users\\jsubh\\AppData\\Local\\Temp/ipykernel_9704/1249244855.py:13: DeprecationWarning: `np.float` is a deprecated alias for the builtin `float`. To silence this warning, use `float` by itself. Doing this will not modify any behavior and is safe. If you specifically wanted the numpy scalar type, use `np.float64` here.\n",
      "Deprecated in NumPy 1.20; for more details and guidance: https://numpy.org/devdocs/release/1.20.0-notes.html#deprecations\n",
      "  rmse = np.float(re.search(r'[\\d.]+$', results).group(0))\n",
      "C:\\Users\\jsubh\\AppData\\Local\\Temp/ipykernel_9704/1249244855.py:13: DeprecationWarning: `np.float` is a deprecated alias for the builtin `float`. To silence this warning, use `float` by itself. Doing this will not modify any behavior and is safe. If you specifically wanted the numpy scalar type, use `np.float64` here.\n",
      "Deprecated in NumPy 1.20; for more details and guidance: https://numpy.org/devdocs/release/1.20.0-notes.html#deprecations\n",
      "  rmse = np.float(re.search(r'[\\d.]+$', results).group(0))\n"
     ]
    },
    {
     "name": "stdout",
     "output_type": "stream",
     "text": [
      "\u001b[32m[I 2022-06-25 14:01:28,676]\u001b[0m Trial 54 finished with value: 124.30068684057849 and parameters: {'learning_rate': 0.08309923416856578, 'max_depth': 4, 'alpha': 0.018051642487823504, 'lambda': 0.38550668455816417}. Best is trial 11 with value: 118.81111095204209.\u001b[0m\n",
      "\u001b[32m[I 2022-06-25 14:01:28,821]\u001b[0m Trial 55 finished with value: 232.19134606121384 and parameters: {'learning_rate': 0.5438535407145856, 'max_depth': 7, 'alpha': 0.13457346652072566, 'lambda': 0.0001927260240005252}. Best is trial 11 with value: 118.81111095204209.\u001b[0m\n"
     ]
    },
    {
     "name": "stderr",
     "output_type": "stream",
     "text": [
      "C:\\Users\\jsubh\\AppData\\Local\\Temp/ipykernel_9704/1249244855.py:13: DeprecationWarning: `np.float` is a deprecated alias for the builtin `float`. To silence this warning, use `float` by itself. Doing this will not modify any behavior and is safe. If you specifically wanted the numpy scalar type, use `np.float64` here.\n",
      "Deprecated in NumPy 1.20; for more details and guidance: https://numpy.org/devdocs/release/1.20.0-notes.html#deprecations\n",
      "  rmse = np.float(re.search(r'[\\d.]+$', results).group(0))\n"
     ]
    },
    {
     "name": "stdout",
     "output_type": "stream",
     "text": [
      "\u001b[32m[I 2022-06-25 14:01:28,989]\u001b[0m Trial 56 finished with value: 121.73649671021643 and parameters: {'learning_rate': 0.2122985721524348, 'max_depth': 4, 'alpha': 0.006569891007644562, 'lambda': 1.7490455883177098}. Best is trial 11 with value: 118.81111095204209.\u001b[0m\n"
     ]
    },
    {
     "name": "stderr",
     "output_type": "stream",
     "text": [
      "C:\\Users\\jsubh\\AppData\\Local\\Temp/ipykernel_9704/1249244855.py:13: DeprecationWarning: `np.float` is a deprecated alias for the builtin `float`. To silence this warning, use `float` by itself. Doing this will not modify any behavior and is safe. If you specifically wanted the numpy scalar type, use `np.float64` here.\n",
      "Deprecated in NumPy 1.20; for more details and guidance: https://numpy.org/devdocs/release/1.20.0-notes.html#deprecations\n",
      "  rmse = np.float(re.search(r'[\\d.]+$', results).group(0))\n"
     ]
    },
    {
     "name": "stdout",
     "output_type": "stream",
     "text": [
      "\u001b[32m[I 2022-06-25 14:01:29,505]\u001b[0m Trial 57 finished with value: 149.70684472529578 and parameters: {'learning_rate': 0.0343861637558498, 'max_depth': 5, 'alpha': 0.03712444643779454, 'lambda': 0.8981358996967126}. Best is trial 11 with value: 118.81111095204209.\u001b[0m\n"
     ]
    },
    {
     "name": "stderr",
     "output_type": "stream",
     "text": [
      "C:\\Users\\jsubh\\AppData\\Local\\Temp/ipykernel_9704/1249244855.py:13: DeprecationWarning: `np.float` is a deprecated alias for the builtin `float`. To silence this warning, use `float` by itself. Doing this will not modify any behavior and is safe. If you specifically wanted the numpy scalar type, use `np.float64` here.\n",
      "Deprecated in NumPy 1.20; for more details and guidance: https://numpy.org/devdocs/release/1.20.0-notes.html#deprecations\n",
      "  rmse = np.float(re.search(r'[\\d.]+$', results).group(0))\n",
      "C:\\Users\\jsubh\\AppData\\Local\\Temp/ipykernel_9704/1249244855.py:13: DeprecationWarning: `np.float` is a deprecated alias for the builtin `float`. To silence this warning, use `float` by itself. Doing this will not modify any behavior and is safe. If you specifically wanted the numpy scalar type, use `np.float64` here.\n",
      "Deprecated in NumPy 1.20; for more details and guidance: https://numpy.org/devdocs/release/1.20.0-notes.html#deprecations\n",
      "  rmse = np.float(re.search(r'[\\d.]+$', results).group(0))\n"
     ]
    },
    {
     "name": "stdout",
     "output_type": "stream",
     "text": [
      "\u001b[32m[I 2022-06-25 14:01:30,163]\u001b[0m Trial 58 finished with value: 125.80819129025657 and parameters: {'learning_rate': 0.014836422226394096, 'max_depth': 4, 'alpha': 0.011448142038406363, 'lambda': 6.1702699930810745}. Best is trial 11 with value: 118.81111095204209.\u001b[0m\n",
      "\u001b[32m[I 2022-06-25 14:01:30,270]\u001b[0m Trial 59 finished with value: 655.0513770242707 and parameters: {'learning_rate': 1.1879769897110617, 'max_depth': 5, 'alpha': 0.2215862919793564, 'lambda': 0.0018514003270375997}. Best is trial 11 with value: 118.81111095204209.\u001b[0m\n"
     ]
    },
    {
     "name": "stderr",
     "output_type": "stream",
     "text": [
      "C:\\Users\\jsubh\\AppData\\Local\\Temp/ipykernel_9704/1249244855.py:13: DeprecationWarning: `np.float` is a deprecated alias for the builtin `float`. To silence this warning, use `float` by itself. Doing this will not modify any behavior and is safe. If you specifically wanted the numpy scalar type, use `np.float64` here.\n",
      "Deprecated in NumPy 1.20; for more details and guidance: https://numpy.org/devdocs/release/1.20.0-notes.html#deprecations\n",
      "  rmse = np.float(re.search(r'[\\d.]+$', results).group(0))\n"
     ]
    },
    {
     "name": "stdout",
     "output_type": "stream",
     "text": [
      "\u001b[32m[I 2022-06-25 14:01:30,920]\u001b[0m Trial 60 finished with value: 223.9943821849956 and parameters: {'learning_rate': 0.005152655039834159, 'max_depth': 4, 'alpha': 0.07747774599425515, 'lambda': 2.6719594744816018}. Best is trial 11 with value: 118.81111095204209.\u001b[0m\n"
     ]
    },
    {
     "name": "stderr",
     "output_type": "stream",
     "text": [
      "C:\\Users\\jsubh\\AppData\\Local\\Temp/ipykernel_9704/1249244855.py:13: DeprecationWarning: `np.float` is a deprecated alias for the builtin `float`. To silence this warning, use `float` by itself. Doing this will not modify any behavior and is safe. If you specifically wanted the numpy scalar type, use `np.float64` here.\n",
      "Deprecated in NumPy 1.20; for more details and guidance: https://numpy.org/devdocs/release/1.20.0-notes.html#deprecations\n",
      "  rmse = np.float(re.search(r'[\\d.]+$', results).group(0))\n"
     ]
    },
    {
     "name": "stdout",
     "output_type": "stream",
     "text": [
      "\u001b[32m[I 2022-06-25 14:01:31,260]\u001b[0m Trial 61 finished with value: 119.53346068242293 and parameters: {'learning_rate': 0.047391758761276305, 'max_depth': 4, 'alpha': 1.737188456821475, 'lambda': 7.060878910376794}. Best is trial 11 with value: 118.81111095204209.\u001b[0m\n"
     ]
    },
    {
     "name": "stderr",
     "output_type": "stream",
     "text": [
      "C:\\Users\\jsubh\\AppData\\Local\\Temp/ipykernel_9704/1249244855.py:13: DeprecationWarning: `np.float` is a deprecated alias for the builtin `float`. To silence this warning, use `float` by itself. Doing this will not modify any behavior and is safe. If you specifically wanted the numpy scalar type, use `np.float64` here.\n",
      "Deprecated in NumPy 1.20; for more details and guidance: https://numpy.org/devdocs/release/1.20.0-notes.html#deprecations\n",
      "  rmse = np.float(re.search(r'[\\d.]+$', results).group(0))\n",
      "C:\\Users\\jsubh\\AppData\\Local\\Temp/ipykernel_9704/1249244855.py:13: DeprecationWarning: `np.float` is a deprecated alias for the builtin `float`. To silence this warning, use `float` by itself. Doing this will not modify any behavior and is safe. If you specifically wanted the numpy scalar type, use `np.float64` here.\n",
      "Deprecated in NumPy 1.20; for more details and guidance: https://numpy.org/devdocs/release/1.20.0-notes.html#deprecations\n",
      "  rmse = np.float(re.search(r'[\\d.]+$', results).group(0))\n"
     ]
    },
    {
     "name": "stdout",
     "output_type": "stream",
     "text": [
      "\u001b[32m[I 2022-06-25 14:01:31,623]\u001b[0m Trial 62 finished with value: 124.05248092787548 and parameters: {'learning_rate': 0.05184524631476102, 'max_depth': 4, 'alpha': 0.003602729254199096, 'lambda': 6.893591941798045}. Best is trial 11 with value: 118.81111095204209.\u001b[0m\n"
     ]
    },
    {
     "name": "stderr",
     "output_type": "stream",
     "text": [
      "C:\\Users\\jsubh\\AppData\\Local\\Temp/ipykernel_9704/1249244855.py:13: DeprecationWarning: `np.float` is a deprecated alias for the builtin `float`. To silence this warning, use `float` by itself. Doing this will not modify any behavior and is safe. If you specifically wanted the numpy scalar type, use `np.float64` here.\n",
      "Deprecated in NumPy 1.20; for more details and guidance: https://numpy.org/devdocs/release/1.20.0-notes.html#deprecations\n",
      "  rmse = np.float(re.search(r'[\\d.]+$', results).group(0))\n"
     ]
    },
    {
     "name": "stdout",
     "output_type": "stream",
     "text": [
      "\u001b[32m[I 2022-06-25 14:01:31,822]\u001b[0m Trial 63 finished with value: 121.4569115690104 and parameters: {'learning_rate': 0.1224389183485716, 'max_depth': 4, 'alpha': 0.6174527266696862, 'lambda': 3.7148029183451445}. Best is trial 11 with value: 118.81111095204209.\u001b[0m\n",
      "\u001b[32m[I 2022-06-25 14:01:31,990]\u001b[0m Trial 64 finished with value: 125.35457361139844 and parameters: {'learning_rate': 0.13261921650327685, 'max_depth': 4, 'alpha': 1.1020482348936624, 'lambda': 4.343611462981756}. Best is trial 11 with value: 118.81111095204209.\u001b[0m\n"
     ]
    },
    {
     "name": "stderr",
     "output_type": "stream",
     "text": [
      "C:\\Users\\jsubh\\AppData\\Local\\Temp/ipykernel_9704/1249244855.py:13: DeprecationWarning: `np.float` is a deprecated alias for the builtin `float`. To silence this warning, use `float` by itself. Doing this will not modify any behavior and is safe. If you specifically wanted the numpy scalar type, use `np.float64` here.\n",
      "Deprecated in NumPy 1.20; for more details and guidance: https://numpy.org/devdocs/release/1.20.0-notes.html#deprecations\n",
      "  rmse = np.float(re.search(r'[\\d.]+$', results).group(0))\n"
     ]
    },
    {
     "name": "stdout",
     "output_type": "stream",
     "text": [
      "\u001b[32m[I 2022-06-25 14:01:32,086]\u001b[0m Trial 65 finished with value: 45463308455.977425 and parameters: {'learning_rate': 6.5576603390842605, 'max_depth': 4, 'alpha': 0.5831021850937095, 'lambda': 9.699169780375689}. Best is trial 11 with value: 118.81111095204209.\u001b[0m\n"
     ]
    },
    {
     "name": "stderr",
     "output_type": "stream",
     "text": [
      "C:\\Users\\jsubh\\AppData\\Local\\Temp/ipykernel_9704/1249244855.py:13: DeprecationWarning: `np.float` is a deprecated alias for the builtin `float`. To silence this warning, use `float` by itself. Doing this will not modify any behavior and is safe. If you specifically wanted the numpy scalar type, use `np.float64` here.\n",
      "Deprecated in NumPy 1.20; for more details and guidance: https://numpy.org/devdocs/release/1.20.0-notes.html#deprecations\n",
      "  rmse = np.float(re.search(r'[\\d.]+$', results).group(0))\n"
     ]
    },
    {
     "name": "stdout",
     "output_type": "stream",
     "text": [
      "\u001b[32m[I 2022-06-25 14:01:32,372]\u001b[0m Trial 66 finished with value: 120.76872000909411 and parameters: {'learning_rate': 0.07301466154905685, 'max_depth': 4, 'alpha': 1.9276481392722646, 'lambda': 3.5244508780669817}. Best is trial 11 with value: 118.81111095204209.\u001b[0m\n"
     ]
    },
    {
     "name": "stderr",
     "output_type": "stream",
     "text": [
      "C:\\Users\\jsubh\\AppData\\Local\\Temp/ipykernel_9704/1249244855.py:13: DeprecationWarning: `np.float` is a deprecated alias for the builtin `float`. To silence this warning, use `float` by itself. Doing this will not modify any behavior and is safe. If you specifically wanted the numpy scalar type, use `np.float64` here.\n",
      "Deprecated in NumPy 1.20; for more details and guidance: https://numpy.org/devdocs/release/1.20.0-notes.html#deprecations\n",
      "  rmse = np.float(re.search(r'[\\d.]+$', results).group(0))\n"
     ]
    },
    {
     "name": "stdout",
     "output_type": "stream",
     "text": [
      "\u001b[32m[I 2022-06-25 14:01:33,069]\u001b[0m Trial 67 finished with value: 123.16988090090047 and parameters: {'learning_rate': 0.01764676277398, 'max_depth': 4, 'alpha': 0.3103226398962852, 'lambda': 1.7294473800590582}. Best is trial 11 with value: 118.81111095204209.\u001b[0m\n"
     ]
    },
    {
     "name": "stderr",
     "output_type": "stream",
     "text": [
      "C:\\Users\\jsubh\\AppData\\Local\\Temp/ipykernel_9704/1249244855.py:13: DeprecationWarning: `np.float` is a deprecated alias for the builtin `float`. To silence this warning, use `float` by itself. Doing this will not modify any behavior and is safe. If you specifically wanted the numpy scalar type, use `np.float64` here.\n",
      "Deprecated in NumPy 1.20; for more details and guidance: https://numpy.org/devdocs/release/1.20.0-notes.html#deprecations\n",
      "  rmse = np.float(re.search(r'[\\d.]+$', results).group(0))\n",
      "C:\\Users\\jsubh\\AppData\\Local\\Temp/ipykernel_9704/1249244855.py:13: DeprecationWarning: `np.float` is a deprecated alias for the builtin `float`. To silence this warning, use `float` by itself. Doing this will not modify any behavior and is safe. If you specifically wanted the numpy scalar type, use `np.float64` here.\n",
      "Deprecated in NumPy 1.20; for more details and guidance: https://numpy.org/devdocs/release/1.20.0-notes.html#deprecations\n",
      "  rmse = np.float(re.search(r'[\\d.]+$', results).group(0))\n"
     ]
    },
    {
     "name": "stdout",
     "output_type": "stream",
     "text": [
      "\u001b[32m[I 2022-06-25 14:01:33,470]\u001b[0m Trial 68 finished with value: 153.37869692911133 and parameters: {'learning_rate': 0.048947528548750806, 'max_depth': 5, 'alpha': 6.043101822242706, 'lambda': 1.0709083339449774}. Best is trial 11 with value: 118.81111095204209.\u001b[0m\n",
      "\u001b[32m[I 2022-06-25 14:01:33,621]\u001b[0m Trial 69 finished with value: 143.43370682093968 and parameters: {'learning_rate': 0.40555765186515585, 'max_depth': 4, 'alpha': 2.975066985552942, 'lambda': 2.995678224000039}. Best is trial 11 with value: 118.81111095204209.\u001b[0m\n"
     ]
    },
    {
     "name": "stderr",
     "output_type": "stream",
     "text": [
      "C:\\Users\\jsubh\\AppData\\Local\\Temp/ipykernel_9704/1249244855.py:13: DeprecationWarning: `np.float` is a deprecated alias for the builtin `float`. To silence this warning, use `float` by itself. Doing this will not modify any behavior and is safe. If you specifically wanted the numpy scalar type, use `np.float64` here.\n",
      "Deprecated in NumPy 1.20; for more details and guidance: https://numpy.org/devdocs/release/1.20.0-notes.html#deprecations\n",
      "  rmse = np.float(re.search(r'[\\d.]+$', results).group(0))\n"
     ]
    },
    {
     "name": "stdout",
     "output_type": "stream",
     "text": [
      "\u001b[32m[I 2022-06-25 14:01:34,300]\u001b[0m Trial 70 finished with value: 190.32237806634356 and parameters: {'learning_rate': 0.007148390913267548, 'max_depth': 4, 'alpha': 2.131434900533773, 'lambda': 6.477671544416655}. Best is trial 11 with value: 118.81111095204209.\u001b[0m\n"
     ]
    },
    {
     "name": "stderr",
     "output_type": "stream",
     "text": [
      "C:\\Users\\jsubh\\AppData\\Local\\Temp/ipykernel_9704/1249244855.py:13: DeprecationWarning: `np.float` is a deprecated alias for the builtin `float`. To silence this warning, use `float` by itself. Doing this will not modify any behavior and is safe. If you specifically wanted the numpy scalar type, use `np.float64` here.\n",
      "Deprecated in NumPy 1.20; for more details and guidance: https://numpy.org/devdocs/release/1.20.0-notes.html#deprecations\n",
      "  rmse = np.float(re.search(r'[\\d.]+$', results).group(0))\n"
     ]
    },
    {
     "name": "stdout",
     "output_type": "stream",
     "text": [
      "\u001b[32m[I 2022-06-25 14:01:34,667]\u001b[0m Trial 71 finished with value: 119.48996472603852 and parameters: {'learning_rate': 0.08078013794086182, 'max_depth': 4, 'alpha': 1.762268363199908, 'lambda': 3.7643207365429454}. Best is trial 11 with value: 118.81111095204209.\u001b[0m\n"
     ]
    },
    {
     "name": "stderr",
     "output_type": "stream",
     "text": [
      "C:\\Users\\jsubh\\AppData\\Local\\Temp/ipykernel_9704/1249244855.py:13: DeprecationWarning: `np.float` is a deprecated alias for the builtin `float`. To silence this warning, use `float` by itself. Doing this will not modify any behavior and is safe. If you specifically wanted the numpy scalar type, use `np.float64` here.\n",
      "Deprecated in NumPy 1.20; for more details and guidance: https://numpy.org/devdocs/release/1.20.0-notes.html#deprecations\n",
      "  rmse = np.float(re.search(r'[\\d.]+$', results).group(0))\n"
     ]
    },
    {
     "name": "stdout",
     "output_type": "stream",
     "text": [
      "\u001b[32m[I 2022-06-25 14:01:34,955]\u001b[0m Trial 72 finished with value: 120.79624666822154 and parameters: {'learning_rate': 0.07890134689109599, 'max_depth': 4, 'alpha': 1.296146263361353, 'lambda': 6.7686782737289475}. Best is trial 11 with value: 118.81111095204209.\u001b[0m\n"
     ]
    },
    {
     "name": "stderr",
     "output_type": "stream",
     "text": [
      "C:\\Users\\jsubh\\AppData\\Local\\Temp/ipykernel_9704/1249244855.py:13: DeprecationWarning: `np.float` is a deprecated alias for the builtin `float`. To silence this warning, use `float` by itself. Doing this will not modify any behavior and is safe. If you specifically wanted the numpy scalar type, use `np.float64` here.\n",
      "Deprecated in NumPy 1.20; for more details and guidance: https://numpy.org/devdocs/release/1.20.0-notes.html#deprecations\n",
      "  rmse = np.float(re.search(r'[\\d.]+$', results).group(0))\n"
     ]
    },
    {
     "name": "stdout",
     "output_type": "stream",
     "text": [
      "\u001b[32m[I 2022-06-25 14:01:35,225]\u001b[0m Trial 73 finished with value: 120.86456898956774 and parameters: {'learning_rate': 0.07595929074567735, 'max_depth': 4, 'alpha': 1.36451925847327, 'lambda': 4.205902778203928}. Best is trial 11 with value: 118.81111095204209.\u001b[0m\n"
     ]
    },
    {
     "name": "stderr",
     "output_type": "stream",
     "text": [
      "C:\\Users\\jsubh\\AppData\\Local\\Temp/ipykernel_9704/1249244855.py:13: DeprecationWarning: `np.float` is a deprecated alias for the builtin `float`. To silence this warning, use `float` by itself. Doing this will not modify any behavior and is safe. If you specifically wanted the numpy scalar type, use `np.float64` here.\n",
      "Deprecated in NumPy 1.20; for more details and guidance: https://numpy.org/devdocs/release/1.20.0-notes.html#deprecations\n",
      "  rmse = np.float(re.search(r'[\\d.]+$', results).group(0))\n"
     ]
    },
    {
     "name": "stdout",
     "output_type": "stream",
     "text": [
      "\u001b[32m[I 2022-06-25 14:01:35,490]\u001b[0m Trial 74 finished with value: 119.72592379377417 and parameters: {'learning_rate': 0.2042773359000831, 'max_depth': 4, 'alpha': 4.604973716522701, 'lambda': 1.6031347623203789}. Best is trial 11 with value: 118.81111095204209.\u001b[0m\n"
     ]
    },
    {
     "name": "stderr",
     "output_type": "stream",
     "text": [
      "C:\\Users\\jsubh\\AppData\\Local\\Temp/ipykernel_9704/1249244855.py:13: DeprecationWarning: `np.float` is a deprecated alias for the builtin `float`. To silence this warning, use `float` by itself. Doing this will not modify any behavior and is safe. If you specifically wanted the numpy scalar type, use `np.float64` here.\n",
      "Deprecated in NumPy 1.20; for more details and guidance: https://numpy.org/devdocs/release/1.20.0-notes.html#deprecations\n",
      "  rmse = np.float(re.search(r'[\\d.]+$', results).group(0))\n",
      "C:\\Users\\jsubh\\AppData\\Local\\Temp/ipykernel_9704/1249244855.py:13: DeprecationWarning: `np.float` is a deprecated alias for the builtin `float`. To silence this warning, use `float` by itself. Doing this will not modify any behavior and is safe. If you specifically wanted the numpy scalar type, use `np.float64` here.\n",
      "Deprecated in NumPy 1.20; for more details and guidance: https://numpy.org/devdocs/release/1.20.0-notes.html#deprecations\n",
      "  rmse = np.float(re.search(r'[\\d.]+$', results).group(0))\n"
     ]
    },
    {
     "name": "stdout",
     "output_type": "stream",
     "text": [
      "\u001b[32m[I 2022-06-25 14:01:35,850]\u001b[0m Trial 75 finished with value: 109.82538950190927 and parameters: {'learning_rate': 0.1769431737652975, 'max_depth': 4, 'alpha': 7.437789516065986, 'lambda': 2.3718442299784837}. Best is trial 75 with value: 109.82538950190927.\u001b[0m\n",
      "\u001b[32m[I 2022-06-25 14:01:35,985]\u001b[0m Trial 76 finished with value: 139.9433402963311 and parameters: {'learning_rate': 0.25192592239510014, 'max_depth': 4, 'alpha': 6.122202626763199, 'lambda': 1.7464518535760813}. Best is trial 75 with value: 109.82538950190927.\u001b[0m\n"
     ]
    },
    {
     "name": "stderr",
     "output_type": "stream",
     "text": [
      "C:\\Users\\jsubh\\AppData\\Local\\Temp/ipykernel_9704/1249244855.py:13: DeprecationWarning: `np.float` is a deprecated alias for the builtin `float`. To silence this warning, use `float` by itself. Doing this will not modify any behavior and is safe. If you specifically wanted the numpy scalar type, use `np.float64` here.\n",
      "Deprecated in NumPy 1.20; for more details and guidance: https://numpy.org/devdocs/release/1.20.0-notes.html#deprecations\n",
      "  rmse = np.float(re.search(r'[\\d.]+$', results).group(0))\n",
      "C:\\Users\\jsubh\\AppData\\Local\\Temp/ipykernel_9704/1249244855.py:13: DeprecationWarning: `np.float` is a deprecated alias for the builtin `float`. To silence this warning, use `float` by itself. Doing this will not modify any behavior and is safe. If you specifically wanted the numpy scalar type, use `np.float64` here.\n",
      "Deprecated in NumPy 1.20; for more details and guidance: https://numpy.org/devdocs/release/1.20.0-notes.html#deprecations\n",
      "  rmse = np.float(re.search(r'[\\d.]+$', results).group(0))\n"
     ]
    },
    {
     "name": "stdout",
     "output_type": "stream",
     "text": [
      "\u001b[32m[I 2022-06-25 14:01:36,200]\u001b[0m Trial 77 finished with value: 125.18600556412235 and parameters: {'learning_rate': 0.1982757708576715, 'max_depth': 4, 'alpha': 9.570720757697389, 'lambda': 0.24810561110559323}. Best is trial 75 with value: 109.82538950190927.\u001b[0m\n",
      "\u001b[32m[I 2022-06-25 14:01:36,320]\u001b[0m Trial 78 finished with value: 164.34153238718997 and parameters: {'learning_rate': 0.7165905740945063, 'max_depth': 5, 'alpha': 6.144216296494296, 'lambda': 0.41448434688431646}. Best is trial 75 with value: 109.82538950190927.\u001b[0m\n"
     ]
    },
    {
     "name": "stderr",
     "output_type": "stream",
     "text": [
      "C:\\Users\\jsubh\\AppData\\Local\\Temp/ipykernel_9704/1249244855.py:13: DeprecationWarning: `np.float` is a deprecated alias for the builtin `float`. To silence this warning, use `float` by itself. Doing this will not modify any behavior and is safe. If you specifically wanted the numpy scalar type, use `np.float64` here.\n",
      "Deprecated in NumPy 1.20; for more details and guidance: https://numpy.org/devdocs/release/1.20.0-notes.html#deprecations\n",
      "  rmse = np.float(re.search(r'[\\d.]+$', results).group(0))\n",
      "C:\\Users\\jsubh\\AppData\\Local\\Temp/ipykernel_9704/1249244855.py:13: DeprecationWarning: `np.float` is a deprecated alias for the builtin `float`. To silence this warning, use `float` by itself. Doing this will not modify any behavior and is safe. If you specifically wanted the numpy scalar type, use `np.float64` here.\n",
      "Deprecated in NumPy 1.20; for more details and guidance: https://numpy.org/devdocs/release/1.20.0-notes.html#deprecations\n",
      "  rmse = np.float(re.search(r'[\\d.]+$', results).group(0))\n"
     ]
    },
    {
     "name": "stdout",
     "output_type": "stream",
     "text": [
      "\u001b[32m[I 2022-06-25 14:01:36,903]\u001b[0m Trial 79 finished with value: 122.0501845300957 and parameters: {'learning_rate': 0.023488220822623182, 'max_depth': 4, 'alpha': 3.799272860355535, 'lambda': 1.4899086558510466}. Best is trial 75 with value: 109.82538950190927.\u001b[0m\n",
      "\u001b[32m[I 2022-06-25 14:01:36,991]\u001b[0m Trial 80 finished with value: 215.93275155776948 and parameters: {'learning_rate': 1.1210897086790301, 'max_depth': 4, 'alpha': 0.0001181525636950787, 'lambda': 2.7031174147809405}. Best is trial 75 with value: 109.82538950190927.\u001b[0m\n"
     ]
    },
    {
     "name": "stderr",
     "output_type": "stream",
     "text": [
      "C:\\Users\\jsubh\\AppData\\Local\\Temp/ipykernel_9704/1249244855.py:13: DeprecationWarning: `np.float` is a deprecated alias for the builtin `float`. To silence this warning, use `float` by itself. Doing this will not modify any behavior and is safe. If you specifically wanted the numpy scalar type, use `np.float64` here.\n",
      "Deprecated in NumPy 1.20; for more details and guidance: https://numpy.org/devdocs/release/1.20.0-notes.html#deprecations\n",
      "  rmse = np.float(re.search(r'[\\d.]+$', results).group(0))\n"
     ]
    },
    {
     "name": "stdout",
     "output_type": "stream",
     "text": [
      "\u001b[32m[I 2022-06-25 14:01:37,319]\u001b[0m Trial 81 finished with value: 128.2279202904155 and parameters: {'learning_rate': 0.3810491325413444, 'max_depth': 4, 'alpha': 1.946409480264917, 'lambda': 3.5526012827647424}. Best is trial 75 with value: 109.82538950190927.\u001b[0m\n"
     ]
    },
    {
     "name": "stderr",
     "output_type": "stream",
     "text": [
      "C:\\Users\\jsubh\\AppData\\Local\\Temp/ipykernel_9704/1249244855.py:13: DeprecationWarning: `np.float` is a deprecated alias for the builtin `float`. To silence this warning, use `float` by itself. Doing this will not modify any behavior and is safe. If you specifically wanted the numpy scalar type, use `np.float64` here.\n",
      "Deprecated in NumPy 1.20; for more details and guidance: https://numpy.org/devdocs/release/1.20.0-notes.html#deprecations\n",
      "  rmse = np.float(re.search(r'[\\d.]+$', results).group(0))\n"
     ]
    },
    {
     "name": "stdout",
     "output_type": "stream",
     "text": [
      "\u001b[32m[I 2022-06-25 14:01:37,558]\u001b[0m Trial 82 finished with value: 132.4581039574551 and parameters: {'learning_rate': 0.10041668415389114, 'max_depth': 4, 'alpha': 3.973430601363632, 'lambda': 0.9117439078402478}. Best is trial 75 with value: 109.82538950190927.\u001b[0m\n"
     ]
    },
    {
     "name": "stderr",
     "output_type": "stream",
     "text": [
      "C:\\Users\\jsubh\\AppData\\Local\\Temp/ipykernel_9704/1249244855.py:13: DeprecationWarning: `np.float` is a deprecated alias for the builtin `float`. To silence this warning, use `float` by itself. Doing this will not modify any behavior and is safe. If you specifically wanted the numpy scalar type, use `np.float64` here.\n",
      "Deprecated in NumPy 1.20; for more details and guidance: https://numpy.org/devdocs/release/1.20.0-notes.html#deprecations\n",
      "  rmse = np.float(re.search(r'[\\d.]+$', results).group(0))\n"
     ]
    },
    {
     "name": "stdout",
     "output_type": "stream",
     "text": [
      "\u001b[32m[I 2022-06-25 14:01:37,902]\u001b[0m Trial 83 finished with value: 121.50069743482275 and parameters: {'learning_rate': 0.04584466947355433, 'max_depth': 4, 'alpha': 1.6068135439393585, 'lambda': 2.2980604370383455}. Best is trial 75 with value: 109.82538950190927.\u001b[0m\n"
     ]
    },
    {
     "name": "stderr",
     "output_type": "stream",
     "text": [
      "C:\\Users\\jsubh\\AppData\\Local\\Temp/ipykernel_9704/1249244855.py:13: DeprecationWarning: `np.float` is a deprecated alias for the builtin `float`. To silence this warning, use `float` by itself. Doing this will not modify any behavior and is safe. If you specifically wanted the numpy scalar type, use `np.float64` here.\n",
      "Deprecated in NumPy 1.20; for more details and guidance: https://numpy.org/devdocs/release/1.20.0-notes.html#deprecations\n",
      "  rmse = np.float(re.search(r'[\\d.]+$', results).group(0))\n"
     ]
    },
    {
     "name": "stdout",
     "output_type": "stream",
     "text": [
      "\u001b[32m[I 2022-06-25 14:01:38,189]\u001b[0m Trial 84 finished with value: 122.24088033305254 and parameters: {'learning_rate': 0.06277308611018016, 'max_depth': 4, 'alpha': 4.14444665243721, 'lambda': 0.09838089560534356}. Best is trial 75 with value: 109.82538950190927.\u001b[0m\n"
     ]
    },
    {
     "name": "stderr",
     "output_type": "stream",
     "text": [
      "C:\\Users\\jsubh\\AppData\\Local\\Temp/ipykernel_9704/1249244855.py:13: DeprecationWarning: `np.float` is a deprecated alias for the builtin `float`. To silence this warning, use `float` by itself. Doing this will not modify any behavior and is safe. If you specifically wanted the numpy scalar type, use `np.float64` here.\n",
      "Deprecated in NumPy 1.20; for more details and guidance: https://numpy.org/devdocs/release/1.20.0-notes.html#deprecations\n",
      "  rmse = np.float(re.search(r'[\\d.]+$', results).group(0))\n"
     ]
    },
    {
     "name": "stdout",
     "output_type": "stream",
     "text": [
      "\u001b[32m[I 2022-06-25 14:01:38,796]\u001b[0m Trial 85 finished with value: 119.14785406722642 and parameters: {'learning_rate': 0.02883278135014922, 'max_depth': 4, 'alpha': 0.9348989269934328, 'lambda': 7.2460605750175215}. Best is trial 75 with value: 109.82538950190927.\u001b[0m\n"
     ]
    },
    {
     "name": "stderr",
     "output_type": "stream",
     "text": [
      "C:\\Users\\jsubh\\AppData\\Local\\Temp/ipykernel_9704/1249244855.py:13: DeprecationWarning: `np.float` is a deprecated alias for the builtin `float`. To silence this warning, use `float` by itself. Doing this will not modify any behavior and is safe. If you specifically wanted the numpy scalar type, use `np.float64` here.\n",
      "Deprecated in NumPy 1.20; for more details and guidance: https://numpy.org/devdocs/release/1.20.0-notes.html#deprecations\n",
      "  rmse = np.float(re.search(r'[\\d.]+$', results).group(0))\n"
     ]
    },
    {
     "name": "stdout",
     "output_type": "stream",
     "text": [
      "\u001b[32m[I 2022-06-25 14:01:39,453]\u001b[0m Trial 86 finished with value: 119.56021052777183 and parameters: {'learning_rate': 0.02970433264569375, 'max_depth': 4, 'alpha': 0.9316376761044938, 'lambda': 7.423392282202986}. Best is trial 75 with value: 109.82538950190927.\u001b[0m\n"
     ]
    },
    {
     "name": "stderr",
     "output_type": "stream",
     "text": [
      "C:\\Users\\jsubh\\AppData\\Local\\Temp/ipykernel_9704/1249244855.py:13: DeprecationWarning: `np.float` is a deprecated alias for the builtin `float`. To silence this warning, use `float` by itself. Doing this will not modify any behavior and is safe. If you specifically wanted the numpy scalar type, use `np.float64` here.\n",
      "Deprecated in NumPy 1.20; for more details and guidance: https://numpy.org/devdocs/release/1.20.0-notes.html#deprecations\n",
      "  rmse = np.float(re.search(r'[\\d.]+$', results).group(0))\n"
     ]
    },
    {
     "name": "stdout",
     "output_type": "stream",
     "text": [
      "\u001b[32m[I 2022-06-25 14:01:39,966]\u001b[0m Trial 87 finished with value: 164.8663483635746 and parameters: {'learning_rate': 0.1720022923313922, 'max_depth': 7, 'alpha': 0.7109461708121918, 'lambda': 7.708708584708317}. Best is trial 75 with value: 109.82538950190927.\u001b[0m\n"
     ]
    },
    {
     "name": "stderr",
     "output_type": "stream",
     "text": [
      "C:\\Users\\jsubh\\AppData\\Local\\Temp/ipykernel_9704/1249244855.py:13: DeprecationWarning: `np.float` is a deprecated alias for the builtin `float`. To silence this warning, use `float` by itself. Doing this will not modify any behavior and is safe. If you specifically wanted the numpy scalar type, use `np.float64` here.\n",
      "Deprecated in NumPy 1.20; for more details and guidance: https://numpy.org/devdocs/release/1.20.0-notes.html#deprecations\n",
      "  rmse = np.float(re.search(r'[\\d.]+$', results).group(0))\n"
     ]
    },
    {
     "name": "stdout",
     "output_type": "stream",
     "text": [
      "\u001b[32m[I 2022-06-25 14:01:40,652]\u001b[0m Trial 88 finished with value: 120.31853795759291 and parameters: {'learning_rate': 0.023371078308641737, 'max_depth': 4, 'alpha': 9.584988618659372, 'lambda': 4.87017545915431}. Best is trial 75 with value: 109.82538950190927.\u001b[0m\n"
     ]
    },
    {
     "name": "stderr",
     "output_type": "stream",
     "text": [
      "C:\\Users\\jsubh\\AppData\\Local\\Temp/ipykernel_9704/1249244855.py:13: DeprecationWarning: `np.float` is a deprecated alias for the builtin `float`. To silence this warning, use `float` by itself. Doing this will not modify any behavior and is safe. If you specifically wanted the numpy scalar type, use `np.float64` here.\n",
      "Deprecated in NumPy 1.20; for more details and guidance: https://numpy.org/devdocs/release/1.20.0-notes.html#deprecations\n",
      "  rmse = np.float(re.search(r'[\\d.]+$', results).group(0))\n"
     ]
    },
    {
     "name": "stdout",
     "output_type": "stream",
     "text": [
      "\u001b[32m[I 2022-06-25 14:01:41,460]\u001b[0m Trial 89 finished with value: 255.99490272182803 and parameters: {'learning_rate': 0.0035718457939332925, 'max_depth': 5, 'alpha': 0.4297265192385504, 'lambda': 0.025670186693308637}. Best is trial 75 with value: 109.82538950190927.\u001b[0m\n"
     ]
    },
    {
     "name": "stderr",
     "output_type": "stream",
     "text": [
      "C:\\Users\\jsubh\\AppData\\Local\\Temp/ipykernel_9704/1249244855.py:13: DeprecationWarning: `np.float` is a deprecated alias for the builtin `float`. To silence this warning, use `float` by itself. Doing this will not modify any behavior and is safe. If you specifically wanted the numpy scalar type, use `np.float64` here.\n",
      "Deprecated in NumPy 1.20; for more details and guidance: https://numpy.org/devdocs/release/1.20.0-notes.html#deprecations\n",
      "  rmse = np.float(re.search(r'[\\d.]+$', results).group(0))\n"
     ]
    },
    {
     "name": "stdout",
     "output_type": "stream",
     "text": [
      "\u001b[32m[I 2022-06-25 14:01:42,110]\u001b[0m Trial 90 finished with value: 139.78718968074404 and parameters: {'learning_rate': 0.012047740940314144, 'max_depth': 4, 'alpha': 0.9930075597554288, 'lambda': 1.4852918039298247e-05}. Best is trial 75 with value: 109.82538950190927.\u001b[0m\n"
     ]
    },
    {
     "name": "stderr",
     "output_type": "stream",
     "text": [
      "C:\\Users\\jsubh\\AppData\\Local\\Temp/ipykernel_9704/1249244855.py:13: DeprecationWarning: `np.float` is a deprecated alias for the builtin `float`. To silence this warning, use `float` by itself. Doing this will not modify any behavior and is safe. If you specifically wanted the numpy scalar type, use `np.float64` here.\n",
      "Deprecated in NumPy 1.20; for more details and guidance: https://numpy.org/devdocs/release/1.20.0-notes.html#deprecations\n",
      "  rmse = np.float(re.search(r'[\\d.]+$', results).group(0))\n"
     ]
    },
    {
     "name": "stdout",
     "output_type": "stream",
     "text": [
      "\u001b[32m[I 2022-06-25 14:01:42,809]\u001b[0m Trial 91 finished with value: 119.32490456445261 and parameters: {'learning_rate': 0.024039957394655337, 'max_depth': 4, 'alpha': 5.0988895797487634, 'lambda': 4.511700748526801}. Best is trial 75 with value: 109.82538950190927.\u001b[0m\n"
     ]
    },
    {
     "name": "stderr",
     "output_type": "stream",
     "text": [
      "C:\\Users\\jsubh\\AppData\\Local\\Temp/ipykernel_9704/1249244855.py:13: DeprecationWarning: `np.float` is a deprecated alias for the builtin `float`. To silence this warning, use `float` by itself. Doing this will not modify any behavior and is safe. If you specifically wanted the numpy scalar type, use `np.float64` here.\n",
      "Deprecated in NumPy 1.20; for more details and guidance: https://numpy.org/devdocs/release/1.20.0-notes.html#deprecations\n",
      "  rmse = np.float(re.search(r'[\\d.]+$', results).group(0))\n"
     ]
    },
    {
     "name": "stdout",
     "output_type": "stream",
     "text": [
      "\u001b[32m[I 2022-06-25 14:01:43,400]\u001b[0m Trial 92 finished with value: 119.91594147124599 and parameters: {'learning_rate': 0.03024426566671317, 'max_depth': 4, 'alpha': 2.703832605807132, 'lambda': 4.979751201885426}. Best is trial 75 with value: 109.82538950190927.\u001b[0m\n"
     ]
    },
    {
     "name": "stderr",
     "output_type": "stream",
     "text": [
      "C:\\Users\\jsubh\\AppData\\Local\\Temp/ipykernel_9704/1249244855.py:13: DeprecationWarning: `np.float` is a deprecated alias for the builtin `float`. To silence this warning, use `float` by itself. Doing this will not modify any behavior and is safe. If you specifically wanted the numpy scalar type, use `np.float64` here.\n",
      "Deprecated in NumPy 1.20; for more details and guidance: https://numpy.org/devdocs/release/1.20.0-notes.html#deprecations\n",
      "  rmse = np.float(re.search(r'[\\d.]+$', results).group(0))\n"
     ]
    },
    {
     "name": "stdout",
     "output_type": "stream",
     "text": [
      "\u001b[32m[I 2022-06-25 14:01:44,024]\u001b[0m Trial 93 finished with value: 120.27247333496068 and parameters: {'learning_rate': 0.029556592863448663, 'max_depth': 4, 'alpha': 3.1198418428985626, 'lambda': 9.514460243025793}. Best is trial 75 with value: 109.82538950190927.\u001b[0m\n"
     ]
    },
    {
     "name": "stderr",
     "output_type": "stream",
     "text": [
      "C:\\Users\\jsubh\\AppData\\Local\\Temp/ipykernel_9704/1249244855.py:13: DeprecationWarning: `np.float` is a deprecated alias for the builtin `float`. To silence this warning, use `float` by itself. Doing this will not modify any behavior and is safe. If you specifically wanted the numpy scalar type, use `np.float64` here.\n",
      "Deprecated in NumPy 1.20; for more details and guidance: https://numpy.org/devdocs/release/1.20.0-notes.html#deprecations\n",
      "  rmse = np.float(re.search(r'[\\d.]+$', results).group(0))\n"
     ]
    },
    {
     "name": "stdout",
     "output_type": "stream",
     "text": [
      "\u001b[32m[I 2022-06-25 14:01:44,674]\u001b[0m Trial 94 finished with value: 122.3437980043228 and parameters: {'learning_rate': 0.017734353703503274, 'max_depth': 4, 'alpha': 4.836453128298707, 'lambda': 2.0605872567022634}. Best is trial 75 with value: 109.82538950190927.\u001b[0m\n"
     ]
    },
    {
     "name": "stderr",
     "output_type": "stream",
     "text": [
      "C:\\Users\\jsubh\\AppData\\Local\\Temp/ipykernel_9704/1249244855.py:13: DeprecationWarning: `np.float` is a deprecated alias for the builtin `float`. To silence this warning, use `float` by itself. Doing this will not modify any behavior and is safe. If you specifically wanted the numpy scalar type, use `np.float64` here.\n",
      "Deprecated in NumPy 1.20; for more details and guidance: https://numpy.org/devdocs/release/1.20.0-notes.html#deprecations\n",
      "  rmse = np.float(re.search(r'[\\d.]+$', results).group(0))\n",
      "C:\\Users\\jsubh\\AppData\\Local\\Temp/ipykernel_9704/1249244855.py:13: DeprecationWarning: `np.float` is a deprecated alias for the builtin `float`. To silence this warning, use `float` by itself. Doing this will not modify any behavior and is safe. If you specifically wanted the numpy scalar type, use `np.float64` here.\n",
      "Deprecated in NumPy 1.20; for more details and guidance: https://numpy.org/devdocs/release/1.20.0-notes.html#deprecations\n",
      "  rmse = np.float(re.search(r'[\\d.]+$', results).group(0))\n"
     ]
    },
    {
     "name": "stdout",
     "output_type": "stream",
     "text": [
      "\u001b[32m[I 2022-06-25 14:01:45,315]\u001b[0m Trial 95 finished with value: 118.76812633133153 and parameters: {'learning_rate': 0.04109049926712204, 'max_depth': 4, 'alpha': 2.629154359731489, 'lambda': 1.2917929013998242}. Best is trial 75 with value: 109.82538950190927.\u001b[0m\n",
      "\u001b[32m[I 2022-06-25 14:01:45,497]\u001b[0m Trial 96 finished with value: 132.81502372450373 and parameters: {'learning_rate': 0.10676368577860527, 'max_depth': 4, 'alpha': 2.732174268114558, 'lambda': 1.4210974862914054}. Best is trial 75 with value: 109.82538950190927.\u001b[0m\n"
     ]
    },
    {
     "name": "stderr",
     "output_type": "stream",
     "text": [
      "C:\\Users\\jsubh\\AppData\\Local\\Temp/ipykernel_9704/1249244855.py:13: DeprecationWarning: `np.float` is a deprecated alias for the builtin `float`. To silence this warning, use `float` by itself. Doing this will not modify any behavior and is safe. If you specifically wanted the numpy scalar type, use `np.float64` here.\n",
      "Deprecated in NumPy 1.20; for more details and guidance: https://numpy.org/devdocs/release/1.20.0-notes.html#deprecations\n",
      "  rmse = np.float(re.search(r'[\\d.]+$', results).group(0))\n"
     ]
    },
    {
     "name": "stdout",
     "output_type": "stream",
     "text": [
      "\u001b[32m[I 2022-06-25 14:01:45,830]\u001b[0m Trial 97 finished with value: 124.8893442444214 and parameters: {'learning_rate': 0.06041419751484098, 'max_depth': 4, 'alpha': 1.6721714289343086, 'lambda': 0.5615063510391823}. Best is trial 75 with value: 109.82538950190927.\u001b[0m\n"
     ]
    },
    {
     "name": "stderr",
     "output_type": "stream",
     "text": [
      "C:\\Users\\jsubh\\AppData\\Local\\Temp/ipykernel_9704/1249244855.py:13: DeprecationWarning: `np.float` is a deprecated alias for the builtin `float`. To silence this warning, use `float` by itself. Doing this will not modify any behavior and is safe. If you specifically wanted the numpy scalar type, use `np.float64` here.\n",
      "Deprecated in NumPy 1.20; for more details and guidance: https://numpy.org/devdocs/release/1.20.0-notes.html#deprecations\n",
      "  rmse = np.float(re.search(r'[\\d.]+$', results).group(0))\n"
     ]
    },
    {
     "name": "stdout",
     "output_type": "stream",
     "text": [
      "\u001b[32m[I 2022-06-25 14:01:46,472]\u001b[0m Trial 98 finished with value: 165.58411928259636 and parameters: {'learning_rate': 0.14797299207400627, 'max_depth': 8, 'alpha': 0.8921566518191127, 'lambda': 2.805542142641182}. Best is trial 75 with value: 109.82538950190927.\u001b[0m\n"
     ]
    },
    {
     "name": "stderr",
     "output_type": "stream",
     "text": [
      "C:\\Users\\jsubh\\AppData\\Local\\Temp/ipykernel_9704/1249244855.py:13: DeprecationWarning: `np.float` is a deprecated alias for the builtin `float`. To silence this warning, use `float` by itself. Doing this will not modify any behavior and is safe. If you specifically wanted the numpy scalar type, use `np.float64` here.\n",
      "Deprecated in NumPy 1.20; for more details and guidance: https://numpy.org/devdocs/release/1.20.0-notes.html#deprecations\n",
      "  rmse = np.float(re.search(r'[\\d.]+$', results).group(0))\n"
     ]
    },
    {
     "name": "stdout",
     "output_type": "stream",
     "text": [
      "\u001b[32m[I 2022-06-25 14:01:47,110]\u001b[0m Trial 99 finished with value: 156.9270805585762 and parameters: {'learning_rate': 0.009788939535171922, 'max_depth': 4, 'alpha': 7.46299903641194, 'lambda': 1.1679888556408087}. Best is trial 75 with value: 109.82538950190927.\u001b[0m\n"
     ]
    }
   ],
   "source": [
    "study = optuna.create_study()\n",
    "study.optimize(objective, n_trials=100, show_progress_bar=True)"
   ]
  },
  {
   "cell_type": "code",
   "execution_count": 105,
   "id": "049a24ac",
   "metadata": {},
   "outputs": [
    {
     "data": {
      "text/plain": [
       "{'learning_rate': 0.1769431737652975,\n",
       " 'max_depth': 4,\n",
       " 'alpha': 7.437789516065986,\n",
       " 'lambda': 2.3718442299784837}"
      ]
     },
     "execution_count": 105,
     "metadata": {},
     "output_type": "execute_result"
    }
   ],
   "source": [
    "best_params = study.best_params\n",
    "best_params"
   ]
  },
  {
   "cell_type": "code",
   "execution_count": 106,
   "id": "dfd03b5b",
   "metadata": {},
   "outputs": [
    {
     "name": "stdout",
     "output_type": "stream",
     "text": [
      "Lowest RMSE : 109.82538950190927\n"
     ]
    }
   ],
   "source": [
    "print('Lowest RMSE : {}'.format(study.best_trial.value))"
   ]
  },
  {
   "cell_type": "code",
   "execution_count": 107,
   "id": "6dfba5ae",
   "metadata": {},
   "outputs": [
    {
     "name": "stdout",
     "output_type": "stream",
     "text": [
      "[0]\teval-rmse:299.62583\n",
      "[1]\teval-rmse:250.39842\n",
      "[2]\teval-rmse:212.75456\n",
      "[3]\teval-rmse:182.91163\n",
      "[4]\teval-rmse:163.01688\n",
      "[5]\teval-rmse:149.89281\n",
      "[6]\teval-rmse:137.43360\n",
      "[7]\teval-rmse:130.44671\n",
      "[8]\teval-rmse:126.33099\n",
      "[9]\teval-rmse:127.51403\n",
      "[10]\teval-rmse:129.05926\n",
      "[11]\teval-rmse:128.88437\n",
      "[12]\teval-rmse:127.15989\n",
      "[13]\teval-rmse:127.04204\n",
      "[14]\teval-rmse:124.97891\n",
      "[15]\teval-rmse:121.06743\n",
      "[16]\teval-rmse:117.38742\n",
      "[17]\teval-rmse:115.94200\n",
      "[18]\teval-rmse:115.32951\n",
      "[19]\teval-rmse:112.57965\n",
      "[20]\teval-rmse:112.18541\n",
      "[21]\teval-rmse:111.95819\n",
      "[22]\teval-rmse:112.01860\n",
      "[23]\teval-rmse:112.27959\n",
      "[24]\teval-rmse:112.15739\n",
      "[25]\teval-rmse:112.05266\n",
      "[26]\teval-rmse:111.37685\n",
      "[27]\teval-rmse:111.26261\n",
      "[28]\teval-rmse:109.58414\n",
      "[29]\teval-rmse:109.59163\n",
      "[30]\teval-rmse:109.55414\n",
      "[31]\teval-rmse:109.55691\n",
      "[32]\teval-rmse:109.57831\n",
      "[33]\teval-rmse:109.83630\n",
      "[34]\teval-rmse:109.99550\n",
      "[35]\teval-rmse:109.29982\n",
      "[36]\teval-rmse:108.96456\n",
      "[37]\teval-rmse:108.14040\n",
      "[38]\teval-rmse:108.17512\n",
      "[39]\teval-rmse:108.19331\n",
      "[40]\teval-rmse:108.20798\n",
      "[41]\teval-rmse:107.98275\n",
      "[42]\teval-rmse:107.85835\n",
      "[43]\teval-rmse:108.53516\n",
      "[44]\teval-rmse:108.39932\n",
      "[45]\teval-rmse:108.58465\n",
      "[46]\teval-rmse:108.59333\n",
      "[47]\teval-rmse:108.78326\n",
      "[48]\teval-rmse:109.67755\n",
      "[49]\teval-rmse:109.23011\n",
      "[50]\teval-rmse:109.21731\n",
      "[51]\teval-rmse:109.25891\n",
      "[52]\teval-rmse:109.82539\n"
     ]
    }
   ],
   "source": [
    "model = xgb.train(best_params, dtrain, num_boost_round=10000, evals=[(dval, 'eval')], early_stopping_rounds=10)"
   ]
  },
  {
   "cell_type": "code",
   "execution_count": 108,
   "id": "6b57ecfc",
   "metadata": {},
   "outputs": [
    {
     "name": "stderr",
     "output_type": "stream",
     "text": [
      "C:\\Users\\jsubh\\AppData\\Local\\Temp/ipykernel_9704/560835321.py:1: DeprecationWarning: `np.float` is a deprecated alias for the builtin `float`. To silence this warning, use `float` by itself. Doing this will not modify any behavior and is safe. If you specifically wanted the numpy scalar type, use `np.float64` here.\n",
      "Deprecated in NumPy 1.20; for more details and guidance: https://numpy.org/devdocs/release/1.20.0-notes.html#deprecations\n",
      "  y_actual = np.array(y_test, dtype=np.float)\n",
      "C:\\Users\\jsubh\\AppData\\Local\\Temp/ipykernel_9704/560835321.py:2: DeprecationWarning: `np.float` is a deprecated alias for the builtin `float`. To silence this warning, use `float` by itself. Doing this will not modify any behavior and is safe. If you specifically wanted the numpy scalar type, use `np.float64` here.\n",
      "Deprecated in NumPy 1.20; for more details and guidance: https://numpy.org/devdocs/release/1.20.0-notes.html#deprecations\n",
      "  y_pred = np.array(model.predict(dtest), dtype=np.float)\n"
     ]
    }
   ],
   "source": [
    "y_actual = np.array(y_test, dtype=np.float)\n",
    "y_pred = np.array(model.predict(dtest), dtype=np.float)"
   ]
  },
  {
   "cell_type": "code",
   "execution_count": 109,
   "id": "203e7c68",
   "metadata": {},
   "outputs": [
    {
     "data": {
      "text/plain": [
       "array([1., 1., 1., ..., 1., 1., 1.])"
      ]
     },
     "execution_count": 109,
     "metadata": {},
     "output_type": "execute_result"
    }
   ],
   "source": [
    "y_actual"
   ]
  },
  {
   "cell_type": "code",
   "execution_count": 110,
   "id": "a4d5f316",
   "metadata": {},
   "outputs": [
    {
     "data": {
      "text/plain": [
       "array([-29.17473602, -27.9591198 , -18.45631981, ..., -78.90161896,\n",
       "       -78.90161896, -83.871315  ])"
      ]
     },
     "execution_count": 110,
     "metadata": {},
     "output_type": "execute_result"
    }
   ],
   "source": [
    "y_pred"
   ]
  },
  {
   "cell_type": "code",
   "execution_count": 111,
   "id": "8a0ae3a3",
   "metadata": {},
   "outputs": [
    {
     "data": {
      "text/html": [
       "<div>\n",
       "<style scoped>\n",
       "    .dataframe tbody tr th:only-of-type {\n",
       "        vertical-align: middle;\n",
       "    }\n",
       "\n",
       "    .dataframe tbody tr th {\n",
       "        vertical-align: top;\n",
       "    }\n",
       "\n",
       "    .dataframe thead th {\n",
       "        text-align: right;\n",
       "    }\n",
       "</style>\n",
       "<table border=\"1\" class=\"dataframe\">\n",
       "  <thead>\n",
       "    <tr style=\"text-align: right;\">\n",
       "      <th></th>\n",
       "      <th>UNIXTime</th>\n",
       "      <th>Actual</th>\n",
       "      <th>Predicted</th>\n",
       "    </tr>\n",
       "  </thead>\n",
       "  <tbody>\n",
       "    <tr>\n",
       "      <th>31500</th>\n",
       "      <td>1482907849</td>\n",
       "      <td>1</td>\n",
       "      <td>-29.174736</td>\n",
       "    </tr>\n",
       "    <tr>\n",
       "      <th>31501</th>\n",
       "      <td>1482908140</td>\n",
       "      <td>1</td>\n",
       "      <td>-27.959120</td>\n",
       "    </tr>\n",
       "    <tr>\n",
       "      <th>31502</th>\n",
       "      <td>1482908450</td>\n",
       "      <td>1</td>\n",
       "      <td>-18.456320</td>\n",
       "    </tr>\n",
       "    <tr>\n",
       "      <th>31503</th>\n",
       "      <td>1482908740</td>\n",
       "      <td>1</td>\n",
       "      <td>-14.868276</td>\n",
       "    </tr>\n",
       "    <tr>\n",
       "      <th>31504</th>\n",
       "      <td>1482909050</td>\n",
       "      <td>1</td>\n",
       "      <td>-28.609449</td>\n",
       "    </tr>\n",
       "    <tr>\n",
       "      <th>...</th>\n",
       "      <td>...</td>\n",
       "      <td>...</td>\n",
       "      <td>...</td>\n",
       "    </tr>\n",
       "    <tr>\n",
       "      <th>32681</th>\n",
       "      <td>1483263302</td>\n",
       "      <td>1</td>\n",
       "      <td>-72.572350</td>\n",
       "    </tr>\n",
       "    <tr>\n",
       "      <th>32682</th>\n",
       "      <td>1483263601</td>\n",
       "      <td>1</td>\n",
       "      <td>-58.531624</td>\n",
       "    </tr>\n",
       "    <tr>\n",
       "      <th>32683</th>\n",
       "      <td>1483263904</td>\n",
       "      <td>1</td>\n",
       "      <td>-78.901619</td>\n",
       "    </tr>\n",
       "    <tr>\n",
       "      <th>32684</th>\n",
       "      <td>1483264203</td>\n",
       "      <td>1</td>\n",
       "      <td>-78.901619</td>\n",
       "    </tr>\n",
       "    <tr>\n",
       "      <th>32685</th>\n",
       "      <td>1483264501</td>\n",
       "      <td>1</td>\n",
       "      <td>-83.871315</td>\n",
       "    </tr>\n",
       "  </tbody>\n",
       "</table>\n",
       "<p>1186 rows × 3 columns</p>\n",
       "</div>"
      ],
      "text/plain": [
       "         UNIXTime  Actual  Predicted\n",
       "31500  1482907849       1 -29.174736\n",
       "31501  1482908140       1 -27.959120\n",
       "31502  1482908450       1 -18.456320\n",
       "31503  1482908740       1 -14.868276\n",
       "31504  1482909050       1 -28.609449\n",
       "...           ...     ...        ...\n",
       "32681  1483263302       1 -72.572350\n",
       "32682  1483263601       1 -58.531624\n",
       "32683  1483263904       1 -78.901619\n",
       "32684  1483264203       1 -78.901619\n",
       "32685  1483264501       1 -83.871315\n",
       "\n",
       "[1186 rows x 3 columns]"
      ]
     },
     "execution_count": 111,
     "metadata": {},
     "output_type": "execute_result"
    }
   ],
   "source": [
    "Result=pd.DataFrame({'UNIXTime':X_test['UNIXTime'], 'Actual':y_test, 'Predicted':y_pred})\n",
    "Result"
   ]
  },
  {
   "cell_type": "code",
   "execution_count": 112,
   "id": "621bc6ed",
   "metadata": {},
   "outputs": [
    {
     "data": {
      "text/plain": [
       "0.6819591771492336"
      ]
     },
     "execution_count": 112,
     "metadata": {},
     "output_type": "execute_result"
    }
   ],
   "source": [
    "from sklearn.metrics import r2_score\n",
    "\n",
    "r2_score(y_actual, y_pred)"
   ]
  },
  {
   "cell_type": "code",
   "execution_count": 113,
   "id": "14035de1",
   "metadata": {},
   "outputs": [
    {
     "data": {
      "image/png": "[encoded data removed]",
      "text/plain": [
       "<Figure size 1800x576 with 1 Axes>"
      ]
     },
     "metadata": {},
     "output_type": "display_data"
    }
   ],
   "source": [
    "plt.figure(figsize=(25,8),facecolor='white')\n",
    "plt.plot( Result['Actual'], color='red',label='Actual')\n",
    "plt.plot( Result['Predicted'], color='blue',label='Predicted')\n",
    "plt.ylabel('Radiation(W/m2)')\n",
    "plt.title('Performance of different models in prediction of Radiation for corresponding UNIXTime')\n",
    "plt.xlabel('UNIXTime')\n",
    "plt.legend()\n",
    "plt.show()"
   ]
  },
  {
   "cell_type": "code",
   "execution_count": null,
   "id": "619596d9",
   "metadata": {},
   "outputs": [],
   "source": []
  }
 ],
 "metadata": {
  "kernelspec": {
   "display_name": "Python 3 (ipykernel)",
   "language": "python",
   "name": "python3"
  },
  "language_info": {
   "codemirror_mode": {
    "name": "ipython",
    "version": 3
   },
   "file_extension": ".py",
   "mimetype": "text/x-python",
   "name": "python",
   "nbconvert_exporter": "python",
   "pygments_lexer": "ipython3",
   "version": "3.9.7"
  }
 },
 "nbformat": 4,
 "nbformat_minor": 5
}
